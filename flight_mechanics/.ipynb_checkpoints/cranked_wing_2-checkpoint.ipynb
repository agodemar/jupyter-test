{
 "cells": [
  {
   "cell_type": "markdown",
   "metadata": {},
   "source": [
    "# Anatomy of a cranked wing (Cont'd)"
   ]
  },
  {
   "cell_type": "markdown",
   "metadata": {},
   "source": [
    "— Agostino De Marco, <font color='darkblue'><i>University of Naples Federico II, Dept. Industrial Engineering</i></font>"
   ]
  },
  {
   "cell_type": "markdown",
   "metadata": {},
   "source": [
    "Retrieve data produced by notebook: `cranked_wing.pynb`"
   ]
  },
  {
   "cell_type": "code",
   "execution_count": 12,
   "metadata": {
    "collapsed": false
   },
   "outputs": [
    {
     "name": "stdout",
     "output_type": "stream",
     "text": [
      "-------- Database content, key => value --------\n",
      "c_r => 5.5\n",
      "S_ref => 82.60000000000001\n",
      "c_k => 2.4\n",
      "b_k => 14.0\n",
      "Lambda_le_1 => 0.41887902047863906\n",
      "c_t => 1.5\n",
      "Lambda_le_2 => 0.41887902047863906\n",
      "b => 28\n",
      "c_mac => 3.436158192090395\n"
     ]
    }
   ],
   "source": [
    "%run ./src/cranked_wing/init.py\n",
    "%run ./src/wing_functions.py\n",
    "\n",
    "# https://docs.python.org/3.5/library/shelve.html\n",
    "import shelve\n",
    "store = shelve.open('cranked_wing_store', flag='r')\n",
    "\n",
    "print('-------- Database content, key => value --------')\n",
    "for key in store:\n",
    "    print(key, '=> {0}'.format(store[key]))\n",
    "\n",
    "c_r = store['c_r']\n",
    "c_k = store['c_k']\n",
    "c_t = store['c_t']\n",
    "b_k = store['b_k']\n",
    "b = store['b']\n",
    "Lambda_le_2 = store['Lambda_le_1']\n",
    "Lambda_le_2 = store['Lambda_le_2']\n",
    "# f_chord = store['f_chord']\n",
    "S_ref = store['S_ref']\n",
    "c_mac = store['c_mac']\n",
    "store.close()"
   ]
  },
  {
   "cell_type": "code",
   "execution_count": 4,
   "metadata": {
    "collapsed": false
   },
   "outputs": [
    {
     "name": "stdout",
     "output_type": "stream",
     "text": [
      "S_ref = 82.60000000000001 m^2\n",
      "c_mac = 3.436158192090395 m\n"
     ]
    }
   ],
   "source": [
    "print('S_ref = {0} m^2'.format(S_ref))\n",
    "print('c_mac = {0} m'.format(c_mac))"
   ]
  },
  {
   "cell_type": "code",
   "execution_count": null,
   "metadata": {
    "collapsed": true
   },
   "outputs": [],
   "source": []
  }
 ],
 "metadata": {
  "kernelspec": {
   "display_name": "Python 3",
   "language": "python",
   "name": "python3"
  },
  "language_info": {
   "codemirror_mode": {
    "name": "ipython",
    "version": 3
   },
   "file_extension": ".py",
   "mimetype": "text/x-python",
   "name": "python",
   "nbconvert_exporter": "python",
   "pygments_lexer": "ipython3",
   "version": "3.5.1"
  }
 },
 "nbformat": 4,
 "nbformat_minor": 0
}
