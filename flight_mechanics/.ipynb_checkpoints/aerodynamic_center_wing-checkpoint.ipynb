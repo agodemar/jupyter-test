{
 "cells": [
  {
   "cell_type": "markdown",
   "metadata": {},
   "source": [
    "# The aerodynamic center of a finite wing"
   ]
  },
  {
   "cell_type": "markdown",
   "metadata": {},
   "source": [
    "For a finite wing we define an axis orthogonal to the wing's symmetry plane and passing through the point $P_{\\mathrm{ac,W}}$ of coordinates $(X_{\\mathrm{ac,W}},0,0)$. The pitching moment coefficient about this axis does not vary with the angle of attack and $P_{\\mathrm{ac,W}}$ is colled the aerodynamic center of the wing.\n"
   ]
  },
  {
   "cell_type": "markdown",
   "metadata": {},
   "source": [
    "We will use the Python language to work out our examples, so we set up some Python tools first."
   ]
  },
  {
   "cell_type": "code",
   "execution_count": 15,
   "metadata": {
    "collapsed": true
   },
   "outputs": [],
   "source": [
    "# load libraries and set plot parameters\n",
    "import math\n",
    "import numpy as np\n",
    "import tables as pt\n",
    "\n",
    "from sympy import *\n",
    "\n",
    "from IPython.display import display, Math, Latex, SVG\n",
    "\n",
    "import matplotlib.pyplot as plt\n",
    "from matplotlib.patches import Polygon\n",
    "%matplotlib inline\n",
    "\n",
    "from IPython.display import set_matplotlib_formats\n",
    "set_matplotlib_formats('pdf', 'png')\n",
    "plt.rcParams['savefig.dpi'] = 75\n",
    "\n",
    "plt.rcParams['figure.autolayout'] = False\n",
    "plt.rcParams['figure.figsize'] = 10, 6\n",
    "plt.rcParams['axes.labelsize'] = 18\n",
    "plt.rcParams['axes.titlesize'] = 20\n",
    "plt.rcParams['font.size'] = 16\n",
    "plt.rcParams['lines.linewidth'] = 2.0\n",
    "plt.rcParams['lines.markersize'] = 8\n",
    "plt.rcParams['legend.fontsize'] = 14\n",
    "\n",
    "plt.rcParams['text.usetex'] = True\n",
    "plt.rcParams['font.family'] = \"serif\"\n",
    "plt.rcParams['font.serif'] = \"cm\"\n",
    "# plt.rcParams['text.latex.preamble'] = \"\\usepackage{subdepth}, \\usepackage{type1cm}\""
   ]
  },
  {
   "cell_type": "markdown",
   "metadata": {},
   "source": [
    "Let us know import the digitized data necessary to work out our numerical examples."
   ]
  },
  {
   "cell_type": "code",
   "execution_count": 18,
   "metadata": {
    "collapsed": false
   },
   "outputs": [
    {
     "name": "stdout",
     "output_type": "stream",
     "text": [
      "(x_bar_ac_w)_k1_vs_lambda/var_0\n",
      "shape of var0: (11,)\n",
      "(x_bar_ac_w)_k1_vs_lambda/data\n",
      "shape of data: (11,)\n",
      "lambda --> K1\n",
      "0.0\t1.5\n",
      "0.10000000149011612\t1.4795900583267212\n",
      "0.20000000298023224\t1.4441499710083008\n",
      "0.30000001192092896\t1.3989499807357788\n",
      "0.4000000059604645\t1.3417400121688843\n",
      "0.5\t1.2830300331115723\n",
      "0.6000000238418579\t1.2213200330734253\n",
      "0.699999988079071\t1.1558599472045898\n",
      "0.800000011920929\t1.1001499891281128\n",
      "0.8999999761581421\t1.0421899557113647\n",
      "1.0\t1.0\n",
      "=====================================\n",
      "(x_bar_ac_w)_k2_vs_L_LE_(AR)_(lambda)/var_0\n",
      "shape of var0: (6,)\n",
      "(x_bar_ac_w)_k2_vs_L_LE_(AR)_(lambda)/var_1\n",
      "shape of data: (6,)\n",
      "(x_bar_ac_w)_k2_vs_L_LE_(AR)_(lambda)/var_2\n",
      "shape of data: (10,)\n",
      "(x_bar_ac_w)_k2_vs_L_LE_(AR)_(lambda)/data\n",
      "shape of data: (10, 6, 6)\n"
     ]
    }
   ],
   "source": [
    "import h5py\n",
    "import numpy as np\n",
    "\n",
    "fileName = \"./resources/wing_aerodynamic_center.h5\"\n",
    "f = h5py.File(fileName,'r',libver='latest')\n",
    "\n",
    "# K1\n",
    "dset_data_K1 = f[\"(x_bar_ac_w)_k1_vs_lambda/data\"]\n",
    "dset_var0_K1 = f[\"(x_bar_ac_w)_k1_vs_lambda/var_0\"]\n",
    "\n",
    "shape_data_K1 = dset_data_K1.shape\n",
    "shape_var0_K1 = dset_var0_K1.shape\n",
    "\n",
    "print('(x_bar_ac_w)_k1_vs_lambda/var_0')\n",
    "print('shape of var0: {0}'.format(shape_var0_K1))\n",
    "print('(x_bar_ac_w)_k1_vs_lambda/data')\n",
    "print('shape of data: {0}'.format(shape_data_K1))\n",
    "\"\"\"\n",
    "print('lambda --> K1')\n",
    "for i in range(shape_var0_K1[0]):\n",
    "    print('{0}\\t{1}'.format(dset_var0_K1[i],dset_data_K1[i]))\n",
    "\"\"\"\n",
    "\n",
    "# K2\n",
    "dset_data_K2 = f[\"(x_bar_ac_w)_k2_vs_L_LE_(AR)_(lambda)/data\"]\n",
    "dset_var0_K2 = f[\"(x_bar_ac_w)_k2_vs_L_LE_(AR)_(lambda)/var_0\"]\n",
    "dset_var1_K2 = f[\"(x_bar_ac_w)_k2_vs_L_LE_(AR)_(lambda)/var_1\"]\n",
    "dset_var2_K2 = f[\"(x_bar_ac_w)_k2_vs_L_LE_(AR)_(lambda)/var_2\"]\n",
    "\n",
    "shape_data_K2 = dset_data_K2.shape\n",
    "shape_var0_K2 = dset_var0_K2.shape\n",
    "shape_var1_K2 = dset_var1_K2.shape\n",
    "shape_var2_K2 = dset_var2_K2.shape\n",
    "\n",
    "print('=====================================')\n",
    "\n",
    "print('(x_bar_ac_w)_k2_vs_L_LE_(AR)_(lambda)/var_0')\n",
    "print('shape of var0: {0}'.format(shape_var0_K2))\n",
    "print('(x_bar_ac_w)_k2_vs_L_LE_(AR)_(lambda)/var_1')\n",
    "print('shape of data: {0}'.format(shape_var1_K2))\n",
    "print('(x_bar_ac_w)_k2_vs_L_LE_(AR)_(lambda)/var_2')\n",
    "print('shape of data: {0}'.format(shape_var2_K2))\n",
    "print('(x_bar_ac_w)_k2_vs_L_LE_(AR)_(lambda)/data')\n",
    "print('shape of data: {0}'.format(shape_data_K2))\n",
    "\n",
    "\n"
   ]
  },
  {
   "cell_type": "code",
   "execution_count": null,
   "metadata": {
    "collapsed": true
   },
   "outputs": [],
   "source": []
  }
 ],
 "metadata": {
  "kernelspec": {
   "display_name": "Python 3",
   "language": "python",
   "name": "python3"
  },
  "language_info": {
   "codemirror_mode": {
    "name": "ipython",
    "version": 3
   },
   "file_extension": ".py",
   "mimetype": "text/x-python",
   "name": "python",
   "nbconvert_exporter": "python",
   "pygments_lexer": "ipython3",
   "version": "3.5.1"
  }
 },
 "nbformat": 4,
 "nbformat_minor": 0
}
