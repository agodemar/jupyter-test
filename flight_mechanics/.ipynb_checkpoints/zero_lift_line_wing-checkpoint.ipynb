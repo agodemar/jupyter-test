{
 "cells": [
  {
   "cell_type": "code",
   "execution_count": 1,
   "metadata": {
    "code_folding": [
     0
    ],
    "collapsed": false,
    "run_control": {
     "marked": false
    }
   },
   "outputs": [],
   "source": [
    "# load libraries and set plot parameters\n",
    "import numpy as np\n",
    "import tables as pt\n",
    "\n",
    "from sympy import *\n",
    "\n",
    "from IPython.display import display, Math, Latex\n",
    "\n",
    "import matplotlib.pyplot as plt\n",
    "%matplotlib inline\n",
    "\n",
    "from IPython.display import set_matplotlib_formats\n",
    "set_matplotlib_formats('pdf', 'png')\n",
    "plt.rcParams['savefig.dpi'] = 75\n",
    "\n",
    "plt.rcParams['figure.autolayout'] = False\n",
    "plt.rcParams['figure.figsize'] = 10, 6\n",
    "plt.rcParams['axes.labelsize'] = 18\n",
    "plt.rcParams['axes.titlesize'] = 20\n",
    "plt.rcParams['font.size'] = 16\n",
    "plt.rcParams['lines.linewidth'] = 2.0\n",
    "plt.rcParams['lines.markersize'] = 8\n",
    "plt.rcParams['legend.fontsize'] = 14\n",
    "\n",
    "plt.rcParams['text.usetex'] = True\n",
    "plt.rcParams['font.family'] = \"serif\"\n",
    "plt.rcParams['font.serif'] = \"cm\"\n",
    "# plt.rcParams['text.latex.preamble'] = \"\\usepackage{subdepth}, \\usepackage{type1cm}\""
   ]
  },
  {
   "cell_type": "markdown",
   "metadata": {
    "collapsed": true
   },
   "source": [
    "# The zero-lift angle of a finite wing"
   ]
  },
  {
   "cell_type": "markdown",
   "metadata": {},
   "source": [
    "We call $\\alpha_{0L}$ the zero-lift angle of a wing. If the free-stream velocity has an angle $\\alpha_{\\mathrm{W}}=\\alpha_{0L}$ with respect to the wing root chord then the lift is zero: $C_L = 0$.\n",
    "\n",
    "The zero-lift angle of attack is given by the following formula:\n",
    "\n",
    "\\begin{equation}\n",
    "\\label{eq:AlphaZeroLift}\n",
    "\\alpha_{0L} \n",
    "  = \\frac{2}{S} \\int_0^{b/2} \n",
    "    \\left[\\alpha_{0\\ell}(y) - \\epsilon_{\\mathrm{g}}(y)\\right]\n",
    "    c(y) \\, \\mathrm{d}y\n",
    "\\end{equation}\n",
    "\n",
    "where $y$ is the generic coordinate along the wing span, $\\alpha_{0\\ell}(y)$ is the zero-lift angle of attack of the local airfoil at section, $\\epsilon_{\\mathrm{g}}(y)$ is the local section incidence with respect to the wing root chord, and $c(y)$ is the local chord."
   ]
  },
  {
   "cell_type": "markdown",
   "metadata": {},
   "source": [
    "## Numerical example"
   ]
  },
  {
   "cell_type": "markdown",
   "metadata": {},
   "source": [
    "Let us consider an example where we calculate (\\ref{eq:AlphaZeroLift}) numerically. "
   ]
  },
  {
   "cell_type": "code",
   "execution_count": 2,
   "metadata": {
    "collapsed": true,
    "run_control": {
     "marked": false
    }
   },
   "outputs": [],
   "source": [
    "c_r = 1.0; c_t = 0.5\n",
    "b = 7.5"
   ]
  },
  {
   "cell_type": "markdown",
   "metadata": {
    "variables": {
     "b": "7.5",
     "c_r": "1.0",
     "c_t": "0.5"
    }
   },
   "source": [
    "Our wing has a root chord $c_{\\mathrm{r}} = \\,${{c_r}}$\\,\\text{m}$, a span $b = \\,${{b}}$\\,\\text{m}$, and a tip chord $c_{\\mathrm{t}} = \\,${{c_t}}$\\,\\text{m}$."
   ]
  },
  {
   "cell_type": "code",
   "execution_count": 3,
   "metadata": {
    "collapsed": false
   },
   "outputs": [
    {
     "name": "stdout",
     "output_type": "stream",
     "text": [
      "Taper ratio: 0.5\n",
      "Wing area: 5.625 m^2\n",
      "Aspect ratio: 10.0\n"
     ]
    }
   ],
   "source": [
    "S = (c_r + c_t)*b/2\n",
    "taper_ratio = c_t/c_r\n",
    "AR = b*b/S\n",
    "print(\"Taper ratio: {0}\\nWing area: {1} m^2\\nAspect ratio: {2}\".format(taper_ratio,S,AR))"
   ]
  },
  {
   "cell_type": "markdown",
   "metadata": {
    "variables": {
     "S": "5.625",
     "taper_ratio": "0.5"
    }
   },
   "source": [
    "The reference wing area, given by the formula\n",
    "\\begin{equation}\n",
    "\\label{eq:WingSurface}\n",
    "S=( c_{\\mathrm{r}} + c_{\\mathrm{t}} )\\,\\frac{1}{2} b\n",
    "\\end{equation}\n",
    "\n",
    "becomes $S = \\,${{S}}$\\,\\text{m}^2$.\n",
    "The taper ratio\n",
    "\n",
    "\\begin{equation}\n",
    "\\label{eq:TaperRatio}\n",
    "\\lambda = \\frac{ c_{\\mathrm{t}} }{ c_{\\mathrm{r}} }\n",
    "\\end{equation}\n",
    "\n",
    "becomes $\\lambda = \\,${{taper_ratio}}."
   ]
  },
  {
   "cell_type": "code",
   "execution_count": 4,
   "metadata": {
    "collapsed": false,
    "run_control": {
     "marked": false
    }
   },
   "outputs": [
    {
     "name": "stdout",
     "output_type": "stream",
     "text": [
      "A_c: -0.13333333333333333\n",
      "B_c: 1.0 m\n"
     ]
    }
   ],
   "source": [
    "A_c = 2*(c_t - c_r)/b; B_c = c_r;\n",
    "print(\"A_c: {0}\\nB_c: {1} m\".format(A_c,B_c))"
   ]
  },
  {
   "cell_type": "markdown",
   "metadata": {
    "variables": {
     "A_c": "-0.13333333333333333",
     "B_c": "1.0"
    }
   },
   "source": [
    "The law of the chords\n",
    "\n",
    "\\begin{equation}\n",
    "\\label{eq:ChordsLaw}\n",
    "c(y) = A_c \\, y + B_c\n",
    "\\end{equation}\n",
    "\n",
    "with \n",
    "\n",
    "\\begin{equation}\n",
    "\\label{eq:ChordsLawAB}\n",
    "A_c = \\frac{2}{b} \\left( c_{\\mathrm{t}} - c_{\\mathrm{r}} \\right)\n",
    "  \\;\\;,\\qquad \n",
    "  B_c = c_{\\mathrm{r}}\n",
    "\\end{equation}\n",
    "\n",
    "becomes $c(y) = \\,${{A_c}}$\\,y + \\,${{B_c}}$\\,\\text{m}$.\n",
    "\n"
   ]
  },
  {
   "cell_type": "code",
   "execution_count": 5,
   "metadata": {
    "collapsed": false
   },
   "outputs": [
    {
     "name": "stdout",
     "output_type": "stream",
     "text": [
      "- 0.0666666666666667 y^{2} + 1.0 y\n",
      "5.62500000000000\n"
     ]
    }
   ],
   "source": [
    "y = Symbol('y')\n",
    "ltx_int = latex(integrate(A_c*y + B_c,y))\n",
    "int_def = 2*integrate(A_c*y + B_c,(y,0,b/2))\n",
    "print(ltx_int)\n",
    "print(int_def)"
   ]
  },
  {
   "cell_type": "code",
   "execution_count": 6,
   "metadata": {
    "code_folding": [],
    "collapsed": false
   },
   "outputs": [
    {
     "data": {
      "text/latex": [
       "$$S = 2 \\int_0^{3.75} \\left(-0.13333333333333333y + 1.0\\right)\\,\\text{d}y =2\\left(- 0.0666666666666667 y^{2} + 1.0 y\\right)\\Bigr|_0^{3.75}=5.625\\,\\text{m}^2$$"
      ],
      "text/plain": [
       "<IPython.core.display.Math object>"
      ]
     },
     "metadata": {},
     "output_type": "display_data"
    }
   ],
   "source": [
    "display(\n",
    "    Math(\n",
    "        r'S = 2 \\int_0^{'+str(b/2)+'} \\left(' \n",
    "        + str(A_c) + 'y + ' + str(B_c)\n",
    "        + r'\\right)\\,\\text{d}y =' \n",
    "        + r'2\\left(' + ltx_int + r'\\right)\\Bigr|_0^{'+str(b/2)+'}'\n",
    "        + '=' + str(S) + r'\\,\\text{m}^2'\n",
    "    ))"
   ]
  },
  {
   "cell_type": "code",
   "execution_count": 7,
   "metadata": {
    "code_folding": [],
    "collapsed": false
   },
   "outputs": [
    {
     "data": {
      "text/latex": [
       "\\begin{equation}S = 2 \\int_0^{3.75} \\left(-0.13333333333333333y + 1.0\\right)\\,\\text{d}y =2\\left(- 0.0666666666666667 y^{2} + 1.0 y\\right)\\Bigr|_0^{3.75}=5.625\\,\\text{m}^2\\end{equation}"
      ],
      "text/plain": [
       "<IPython.core.display.Latex object>"
      ]
     },
     "execution_count": 7,
     "metadata": {},
     "output_type": "execute_result"
    }
   ],
   "source": [
    "Latex(\n",
    "    r'\\begin{equation}'\n",
    "    + r'S = 2 \\int_0^{'+str(b/2)+'} \\left(' \n",
    "    + str(A_c) + 'y + ' + str(B_c)\n",
    "    + r'\\right)\\,\\text{d}y =' \n",
    "    + r'2\\left(' + ltx_int + r'\\right)\\Bigr|_0^{'+str(b/2)+'}'\n",
    "    + '=' + str(S) + r'\\,\\text{m}^2'\n",
    "    +r'\\end{equation}'\n",
    "    )"
   ]
  },
  {
   "cell_type": "markdown",
   "metadata": {},
   "source": [
    "# Python markdown"
   ]
  },
  {
   "cell_type": "code",
   "execution_count": 8,
   "metadata": {
    "collapsed": true
   },
   "outputs": [],
   "source": [
    "from IPython.display import Latex\n",
    "aa = Latex('$\\int_0^\\infty a(x) dx$')"
   ]
  },
  {
   "cell_type": "markdown",
   "metadata": {
    "variables": {
     "aa": "$\\int_0^\\infty a(x) dx$"
    }
   },
   "source": [
    "The equation {{aa}} computer an integral."
   ]
  },
  {
   "cell_type": "markdown",
   "metadata": {},
   "source": [
    "See \n",
    "`https://github.com/ipython-contrib/IPython-notebook-extensions/wiki/Home-4.x-%28Jupyter%29`"
   ]
  },
  {
   "cell_type": "code",
   "execution_count": 9,
   "metadata": {
    "collapsed": false
   },
   "outputs": [
    {
     "name": "stdout",
     "output_type": "stream",
     "text": [
      "C:\\Users\\jyota\\.jupyter\n",
      "['C:\\\\Users\\\\jyota\\\\.jupyter', 'C:\\\\Users\\\\jyota\\\\Anaconda3\\\\etc\\\\jupyter', 'C:\\\\ProgramData\\\\jupyter']\n"
     ]
    }
   ],
   "source": [
    "from __future__ import print_function\n",
    "from jupyter_core.paths import jupyter_config_dir, jupyter_config_path\n",
    "print(jupyter_config_dir())\n",
    "print(jupyter_config_path())"
   ]
  },
  {
   "cell_type": "code",
   "execution_count": 10,
   "metadata": {
    "collapsed": false
   },
   "outputs": [
    {
     "name": "stdout",
     "output_type": "stream",
     "text": [
      "C:\\Users\\jyota\\AppData\\Roaming\\jupyter\n",
      "['C:\\\\Users\\\\jyota\\\\AppData\\\\Roaming\\\\jupyter', 'C:\\\\Users\\\\jyota\\\\Anaconda3\\\\share\\\\jupyter', 'C:\\\\ProgramData\\\\jupyter']\n"
     ]
    }
   ],
   "source": [
    "from __future__ import print_function\n",
    "from jupyter_core.paths import jupyter_data_dir, jupyter_path\n",
    "print(jupyter_data_dir())\n",
    "print(jupyter_path())"
   ]
  },
  {
   "cell_type": "code",
   "execution_count": 11,
   "metadata": {
    "collapsed": false
   },
   "outputs": [
    {
     "data": {
      "text/plain": [
       "True"
      ]
     },
     "execution_count": 11,
     "metadata": {},
     "output_type": "execute_result"
    }
   ],
   "source": [
    "import notebook\n",
    "notebook.nbextensions.check_nbextension('usability/codefolding', user=True)\n",
    "notebook.nbextensions.check_nbextension('usability/codefolding/main.js', user=True)"
   ]
  },
  {
   "cell_type": "code",
   "execution_count": 12,
   "metadata": {
    "collapsed": true
   },
   "outputs": [],
   "source": [
    "import notebook\n",
    "E = notebook.nbextensions.EnableNBExtensionApp()\n",
    "E.enable_nbextension('usability/codefolding/main')"
   ]
  },
  {
   "cell_type": "code",
   "execution_count": 13,
   "metadata": {
    "collapsed": true
   },
   "outputs": [],
   "source": [
    "a = 1.23"
   ]
  },
  {
   "cell_type": "markdown",
   "metadata": {
    "variables": {
     "a": "1.23"
    }
   },
   "source": [
    "a = {{a}}"
   ]
  },
  {
   "cell_type": "code",
   "execution_count": null,
   "metadata": {
    "collapsed": true
   },
   "outputs": [],
   "source": []
  }
 ],
 "metadata": {
  "kernelspec": {
   "display_name": "Python 3",
   "language": "python",
   "name": "python3"
  },
  "language_info": {
   "codemirror_mode": {
    "name": "ipython",
    "version": 3
   },
   "file_extension": ".py",
   "mimetype": "text/x-python",
   "name": "python",
   "nbconvert_exporter": "python",
   "pygments_lexer": "ipython3",
   "version": "3.5.1"
  },
  "latex_envs": {
   "bibliofile": "biblio.bib",
   "cite_by": "apalike",
   "current_citInitial": 1,
   "eqLabelWithNumbers": true,
   "eqNumInitial": 0
  }
 },
 "nbformat": 4,
 "nbformat_minor": 0
}
