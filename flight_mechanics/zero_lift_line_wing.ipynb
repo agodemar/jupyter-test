{
 "cells": [
  {
   "cell_type": "markdown",
   "metadata": {
    "collapsed": true
   },
   "source": [
    "# The zero-lift angle of a finite wing"
   ]
  },
  {
   "cell_type": "markdown",
   "metadata": {},
   "source": [
    "We call $\\alpha_{0L}$ the zero-lift angle of a wing. If the free-stream velocity has an angle $\\alpha_{\\mathrm{W}}=\\alpha_{0L}$ with respect to the wing root chord then the lift is zero: $C_L = 0$.\n",
    "\n",
    "Let us see a practical example:\n",
    "\\begin{equation}\n",
    "\\alpha_{0L} \n",
    "  = \\frac{2}{S} \\int_0^{b/2} \n",
    "    \\left[\\alpha_{0\\ell}(y) - \\epsilon_{\\mathrm{g}}(y)\\right]\n",
    "    c(y) \\, \\mathrm{d}y\n",
    "\\end{equation}"
   ]
  },
  {
   "cell_type": "code",
   "execution_count": null,
   "metadata": {
    "collapsed": true
   },
   "outputs": [],
   "source": []
  }
 ],
 "metadata": {
  "kernelspec": {
   "display_name": "Python 3",
   "language": "python",
   "name": "python3"
  },
  "language_info": {
   "codemirror_mode": {
    "name": "ipython",
    "version": 3
   },
   "file_extension": ".py",
   "mimetype": "text/x-python",
   "name": "python",
   "nbconvert_exporter": "python",
   "pygments_lexer": "ipython3",
   "version": "3.5.1"
  }
 },
 "nbformat": 4,
 "nbformat_minor": 0
}
