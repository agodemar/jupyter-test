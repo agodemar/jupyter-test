{
 "cells": [
  {
   "cell_type": "markdown",
   "metadata": {
    "collapsed": true
   },
   "source": [
    "# The zero-lift angle of a finite wing"
   ]
  },
  {
   "cell_type": "markdown",
   "metadata": {},
   "source": [
    "We call $\\alpha_{0L}$ the zero-lift angle of a wing. If the free-stream velocity has an angle $\\alpha_{\\mathrm{W}}=\\alpha_{0L}$ with respect to the wing root chord then the lift is zero: $C_L = 0$.\n",
    "\n",
    "The zero-lift angle of attack is given by the following formula:\n",
    "\n",
    "\\begin{equation}\n",
    "\\alpha_{0L} \n",
    "  = \\frac{2}{S} \\int_0^{b/2} \n",
    "    \\left[\\alpha_{0\\ell}(y) - \\epsilon_{\\mathrm{g}}(y)\\right]\n",
    "    c(y) \\, \\mathrm{d}y\n",
    "\\end{equation}\n",
    "\n",
    "where $y$ is the generic coordinate along the wing span, $\\alpha_{0\\ell}(y)$ is the zero-lift angle of attack of the local airfoil at section, $\\epsilon_{\\mathrm{g}}(y)$ is the local section incidence with respect to the wing root chord, and $c(y)$ is the local chord."
   ]
  },
  {
   "cell_type": "markdown",
   "metadata": {},
   "source": [
    "## Numerical example"
   ]
  },
  {
   "cell_type": "markdown",
   "metadata": {},
   "source": [
    "Let us consider a numerical example. Our wing has a root chord $c_{\\mathrm{r}} = 1.0\\,\\text{m}$, a span $b = 7.5\\,\\text{m}$, and a tip chord $c_{\\mathrm{t}} = 0.5\\,\\text{m}$."
   ]
  },
  {
   "cell_type": "code",
   "execution_count": 4,
   "metadata": {
    "collapsed": false
   },
   "outputs": [
    {
     "name": "stdout",
     "output_type": "stream",
     "text": [
      "Taper ratio: 0.5\n",
      "Wing area: 5.625 m^2\n",
      "Aspect ratio: 10.0\n"
     ]
    }
   ],
   "source": [
    "c_r = 1.0; c_t = 0.5\n",
    "b = 7.5\n",
    "S = (c_r + c_t)*b/2\n",
    "taper_ratio = c_t/c_r\n",
    "AR = b*b/S\n",
    "print(\"Taper ratio: {0}\\nWing area: {1} m^2\\nAspect ratio: {2}\".format(taper_ratio,S,AR))"
   ]
  },
  {
   "cell_type": "markdown",
   "metadata": {
    "variables": {
     "S": "5.625"
    }
   },
   "source": [
    "The wing surface is $S=\\,${{S}}$\\,\\text{m}^2$."
   ]
  },
  {
   "cell_type": "code",
   "execution_count": 11,
   "metadata": {
    "collapsed": true
   },
   "outputs": [],
   "source": [
    "from IPython.display import Latex\n",
    "aa = Latex('$\\int_0^\\infty a(x) dx$')"
   ]
  },
  {
   "cell_type": "markdown",
   "metadata": {
    "variables": {
     "aa": "$\\int_0^\\infty a(x) dx$"
    }
   },
   "source": [
    "The equation {{aa}} computer an integral."
   ]
  },
  {
   "cell_type": "markdown",
   "metadata": {},
   "source": [
    "# Python markdown"
   ]
  },
  {
   "cell_type": "markdown",
   "metadata": {},
   "source": [
    "See \n",
    "`https://github.com/ipython-contrib/IPython-notebook-extensions/wiki/Home-4.x-%28Jupyter%29`"
   ]
  },
  {
   "cell_type": "code",
   "execution_count": 7,
   "metadata": {
    "collapsed": false
   },
   "outputs": [
    {
     "name": "stdout",
     "output_type": "stream",
     "text": [
      "C:\\Users\\agodemar\\.jupyter\n",
      "['C:\\\\Users\\\\agodemar\\\\.jupyter', 'C:\\\\Anaconda\\\\envs\\\\py35\\\\etc\\\\jupyter', 'C:\\\\ProgramData\\\\jupyter']\n"
     ]
    }
   ],
   "source": [
    "from __future__ import print_function\n",
    "from jupyter_core.paths import jupyter_config_dir, jupyter_config_path\n",
    "print(jupyter_config_dir())\n",
    "print(jupyter_config_path())"
   ]
  },
  {
   "cell_type": "code",
   "execution_count": 8,
   "metadata": {
    "collapsed": false
   },
   "outputs": [
    {
     "name": "stdout",
     "output_type": "stream",
     "text": [
      "C:\\Users\\agodemar\\AppData\\Roaming\\jupyter\n",
      "['C:\\\\Users\\\\agodemar\\\\AppData\\\\Roaming\\\\jupyter', 'C:\\\\Anaconda\\\\envs\\\\py35\\\\share\\\\jupyter', 'C:\\\\ProgramData\\\\jupyter']\n"
     ]
    }
   ],
   "source": [
    "from __future__ import print_function\n",
    "from jupyter_core.paths import jupyter_data_dir, jupyter_path\n",
    "print(jupyter_data_dir())\n",
    "print(jupyter_path())"
   ]
  },
  {
   "cell_type": "code",
   "execution_count": 9,
   "metadata": {
    "collapsed": false
   },
   "outputs": [
    {
     "data": {
      "text/plain": [
       "True"
      ]
     },
     "execution_count": 9,
     "metadata": {},
     "output_type": "execute_result"
    }
   ],
   "source": [
    "import notebook\n",
    "notebook.nbextensions.check_nbextension('usability/codefolding', user=True)\n",
    "notebook.nbextensions.check_nbextension('usability/codefolding/main.js', user=True)"
   ]
  },
  {
   "cell_type": "code",
   "execution_count": 3,
   "metadata": {
    "collapsed": true
   },
   "outputs": [],
   "source": [
    "import notebook\n",
    "E = notebook.nbextensions.EnableNBExtensionApp()\n",
    "E.enable_nbextension('usability/codefolding/main')"
   ]
  },
  {
   "cell_type": "code",
   "execution_count": 10,
   "metadata": {
    "collapsed": true
   },
   "outputs": [],
   "source": [
    "a = 1.23"
   ]
  },
  {
   "cell_type": "markdown",
   "metadata": {
    "variables": {
     "a": "1.23"
    }
   },
   "source": [
    "a = {{a}}"
   ]
  },
  {
   "cell_type": "code",
   "execution_count": null,
   "metadata": {
    "collapsed": true
   },
   "outputs": [],
   "source": []
  }
 ],
 "metadata": {
  "kernelspec": {
   "display_name": "Python 3",
   "language": "python",
   "name": "python3"
  },
  "language_info": {
   "codemirror_mode": {
    "name": "ipython",
    "version": 3
   },
   "file_extension": ".py",
   "mimetype": "text/x-python",
   "name": "python",
   "nbconvert_exporter": "python",
   "pygments_lexer": "ipython3",
   "version": "3.5.1"
  },
  "latex_envs": {
   "bibliofile": "biblio.bib",
   "cite_by": "apalike",
   "current_citInitial": 1,
   "eqLabelWithNumbers": true,
   "eqNumInitial": 0
  }
 },
 "nbformat": 4,
 "nbformat_minor": 0
}
