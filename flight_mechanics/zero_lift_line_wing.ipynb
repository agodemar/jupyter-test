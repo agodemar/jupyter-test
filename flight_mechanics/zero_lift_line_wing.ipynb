{
 "cells": [
  {
   "cell_type": "markdown",
   "metadata": {},
   "source": [
    "This code sets the style of the notebook."
   ]
  },
  {
   "cell_type": "code",
   "execution_count": 1,
   "metadata": {
    "collapsed": false
   },
   "outputs": [
    {
     "data": {
      "text/html": [
       "<link href='http://fonts.googleapis.com/css?family=Alegreya+Sans:100,300,400,500,700,800,900,100italic,300italic,400italic,500italic,700italic,800italic,900italic' rel='stylesheet' type='text/css'>\n",
       "<link href='http://fonts.googleapis.com/css?family=Arvo:400,700,400italic' rel='stylesheet' type='text/css'>\n",
       "<link href='http://fonts.googleapis.com/css?family=PT+Mono' rel='stylesheet' type='text/css'>\n",
       "<link href='http://fonts.googleapis.com/css?family=Shadows+Into+Light' rel='stylesheet' type='text/css'>\n",
       "<link href='http://fonts.googleapis.com/css?family=Nixie+One' rel='stylesheet' type='text/css'>\n",
       "<style>\n",
       "\n",
       "@font-face {\n",
       "    font-family: \"Computer Modern\";\n",
       "    src: url('http://mirrors.ctan.org/fonts/cm-unicode/fonts/otf/cmunss.otf');\n",
       "}\n",
       "\n",
       "#notebook_panel { /* main background */\n",
       "    background: rgb(245,245,245);\n",
       "}\n",
       "\n",
       "/*Don't need to see jupyter logo, filename, last saved, etc.*/\n",
       "/* div#header-container { display: none; } */\n",
       "\n",
       "div.cell { /* set cell width */\n",
       "    width: 1000px;\n",
       "    margin-left:0em;\n",
       "    padding: 0.0em;\n",
       "}\n",
       "\n",
       "div #notebook { /* centre the content */\n",
       "    background: #fff; /* white background for content */\n",
       "    width: 1100px;\n",
       "    margin: auto;\n",
       "    padding-left: 0em;\n",
       "}\n",
       "\n",
       "#notebook li { /* More space between bullet points */\n",
       "    margin-top:0.8em;\n",
       "}\n",
       "\n",
       "/* draw border around running cells */\n",
       "div.cell.border-box-sizing.code_cell.running { \n",
       "    border: 1px solid #111;\n",
       "}\n",
       "\n",
       "/* Put a solid color box around each cell and its output, visually linking them*/\n",
       "div.cell.code_cell {\n",
       "    background-color: rgb(256,256,256); \n",
       "    border-radius: 0px; \n",
       "    padding: 0.5em;\n",
       "    margin-left:1em;\n",
       "    margin-top: 1em;\n",
       "}\n",
       "\n",
       "/*This prevents scrollable output from having an ugly grey shadow around it*/\n",
       "div.output.output_scroll {\n",
       "    box-shadow: none;\n",
       "}\n",
       "\n",
       "div.text_cell_render{\n",
       "    font-family: 'Alegreya Sans' sans-serif;\n",
       "    line-height: 140%;\n",
       "    font-size: 125%;\n",
       "    font-weight: 400;\n",
       "    width:900px;\n",
       "    margin-left:auto;\n",
       "    margin-right:auto;\n",
       "}\n",
       "\n",
       "\n",
       "/* Formatting for header cells */\n",
       ".text_cell_render h1 {\n",
       "    font-family: 'Nixie One', serif;\n",
       "    font-style:regular;\n",
       "    font-weight: 400;    \n",
       "    font-size: 45pt;\n",
       "    line-height: 100%;\n",
       "    color: rgb(0,51,102);\n",
       "    margin-bottom: 0.5em;\n",
       "    margin-top: 0.5em;\n",
       "    display: block;\n",
       "}\t\n",
       ".text_cell_render h2 {\n",
       "    font-family: 'Nixie One', serif;\n",
       "    font-weight: 400;\n",
       "    font-size: 30pt;\n",
       "    line-height: 100%;\n",
       "    color: rgb(0,51,102);\n",
       "    margin-bottom: 0.1em;\n",
       "    margin-top: 0.3em;\n",
       "    display: block;\n",
       "}\t\n",
       "\n",
       ".text_cell_render h3 {\n",
       "    font-family: 'Nixie One', serif;\n",
       "    margin-top:16px;\n",
       "\tfont-size: 22pt;\n",
       "    font-weight: 600;\n",
       "    margin-bottom: 3px;\n",
       "    font-style: regular;\n",
       "    color: rgb(102,102,0);\n",
       "}\n",
       "\n",
       ".text_cell_render h4 {    /*Use this for captions*/\n",
       "    font-family: 'Nixie One', serif;\n",
       "    font-size: 14pt;\n",
       "    text-align: center;\n",
       "    margin-top: 0em;\n",
       "    margin-bottom: 2em;\n",
       "    font-style: regular;\n",
       "}\n",
       "\n",
       ".text_cell_render h5 {  /*Use this for small titles*/\n",
       "    font-family: 'Nixie One', sans-serif;\n",
       "    font-weight: 400;\n",
       "    font-size: 16pt;\n",
       "    color: rgb(163,0,0);\n",
       "    font-style: italic;\n",
       "    margin-bottom: .1em;\n",
       "    margin-top: 0.8em;\n",
       "    display: block;\n",
       "}\n",
       "\n",
       ".text_cell_render h6 { /*use this for copyright note*/\n",
       "    font-family: 'PT Mono', sans-serif;\n",
       "    font-weight: 300;\n",
       "    font-size: 9pt;\n",
       "    line-height: 100%;\n",
       "    color: grey;\n",
       "    margin-bottom: 1px;\n",
       "    margin-top: 1px;\n",
       "}\n",
       "\n",
       ".CodeMirror{\n",
       "        font-family: \"PT Mono\";\n",
       "        font-size: 90%;\n",
       "}\n",
       "\n",
       "</style>\n",
       "<script>\n",
       "    MathJax.Hub.Config({\n",
       "                        TeX: {\n",
       "                           extensions: [\"AMSmath.js\"],\n",
       "                           equationNumbers: { autoNumber: \"AMS\", useLabelIds: true}\n",
       "                           },\n",
       "                tex2jax: {\n",
       "                    inlineMath: [ ['$','$'], [\"\\\\(\",\"\\\\)\"] ],\n",
       "                    displayMath: [ ['$$','$$'], [\"\\\\[\",\"\\\\]\"] ]\n",
       "                },\n",
       "                displayAlign: 'center', // Change this to 'center' to center equations.\n",
       "                \"HTML-CSS\": {\n",
       "                    styles: {'.MathJax_Display': {\"margin\": 4}}\n",
       "                }\n",
       "        });\n",
       "</script>\n"
      ],
      "text/plain": [
       "<IPython.core.display.HTML object>"
      ]
     },
     "execution_count": 1,
     "metadata": {},
     "output_type": "execute_result"
    }
   ],
   "source": [
    "from IPython.core.display import HTML\n",
    "def css_styling():\n",
    "    styles = open('./resources/nbstyle.css', 'r').read()\n",
    "    return HTML(styles)\n",
    "css_styling()"
   ]
  },
  {
   "cell_type": "markdown",
   "metadata": {},
   "source": [
    "More style customizations"
   ]
  },
  {
   "cell_type": "code",
   "execution_count": 26,
   "metadata": {
    "collapsed": false
   },
   "outputs": [
    {
     "data": {
      "application/javascript": [
       "IPython.notebook.config.update({\n",
       "  \"load_extensions\": {\n",
       "      \"IPython-notebook-extensions/usability/codefolding/main\":true,\n",
       "      \"IPython-notebook-extensions/tree/master/nbextensions/usability/python-markdown\":true\n",
       "  }\n",
       "})"
      ],
      "text/plain": [
       "<IPython.core.display.Javascript object>"
      ]
     },
     "metadata": {},
     "output_type": "display_data"
    }
   ],
   "source": [
    "%%javascript\n",
    "IPython.notebook.config.update({\n",
    "  \"load_extensions\": {\n",
    "      \"IPython-notebook-extensions/usability/codefolding/main\":true,\n",
    "      \"IPython-notebook-extensions/tree/master/nbextensions/usability/python-markdown\":true\n",
    "  }\n",
    "})"
   ]
  },
  {
   "cell_type": "markdown",
   "metadata": {},
   "source": [
    "Python init"
   ]
  },
  {
   "cell_type": "code",
   "execution_count": 20,
   "metadata": {
    "code_folding": [],
    "collapsed": false,
    "run_control": {
     "marked": false
    }
   },
   "outputs": [],
   "source": [
    "# load libraries and set plot parameters\n",
    "import numpy as np\n",
    "import tables as pt\n",
    "\n",
    "from sympy import *\n",
    "\n",
    "from IPython.display import display, Math, Latex\n",
    "\n",
    "import matplotlib.pyplot as plt\n",
    "%matplotlib inline\n",
    "\n",
    "from IPython.display import set_matplotlib_formats\n",
    "set_matplotlib_formats('pdf', 'png')\n",
    "plt.rcParams['savefig.dpi'] = 75\n",
    "\n",
    "plt.rcParams['figure.autolayout'] = False\n",
    "plt.rcParams['figure.figsize'] = 10, 6\n",
    "plt.rcParams['axes.labelsize'] = 18\n",
    "plt.rcParams['axes.titlesize'] = 20\n",
    "plt.rcParams['font.size'] = 16\n",
    "plt.rcParams['lines.linewidth'] = 2.0\n",
    "plt.rcParams['lines.markersize'] = 8\n",
    "plt.rcParams['legend.fontsize'] = 14\n",
    "\n",
    "plt.rcParams['text.usetex'] = True\n",
    "plt.rcParams['font.family'] = \"serif\"\n",
    "plt.rcParams['font.serif'] = \"cm\"\n",
    "# plt.rcParams['text.latex.preamble'] = \"\\usepackage{subdepth}, \\usepackage{type1cm}\""
   ]
  },
  {
   "cell_type": "markdown",
   "metadata": {
    "collapsed": true
   },
   "source": [
    "# The zero-lift angle of a finite wing"
   ]
  },
  {
   "cell_type": "markdown",
   "metadata": {},
   "source": [
    "We call $\\alpha_{0L}$ the zero-lift angle of a wing. If the free-stream velocity has an angle $\\alpha_{\\mathrm{W}}=\\alpha_{0L}$ with respect to the wing root chord then the lift is zero: $C_L = 0$.\n",
    "\n",
    "The zero-lift angle of attack is given by the following formula:\n",
    "\n",
    "\\begin{equation}\n",
    "\\label{eq:AlphaZeroLift}\n",
    "\\alpha_{0L} \n",
    "  = \\frac{2}{S} \\int_0^{b/2} \n",
    "    \\left[\\alpha_{0\\ell}(y) - \\epsilon_{\\mathrm{g}}(y)\\right]\n",
    "    c(y) \\, \\mathrm{d}y\n",
    "\\end{equation}\n",
    "\n",
    "where $y$ is the generic coordinate along the wing span, $\\alpha_{0\\ell}(y)$ is the zero-lift angle of attack of the local airfoil at section, $\\epsilon_{\\mathrm{g}}(y)$ is the local section incidence with respect to the wing root chord, and $c(y)$ is the local chord."
   ]
  },
  {
   "cell_type": "markdown",
   "metadata": {},
   "source": [
    "## Numerical example"
   ]
  },
  {
   "cell_type": "markdown",
   "metadata": {},
   "source": [
    "Let us consider an example where we calculate (\\ref{eq:AlphaZeroLift}) numerically. "
   ]
  },
  {
   "cell_type": "code",
   "execution_count": 28,
   "metadata": {
    "collapsed": true,
    "run_control": {
     "marked": false
    }
   },
   "outputs": [],
   "source": [
    "c_r = 1.0; c_t = 0.5\n",
    "b = 7.8"
   ]
  },
  {
   "cell_type": "markdown",
   "metadata": {
    "variables": {
     "b": "7.8",
     "c_r": "1.0",
     "c_t": "0.5"
    }
   },
   "source": [
    "Our wing has a root chord $c_{\\mathrm{r}} = \\,${{c_r}}$\\,\\text{m}$, a span $b = \\,${{b}}$\\,\\text{m}$, and a tip chord $c_{\\mathrm{t}} = \\,${{c_t}}$\\,\\text{m}$."
   ]
  },
  {
   "cell_type": "code",
   "execution_count": 29,
   "metadata": {
    "collapsed": false
   },
   "outputs": [
    {
     "name": "stdout",
     "output_type": "stream",
     "text": [
      "Taper ratio: 0.5\n",
      "Wing area: 5.85 m^2\n",
      "Aspect ratio: 10.4\n"
     ]
    }
   ],
   "source": [
    "S = (c_r + c_t)*b/2\n",
    "taper_ratio = c_t/c_r\n",
    "AR = b*b/S\n",
    "print(\"Taper ratio: {0}\\nWing area: {1} m^2\\nAspect ratio: {2}\".format(taper_ratio,S,AR))"
   ]
  },
  {
   "cell_type": "markdown",
   "metadata": {
    "variables": {
     "S": "5.85",
     "taper_ratio": "0.5"
    }
   },
   "source": [
    "The reference wing area, given by the formula\n",
    "\\begin{equation}\n",
    "\\label{eq:WingSurface}\n",
    "S=( c_{\\mathrm{r}} + c_{\\mathrm{t}} )\\,\\frac{1}{2} b\n",
    "\\end{equation}\n",
    "\n",
    "becomes $S = \\,${{S}}$\\,\\text{m}^2$.\n",
    "The taper ratio\n",
    "\n",
    "\\begin{equation}\n",
    "\\label{eq:TaperRatio}\n",
    "\\lambda = \\frac{ c_{\\mathrm{t}} }{ c_{\\mathrm{r}} }\n",
    "\\end{equation}\n",
    "\n",
    "becomes $\\lambda = \\,${{taper_ratio}}."
   ]
  },
  {
   "cell_type": "code",
   "execution_count": 30,
   "metadata": {
    "collapsed": false,
    "run_control": {
     "marked": false
    }
   },
   "outputs": [
    {
     "name": "stdout",
     "output_type": "stream",
     "text": [
      "A_c: -0.12820512820512822\n",
      "B_c: 1.0 m\n"
     ]
    }
   ],
   "source": [
    "A_c = 2*(c_t - c_r)/b; B_c = c_r;\n",
    "print(\"A_c: {0}\\nB_c: {1} m\".format(A_c,B_c))"
   ]
  },
  {
   "cell_type": "markdown",
   "metadata": {
    "variables": {
     "A_c": "-0.12820512820512822",
     "B_c": "1.0"
    }
   },
   "source": [
    "The law of the chords\n",
    "\n",
    "\\begin{equation}\n",
    "\\label{eq:ChordsLaw}\n",
    "c(y) = A_c \\, y + B_c\n",
    "\\end{equation}\n",
    "\n",
    "with \n",
    "\n",
    "\\begin{equation}\n",
    "\\label{eq:ChordsLawAB}\n",
    "A_c = \\frac{2}{b} \\left( c_{\\mathrm{t}} - c_{\\mathrm{r}} \\right)\n",
    "  \\;\\;,\\qquad \n",
    "  B_c = c_{\\mathrm{r}}\n",
    "\\end{equation}\n",
    "\n",
    "becomes $c(y) = \\,${{A_c}}$\\,y + \\,${{B_c}}$\\,\\text{m}$.\n",
    "\n"
   ]
  },
  {
   "cell_type": "code",
   "execution_count": 31,
   "metadata": {
    "collapsed": false
   },
   "outputs": [
    {
     "name": "stdout",
     "output_type": "stream",
     "text": [
      "- 0.0641025641025641 y^{2} + 1.0 y\n",
      "5.85000000000000\n"
     ]
    }
   ],
   "source": [
    "y = Symbol('y')\n",
    "ltx_int = latex(integrate(A_c*y + B_c,y))\n",
    "int_def = 2*integrate(A_c*y + B_c,(y,0,b/2))\n",
    "print(ltx_int)\n",
    "print(int_def)"
   ]
  },
  {
   "cell_type": "code",
   "execution_count": 32,
   "metadata": {
    "code_folding": [],
    "collapsed": false
   },
   "outputs": [
    {
     "data": {
      "text/latex": [
       "$$S = 2 \\int_0^{3.9} \\left(-0.12820512820512822y + 1.0\\right)\\,\\text{d}y =2\\left(- 0.0641025641025641 y^{2} + 1.0 y\\right)\\Bigr|_0^{3.9}=5.85\\,\\text{m}^2$$"
      ],
      "text/plain": [
       "<IPython.core.display.Math object>"
      ]
     },
     "metadata": {},
     "output_type": "display_data"
    }
   ],
   "source": [
    "display(\n",
    "    Math(\n",
    "        r'S = 2 \\int_0^{'+str(b/2)+'} \\left(' \n",
    "        + str(A_c) + 'y + ' + str(B_c)\n",
    "        + r'\\right)\\,\\text{d}y =' \n",
    "        + r'2\\left(' + ltx_int + r'\\right)\\Bigr|_0^{'+str(b/2)+'}'\n",
    "        + '=' + str(S) + r'\\,\\text{m}^2'\n",
    "    ))"
   ]
  },
  {
   "cell_type": "code",
   "execution_count": 33,
   "metadata": {
    "code_folding": [],
    "collapsed": false
   },
   "outputs": [
    {
     "data": {
      "text/latex": [
       "\\begin{equation*}S = 2 \\int_0^{3.9} \\left(-0.12820512820512822y + 1.0\\right)\\,\\text{d}y =2\\left(- 0.0641025641025641 y^{2} + 1.0 y\\right)\\Bigr|_0^{3.9}=5.85\\,\\text{m}^2\\end{equation*}"
      ],
      "text/plain": [
       "<IPython.core.display.Latex object>"
      ]
     },
     "execution_count": 33,
     "metadata": {},
     "output_type": "execute_result"
    }
   ],
   "source": [
    "Latex(\n",
    "    r'\\begin{equation*}'\n",
    "    + r'S = 2 \\int_0^{'+str(b/2)+'} \\left(' \n",
    "    + str(A_c) + 'y + ' + str(B_c)\n",
    "    + r'\\right)\\,\\text{d}y =' \n",
    "    + r'2\\left(' + ltx_int + r'\\right)\\Bigr|_0^{'+str(b/2)+'}'\n",
    "    + '=' + str(S) + r'\\,\\text{m}^2'\n",
    "    +r'\\end{equation*}'\n",
    "    )"
   ]
  },
  {
   "cell_type": "markdown",
   "metadata": {},
   "source": [
    "# Python markdown"
   ]
  },
  {
   "cell_type": "code",
   "execution_count": 9,
   "metadata": {
    "collapsed": true
   },
   "outputs": [],
   "source": [
    "from IPython.display import Latex\n",
    "aa = Latex('$\\int_0^\\infty a(x) dx$')"
   ]
  },
  {
   "cell_type": "markdown",
   "metadata": {
    "variables": {
     "aa": "$\\int_0^\\infty a(x) dx$"
    }
   },
   "source": [
    "The equation {{aa}} computer an integral."
   ]
  },
  {
   "cell_type": "markdown",
   "metadata": {},
   "source": [
    "See \n",
    "`https://github.com/ipython-contrib/IPython-notebook-extensions/wiki/Home-4.x-%28Jupyter%29`"
   ]
  },
  {
   "cell_type": "code",
   "execution_count": 10,
   "metadata": {
    "collapsed": false
   },
   "outputs": [
    {
     "name": "stdout",
     "output_type": "stream",
     "text": [
      "C:\\Users\\jyota\\.jupyter\n",
      "['C:\\\\Users\\\\jyota\\\\.jupyter', 'C:\\\\Users\\\\jyota\\\\Anaconda3\\\\etc\\\\jupyter', 'C:\\\\ProgramData\\\\jupyter']\n"
     ]
    }
   ],
   "source": [
    "from __future__ import print_function\n",
    "from jupyter_core.paths import jupyter_config_dir, jupyter_config_path\n",
    "print(jupyter_config_dir())\n",
    "print(jupyter_config_path())"
   ]
  },
  {
   "cell_type": "code",
   "execution_count": 11,
   "metadata": {
    "collapsed": false
   },
   "outputs": [
    {
     "name": "stdout",
     "output_type": "stream",
     "text": [
      "C:\\Users\\jyota\\AppData\\Roaming\\jupyter\n",
      "['C:\\\\Users\\\\jyota\\\\AppData\\\\Roaming\\\\jupyter', 'C:\\\\Users\\\\jyota\\\\Anaconda3\\\\share\\\\jupyter', 'C:\\\\ProgramData\\\\jupyter']\n"
     ]
    }
   ],
   "source": [
    "from __future__ import print_function\n",
    "from jupyter_core.paths import jupyter_data_dir, jupyter_path\n",
    "print(jupyter_data_dir())\n",
    "print(jupyter_path())"
   ]
  },
  {
   "cell_type": "code",
   "execution_count": 12,
   "metadata": {
    "collapsed": false
   },
   "outputs": [
    {
     "data": {
      "text/plain": [
       "True"
      ]
     },
     "execution_count": 12,
     "metadata": {},
     "output_type": "execute_result"
    }
   ],
   "source": [
    "import notebook\n",
    "notebook.nbextensions.check_nbextension('usability/codefolding', user=True)\n",
    "notebook.nbextensions.check_nbextension('usability/codefolding/main.js', user=True)"
   ]
  },
  {
   "cell_type": "code",
   "execution_count": 13,
   "metadata": {
    "collapsed": true
   },
   "outputs": [],
   "source": [
    "import notebook\n",
    "E = notebook.nbextensions.EnableNBExtensionApp()\n",
    "E.enable_nbextension('usability/codefolding/main')"
   ]
  },
  {
   "cell_type": "code",
   "execution_count": 14,
   "metadata": {
    "collapsed": true
   },
   "outputs": [],
   "source": [
    "a = 1.23"
   ]
  },
  {
   "cell_type": "markdown",
   "metadata": {
    "variables": {
     "a": "1.23"
    }
   },
   "source": [
    "a = {{a}}"
   ]
  },
  {
   "cell_type": "code",
   "execution_count": null,
   "metadata": {
    "collapsed": true
   },
   "outputs": [],
   "source": []
  }
 ],
 "metadata": {
  "kernelspec": {
   "display_name": "Python 3",
   "language": "python",
   "name": "python3"
  },
  "language_info": {
   "codemirror_mode": {
    "name": "ipython",
    "version": 3
   },
   "file_extension": ".py",
   "mimetype": "text/x-python",
   "name": "python",
   "nbconvert_exporter": "python",
   "pygments_lexer": "ipython3",
   "version": "3.5.1"
  },
  "latex_envs": {
   "bibliofile": "biblio.bib",
   "cite_by": "apalike",
   "current_citInitial": 1,
   "eqLabelWithNumbers": true,
   "eqNumInitial": 0
  }
 },
 "nbformat": 4,
 "nbformat_minor": 0
}
