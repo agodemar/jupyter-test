{
 "cells": [
  {
   "cell_type": "markdown",
   "metadata": {
    "collapsed": true
   },
   "source": [
    "# Anatomy of a cranked wing"
   ]
  },
  {
   "cell_type": "markdown",
   "metadata": {},
   "source": [
    "— Agostino De Marco, <font color='darkblue'><i>University of Naples Federico II, Dept. Industrial Engineering</i></font>"
   ]
  },
  {
   "cell_type": "markdown",
   "metadata": {},
   "source": [
    "We will use the Python language to work out our examples, so we set up some Python tools first."
   ]
  },
  {
   "cell_type": "code",
   "execution_count": 82,
   "metadata": {
    "collapsed": true
   },
   "outputs": [],
   "source": [
    "# Set up the notebook and import required Python packages\n",
    "%run ./src/cranked_wing/init.py\n",
    "%matplotlib inline"
   ]
  },
  {
   "cell_type": "code",
   "execution_count": 83,
   "metadata": {
    "collapsed": true
   },
   "outputs": [],
   "source": [
    "c_r = 4.9; c_k = 2.9; c_t = 1.0; \n",
    "b_k = 10.0; b = 28\n",
    "Lambda_le_1 = 23*math.pi/180; Lambda_le_2 = 23*math.pi/180"
   ]
  },
  {
   "cell_type": "code",
   "execution_count": 84,
   "metadata": {
    "collapsed": false
   },
   "outputs": [
    {
     "data": {
      "text/latex": [
       "\\begin{array}{rl}\\text{root chord,}\\, c_{\\mathrm{r}}: & 4.9\\,\\text{m}\\\\\\text{kink chord,}\\, c_{\\mathrm{k}}: & 2.9\\,\\text{m}\\\\\\text{tip chord,}\\, c_{\\mathrm{t}}: & 1.0\\,\\text{m}\\\\\\text{semispan, inner panel}\\, \\frac{1}{2}b_{\\mathrm{k}}: & 5.0\\,\\text{m}\\\\\\text{semispan,}\\, \\frac{1}{2}b: & 14.0\\,\\text{m}\\\\\\text{leading edge sweep, inner panel,}\\, \\Lambda_{\\mathrm{le},1}: &23.0\\,\\text{deg}\\\\\\text{leading edge sweep, outer panel,}\\, \\Lambda_{\\mathrm{le},2}: &23.0\\,\\text{deg}\\end{array}"
      ],
      "text/plain": [
       "<IPython.core.display.Latex object>"
      ]
     },
     "execution_count": 84,
     "metadata": {},
     "output_type": "execute_result"
    }
   ],
   "source": [
    "Latex(\n",
    "    r'\\begin{array}{rl}'\n",
    "    +  r'\\text{root chord,}\\, c_{\\mathrm{r}}: & ' + r'{0}'.format(c_r) + r'\\,\\text{m}'\n",
    "    +  r'\\\\'\n",
    "    +  r'\\text{kink chord,}\\, c_{\\mathrm{k}}: & ' + r'{0}'.format(c_k) + r'\\,\\text{m}'\n",
    "    +  r'\\\\'\n",
    "    +  r'\\text{tip chord,}\\, c_{\\mathrm{t}}: & ' + r'{0}'.format(c_t) + r'\\,\\text{m}'\n",
    "    +  r'\\\\'\n",
    "    +  r'\\text{semispan, inner panel}\\, \\frac{1}{2}b_{\\mathrm{k}}: & ' + r'{0}'.format(b_k/2) + r'\\,\\text{m}'\n",
    "    +  r'\\\\'\n",
    "    +  r'\\text{semispan,}\\, \\frac{1}{2}b: & ' + r'{0}'.format(b/2) + r'\\,\\text{m}'\n",
    "    +  r'\\\\'\n",
    "    +  r'\\text{leading edge sweep, inner panel,}\\, \\Lambda_{\\mathrm{le},1}: &' \n",
    "    +    r'{0}'.format(Lambda_le_1*180/math.pi) + r'\\,\\text{deg}'\n",
    "    +  r'\\\\'\n",
    "    +  r'\\text{leading edge sweep, outer panel,}\\, \\Lambda_{\\mathrm{le},2}: &' \n",
    "    +    r'{0}'.format(Lambda_le_2*180/math.pi) + r'\\,\\text{deg}'\n",
    "    +r'\\end{array}'\n",
    ")"
   ]
  },
  {
   "cell_type": "code",
   "execution_count": 85,
   "metadata": {
    "collapsed": false
   },
   "outputs": [
    {
     "data": {
      "image/png": "[encoded data removed]",
      "text/plain": [
       "<matplotlib.figure.Figure at 0x1da4fa01080>"
      ]
     },
     "metadata": {},
     "output_type": "display_data"
    }
   ],
   "source": [
    "plot_planform(c_r, c_k, c_t, b_k, b, Lambda_le_1, Lambda_le_2)"
   ]
  },
  {
   "cell_type": "markdown",
   "metadata": {},
   "source": [
    "### The law of the chords, $c(y)$"
   ]
  },
  {
   "cell_type": "markdown",
   "metadata": {},
   "source": [
    "The function $c(y)$ is the linear law that gives the chord at the generic spanwise station $y\\in \\big[0,\\frac{1}{2}b\\big]$. This has the form\n",
    "\n",
    "\\begin{equation}\n",
    "c(y) = \n",
    "\\begin{cases}\n",
    "A_{c,1} y + B_{c,1}  & \\text{if $\\;0\\le y \\le \\frac{1}{2}b_{\\mathrm{k}}$} \\\\[0.5em]\n",
    "A_{c,2} \\big( y - \\frac{1}{2}b_{\\mathrm{k}} \\big) + B_{c,2} & \\text{if $\\;\\frac{1}{2}b_{\\mathrm{k}} < y \\le \\frac{1}{2}b$}\n",
    "\\end{cases}\n",
    "\\end{equation}\n",
    "\n",
    "with \n",
    "\n",
    "\\begin{equation}\n",
    "A_{c} = \n",
    "\\begin{cases}\n",
    "A_{c,1} = \\dfrac{2}{b_{\\mathrm{k}}} \\left( c_{\\mathrm{k}} - c_{\\mathrm{r}} \\right)  \n",
    "  & \\text{if $\\;0\\le y \\le \\frac{1}{2}b_{\\mathrm{k}}$} \\\\[0.5em]\n",
    "A_{c,2} = \\dfrac{2}{b - b_{\\mathrm{k}}} \\left( c_{\\mathrm{t}} - c_{\\mathrm{k}} \\right)  \n",
    "  & \\text{if $\\;\\frac{1}{2}b_{\\mathrm{k}} < y \\le \\frac{1}{2}b$}\n",
    "\\end{cases}\n",
    "\\end{equation}\n",
    "\n",
    "and\n",
    "\n",
    "\\begin{equation}\n",
    "B_{c} = \n",
    "\\begin{cases}\n",
    "B_{c,1} = c_{\\mathrm{r}}\n",
    "  & \\text{if $\\;0\\le y \\le \\frac{1}{2}b_{\\mathrm{k}}$} \\\\[0.5em]\n",
    "B_{c,2} = c_{\\mathrm{k}}\n",
    "  & \\text{if $\\;\\frac{1}{2}b_{\\mathrm{k}} < y \\le \\frac{1}{2}b$}\n",
    "\\end{cases}\n",
    "\\end{equation}"
   ]
  },
  {
   "cell_type": "markdown",
   "metadata": {},
   "source": [
    "The following code defines function $c(y)$ calculating the above two coefficients:"
   ]
  },
  {
   "cell_type": "code",
   "execution_count": 86,
   "metadata": {
    "collapsed": true
   },
   "outputs": [],
   "source": [
    "# c(y)\n",
    "def f_chords(c_r, c_k, c_t, b_k, b, Lambda_le_1, Lambda_le_2, y):\n",
    "    if y >= 0 and y <= b_k/2:\n",
    "        A_c = 2*(c_k - c_r)/b_k; B_c = c_r;\n",
    "        return A_c*y + B_c\n",
    "    elif y > b_k/2 and y <= b/2:\n",
    "        A_c = (c_t - c_k)/(b/2 - b_k/2); B_c = c_k;\n",
    "        return A_c*(y - b_k/2) + B_c"
   ]
  },
  {
   "cell_type": "markdown",
   "metadata": {},
   "source": [
    "### The law of the leading edge positions, $X_{\\mathrm{le}}(y)$"
   ]
  },
  {
   "cell_type": "code",
   "execution_count": 87,
   "metadata": {
    "collapsed": true
   },
   "outputs": [],
   "source": [
    "# X_le(y)\n",
    "def f_Xle(b_k, b, Lambda_le_1, Lambda_le_2, y):\n",
    "    if y >= 0 and y <= b_k/2:\n",
    "        A_xle = math.tan(Lambda_le_1);\n",
    "        return A_xle*y\n",
    "    elif y > b_k/2 and y <= b/2:\n",
    "        A_xle = math.tan(Lambda_le_2);\n",
    "        return (b_k/2)*math.tan(Lambda_le_2) + A_xle*(y - b_k/2)"
   ]
  },
  {
   "cell_type": "code",
   "execution_count": 88,
   "metadata": {
    "collapsed": false
   },
   "outputs": [
    {
     "data": {
      "text/plain": [
       "1.8444444444444443"
      ]
     },
     "execution_count": 88,
     "metadata": {},
     "output_type": "execute_result"
    }
   ],
   "source": [
    "f_chords(c_r, c_k, c_t, b_k, b, Lambda_le_1, Lambda_le_2, 10)"
   ]
  },
  {
   "cell_type": "code",
   "execution_count": 89,
   "metadata": {
    "collapsed": false
   },
   "outputs": [
    {
     "data": {
      "text/plain": [
       "2.5468488972576284"
      ]
     },
     "execution_count": 89,
     "metadata": {},
     "output_type": "execute_result"
    }
   ],
   "source": [
    "f_Xle(b_k, b, Lambda_le_1, Lambda_le_2, 6)"
   ]
  },
  {
   "cell_type": "code",
   "execution_count": null,
   "metadata": {
    "collapsed": true
   },
   "outputs": [],
   "source": []
  }
 ],
 "metadata": {
  "kernelspec": {
   "display_name": "Python 3",
   "language": "python",
   "name": "python3"
  },
  "language_info": {
   "codemirror_mode": {
    "name": "ipython",
    "version": 3
   },
   "file_extension": ".py",
   "mimetype": "text/x-python",
   "name": "python",
   "nbconvert_exporter": "python",
   "pygments_lexer": "ipython3",
   "version": "3.5.1"
  }
 },
 "nbformat": 4,
 "nbformat_minor": 0
}
