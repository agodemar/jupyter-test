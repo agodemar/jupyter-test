{
 "cells": [
  {
   "cell_type": "markdown",
   "metadata": {
    "collapsed": true
   },
   "source": [
    "# Anatomy of a cranked wing"
   ]
  },
  {
   "cell_type": "markdown",
   "metadata": {},
   "source": [
    "— Agostino De Marco, <font color='darkblue'><i>University of Naples Federico II, Dept. Industrial Engineering</i></font>"
   ]
  },
  {
   "cell_type": "markdown",
   "metadata": {},
   "source": [
    "We will use the Python language to work out our examples, so we set up some Python tools first."
   ]
  },
  {
   "cell_type": "code",
   "execution_count": 18,
   "metadata": {
    "collapsed": false
   },
   "outputs": [],
   "source": [
    "# Set up the notebook and import required Python packages\n",
    "%run ./src/cranked_wing/init.py\n",
    "%matplotlib inline"
   ]
  },
  {
   "cell_type": "markdown",
   "metadata": {},
   "source": [
    "Wing data."
   ]
  },
  {
   "cell_type": "code",
   "execution_count": 19,
   "metadata": {
    "collapsed": true
   },
   "outputs": [],
   "source": [
    "c_r = 4.9; c_k = 2.9; c_t = 1.0; \n",
    "b_k = 10.0; b = 28\n",
    "Lambda_le_1 = 23*math.pi/180; Lambda_le_2 = 23*math.pi/180"
   ]
  },
  {
   "cell_type": "code",
   "execution_count": 3,
   "metadata": {
    "collapsed": false
   },
   "outputs": [
    {
     "data": {
      "text/latex": [
       "\\begin{array}{rl}\\text{root chord,}\\, c_{\\mathrm{r}}: & 4.9\\,\\text{m}\\\\\\text{kink chord,}\\, c_{\\mathrm{k}}: & 2.9\\,\\text{m}\\\\\\text{tip chord,}\\, c_{\\mathrm{t}}: & 1.0\\,\\text{m}\\\\\\text{semispan, inner panel}\\, \\frac{1}{2}b_{\\mathrm{k}}: & 5.0\\,\\text{m}\\\\\\text{semispan,}\\, \\frac{1}{2}b: & 14.0\\,\\text{m}\\\\\\text{leading edge sweep, inner panel,}\\, \\Lambda_{\\mathrm{le},1}: &23.0\\,\\text{deg}\\\\\\text{leading edge sweep, outer panel,}\\, \\Lambda_{\\mathrm{le},2}: &23.0\\,\\text{deg}\\end{array}"
      ],
      "text/plain": [
       "<IPython.core.display.Latex object>"
      ]
     },
     "execution_count": 3,
     "metadata": {},
     "output_type": "execute_result"
    }
   ],
   "source": [
    "Latex(\n",
    "    r'\\begin{array}{rl}'\n",
    "    +  r'\\text{root chord,}\\, c_{\\mathrm{r}}: & ' + r'{0}'.format(c_r) + r'\\,\\text{m}'\n",
    "    +  r'\\\\'\n",
    "    +  r'\\text{kink chord,}\\, c_{\\mathrm{k}}: & ' + r'{0}'.format(c_k) + r'\\,\\text{m}'\n",
    "    +  r'\\\\'\n",
    "    +  r'\\text{tip chord,}\\, c_{\\mathrm{t}}: & ' + r'{0}'.format(c_t) + r'\\,\\text{m}'\n",
    "    +  r'\\\\'\n",
    "    +  r'\\text{semispan, inner panel}\\, \\frac{1}{2}b_{\\mathrm{k}}: & ' + r'{0}'.format(b_k/2) + r'\\,\\text{m}'\n",
    "    +  r'\\\\'\n",
    "    +  r'\\text{semispan,}\\, \\frac{1}{2}b: & ' + r'{0}'.format(b/2) + r'\\,\\text{m}'\n",
    "    +  r'\\\\'\n",
    "    +  r'\\text{leading edge sweep, inner panel,}\\, \\Lambda_{\\mathrm{le},1}: &' \n",
    "    +    r'{0}'.format(Lambda_le_1*180/math.pi) + r'\\,\\text{deg}'\n",
    "    +  r'\\\\'\n",
    "    +  r'\\text{leading edge sweep, outer panel,}\\, \\Lambda_{\\mathrm{le},2}: &' \n",
    "    +    r'{0}'.format(Lambda_le_2*180/math.pi) + r'\\,\\text{deg}'\n",
    "    +r'\\end{array}'\n",
    ")"
   ]
  },
  {
   "cell_type": "markdown",
   "metadata": {},
   "source": [
    "Wing platform."
   ]
  },
  {
   "cell_type": "code",
   "execution_count": 5,
   "metadata": {
    "collapsed": false
   },
   "outputs": [
    {
     "data": {
      "image/png": "[encoded data removed]",
      "text/plain": [
       "<matplotlib.figure.Figure at 0x24809b9c400>"
      ]
     },
     "metadata": {},
     "output_type": "display_data"
    }
   ],
   "source": [
    "plot_planform(c_r, c_k, c_t, b_k, b, Lambda_le_1, Lambda_le_2)"
   ]
  },
  {
   "cell_type": "markdown",
   "metadata": {},
   "source": [
    "### The law of the chords, $c(y)$"
   ]
  },
  {
   "cell_type": "markdown",
   "metadata": {},
   "source": [
    "The function $c(y)$ is the piecewise linear law that gives the chord at the generic spanwise station $y\\in \\big[0,\\frac{1}{2}b\\big]$. This has the form\n",
    "\n",
    "\\begin{equation}\n",
    "c(y) = \n",
    "\\begin{cases}\n",
    "A_{c,1} y + B_{c,1}  & \\text{if $\\;0\\le y \\le \\frac{1}{2}b_{\\mathrm{k}}$} \\\\[0.5em]\n",
    "A_{c,2} \\big( y - \\frac{1}{2}b_{\\mathrm{k}} \\big) + B_{c,2} & \\text{if $\\;\\frac{1}{2}b_{\\mathrm{k}} < y \\le \\frac{1}{2}b$}\n",
    "\\end{cases}\n",
    "\\end{equation}\n",
    "\n",
    "with \n",
    "\n",
    "\\begin{equation}\n",
    "A_{c} = \n",
    "\\begin{cases}\n",
    "A_{c,1} = \\dfrac{2}{b_{\\mathrm{k}}} \\left( c_{\\mathrm{k}} - c_{\\mathrm{r}} \\right)  \n",
    "  & \\text{if $\\;0\\le y \\le \\frac{1}{2}b_{\\mathrm{k}}$} \\\\[0.5em]\n",
    "A_{c,2} = \\dfrac{2}{b - b_{\\mathrm{k}}} \\left( c_{\\mathrm{t}} - c_{\\mathrm{k}} \\right)  \n",
    "  & \\text{if $\\;\\frac{1}{2}b_{\\mathrm{k}} < y \\le \\frac{1}{2}b$}\n",
    "\\end{cases}\n",
    "\\end{equation}\n",
    "\n",
    "and\n",
    "\n",
    "\\begin{equation}\n",
    "B_{c} = \n",
    "\\begin{cases}\n",
    "B_{c,1} = c_{\\mathrm{r}}\n",
    "  & \\text{if $\\;0\\le y \\le \\frac{1}{2}b_{\\mathrm{k}}$} \\\\[0.5em]\n",
    "B_{c,2} = c_{\\mathrm{k}}\n",
    "  & \\text{if $\\;\\frac{1}{2}b_{\\mathrm{k}} < y \\le \\frac{1}{2}b$}\n",
    "\\end{cases}\n",
    "\\end{equation}"
   ]
  },
  {
   "cell_type": "markdown",
   "metadata": {},
   "source": [
    "The following code defines function $c(y)$ calculating the above two coefficients:"
   ]
  },
  {
   "cell_type": "code",
   "execution_count": 20,
   "metadata": {
    "collapsed": false
   },
   "outputs": [],
   "source": [
    "# c(y)\n",
    "def f_chords(c_r, c_k, c_t, b_k, b, Lambda_le_1, Lambda_le_2, y):\n",
    "    if y >= 0 and y <= b_k/2:\n",
    "        A_c = 2*(c_k - c_r)/b_k; B_c = c_r;\n",
    "        return A_c*y + B_c\n",
    "    elif y > b_k/2 and y <= b/2:\n",
    "        A_c = (c_t - c_k)/(b/2 - b_k/2); B_c = c_k;\n",
    "        return A_c*(y - b_k/2) + B_c\n",
    "    \n",
    "def f_chords_1(c_r, c_k, c_t, b_k, b, Lambda_le_1, Lambda_le_2, y):\n",
    "    A_c = 2*(c_k - c_r)/b_k; B_c = c_r;\n",
    "    return A_c*y + B_c\n",
    "\n",
    "def f_chords_2(c_r, c_k, c_t, b_k, b, Lambda_le_1, Lambda_le_2, y):\n",
    "    A_c = (c_t - c_k)/(b/2 - b_k/2); B_c = c_k;\n",
    "    return A_c*(y - b_k/2) + B_c"
   ]
  },
  {
   "cell_type": "markdown",
   "metadata": {},
   "source": [
    "### The law of the leading edge positions, $X_{\\mathrm{le}}(y)$"
   ]
  },
  {
   "cell_type": "markdown",
   "metadata": {},
   "source": [
    "The function $X_{\\mathrm{le}}(y)$ is the piecewise law that gives the local leading edge longitudinal coordinate at the generic spanwise station $y\\in \\big[0,\\frac{1}{2}b\\big]$. This has the form\n",
    "\n",
    "\\begin{equation}\n",
    "X_{\\mathrm{le}}(y) = \n",
    "\\begin{cases}\n",
    "A_{X_{\\mathrm{le}},1} \\, y + B_{X_{\\mathrm{le}},1}  & \\text{if $\\;0\\le y \\le \\frac{1}{2}b_{\\mathrm{k}}$} \\\\[0.5em]\n",
    "A_{X_{\\mathrm{le}},2} \\, \\big( y - \\frac{1}{2}b_{\\mathrm{k}} \\big) + B_{X_{\\mathrm{le}},2} & \\text{if $\\;\\frac{1}{2}b_{\\mathrm{k}} < y \\le \\frac{1}{2}b$}\n",
    "\\end{cases}\n",
    "\\end{equation}\n",
    "\n",
    "with \n",
    "\n",
    "\\begin{equation}\n",
    "A_{X_{\\mathrm{le}}} = \n",
    "\\begin{cases}\n",
    "A_{X_{\\mathrm{le}},1} = \\tan \\Lambda_{\\mathrm{le},1}\n",
    "  & \\text{if $\\;0\\le y \\le \\frac{1}{2}b_{\\mathrm{k}}$} \\\\[0.5em]\n",
    "A_{c,2} = \\tan \\Lambda_{\\mathrm{le},2}\n",
    "  & \\text{if $\\;\\frac{1}{2}b_{\\mathrm{k}} < y \\le \\frac{1}{2}b$}\n",
    "\\end{cases}\n",
    "\\end{equation}\n",
    "\n",
    "and\n",
    "\n",
    "\\begin{equation}\n",
    "B_{X_{\\mathrm{le}}} = \n",
    "\\begin{cases}\n",
    "B_{X_{\\mathrm{le}},1} = 0 \\, \\mathrm{m}\n",
    "  & \\text{if $\\;0\\le y \\le \\frac{1}{2}b_{\\mathrm{k}}$} \\\\[0.5em]\n",
    "B_{c,2} = \\frac{1}{2} b_{\\mathrm{k}} \\, \\tan \\Lambda_{\\mathrm{le},1}\n",
    "  & \\text{if $\\;\\frac{1}{2}b_{\\mathrm{k}} < y \\le \\frac{1}{2}b$}\n",
    "\\end{cases}\n",
    "\\end{equation}"
   ]
  },
  {
   "cell_type": "code",
   "execution_count": 21,
   "metadata": {
    "collapsed": true
   },
   "outputs": [],
   "source": [
    "# X_le(y)\n",
    "def f_Xle(b_k, b, Lambda_le_1, Lambda_le_2, y):\n",
    "    if y >= 0 and y <= b_k/2:\n",
    "        A_xle = math.tan(Lambda_le_1);\n",
    "        return A_xle*y\n",
    "    elif y > b_k/2 and y <= b/2:\n",
    "        A_xle = math.tan(Lambda_le_2);\n",
    "        return (b_k/2)*math.tan(Lambda_le_2) + A_xle*(y - b_k/2)\n",
    "    \n",
    "def f_Xle_1(b_k, b, Lambda_le_1, Lambda_le_2, y):\n",
    "    A_xle = math.tan(Lambda_le_1);\n",
    "    return A_xle*y\n",
    "    \n",
    "def f_Xle_2(b_k, b, Lambda_le_1, Lambda_le_2, y):\n",
    "    A_xle = math.tan(Lambda_le_2);\n",
    "    return (b_k/2)*math.tan(Lambda_le_2) + A_xle*(y - b_k/2)"
   ]
  },
  {
   "cell_type": "markdown",
   "metadata": {},
   "source": [
    "The reference surface:"
   ]
  },
  {
   "cell_type": "markdown",
   "metadata": {},
   "source": [
    "\\begin{equation}\n",
    "S = 2 \\int_{0}^{b/2} c(y) \\, \\mathrm{d}y\n",
    "\\end{equation}"
   ]
  },
  {
   "cell_type": "markdown",
   "metadata": {},
   "source": [
    "The mean aerodynamic chord:"
   ]
  },
  {
   "cell_type": "markdown",
   "metadata": {},
   "source": [
    "\\begin{equation}\n",
    "\\bar{c} = \\frac{2}{S} \\int_{0}^{b/2} c^2(y) \\, \\mathrm{d}y\n",
    "\\end{equation}"
   ]
  },
  {
   "cell_type": "markdown",
   "metadata": {},
   "source": [
    "The mean aerodynamic chord leading edge:"
   ]
  },
  {
   "cell_type": "markdown",
   "metadata": {},
   "source": [
    "\\begin{equation}\n",
    "X_{\\mathrm{le},\\bar{c}} = \\frac{2}{S} \\int_{0}^{b/2} X_{\\mathrm{le}}(y) \\, c(y) \\, \\mathrm{d}y\n",
    "\\end{equation}"
   ]
  },
  {
   "cell_type": "markdown",
   "metadata": {},
   "source": [
    "The mean aerodynamic chord spanwise location:"
   ]
  },
  {
   "cell_type": "markdown",
   "metadata": {},
   "source": [
    "\\begin{equation}\n",
    "Y_{\\bar{c}} = \\frac{2}{S} \\int_{0}^{b/2} y \\, c(y) \\, \\mathrm{d}y\n",
    "\\end{equation}"
   ]
  },
  {
   "cell_type": "code",
   "execution_count": null,
   "metadata": {
    "collapsed": true
   },
   "outputs": [],
   "source": [
    "# %run ./src/aerodynamic_center_wing/init.py\n",
    "# symbolic variable\n",
    "y = Symbol('y')\n",
    "\n",
    "# indefinite integrals\n",
    "c_law_integral_indefinite =  integrate( \n",
    "    Piecewise(\n",
    "        (f_chords_1(c_r, c_k, c_t, b_k, b, Lambda_le_1, Lambda_le_2, y), And(y >= 0, y <= b_k/2)), \n",
    "        (f_chords_2(c_r, c_k, c_t, b_k, b, Lambda_le_1, Lambda_le_2, y), And(y > b_k/2, y <= b/2))\n",
    "    ),\n",
    "    y)\n",
    "\n",
    "c_mac_law_integral_indefinite =  integrate( \n",
    "    Piecewise( \n",
    "        (f_chords_1(c_r, c_k, c_t, b_k, b, Lambda_le_1, Lambda_le_2, y)**2, And(y >= 0, y <= b_k/2)),\n",
    "        (f_chords_2(c_r, c_k, c_t, b_k, b, Lambda_le_1, Lambda_le_2, y)**2, And(y > b_k/2, y <= b/2))\n",
    "    ),\n",
    "    y)\n",
    "\n",
    "X_le_mac_law_integral_indefinite = integrate( \n",
    "    Piecewise( \n",
    "        (\n",
    "            f_Xle_1(b_k, b, Lambda_le_1, Lambda_le_2, y)\n",
    "                *f_chords_1(c_r, c_k, c_t, b_k, b, Lambda_le_1, Lambda_le_2, y), \n",
    "            And(y >= 0, y <= b_k/2)\n",
    "        ), \n",
    "        (\n",
    "            f_Xle_2(b_k, b, Lambda_le_1, Lambda_le_2, y)\n",
    "                *f_chords_2(c_r, c_k, c_t, b_k, b, Lambda_le_1, Lambda_le_2, y), \n",
    "            And(y > b_k/2, y <= b/2)\n",
    "        )\n",
    "    ),\n",
    "    y)\n",
    "\n",
    "Y_mac_law_integral_indefinite = integrate( \n",
    "    Piecewise( \n",
    "        (\n",
    "            y*f_chords_1(c_r, c_k, c_t, b_k, b, Lambda_le_1, Lambda_le_2, y), \n",
    "            And(y >= 0, y <= b_k/2)\n",
    "        ), \n",
    "        (\n",
    "            y*f_chords_2(c_r, c_k, c_t, b_k, b, Lambda_le_1, Lambda_le_2, y), \n",
    "            And(y > b_k/2, y <= b/2)\n",
    "        )\n",
    "    ),\n",
    "    y)"
   ]
  },
  {
   "cell_type": "code",
   "execution_count": 46,
   "metadata": {
    "collapsed": false
   },
   "outputs": [
    {
     "name": "stdout",
     "output_type": "stream",
     "text": [
      "\n",
      "Indefinite integral of c^2(y): Piecewise((-0.2*y**2 + 4.9*y, And(y <= 5.0, y >= 0)), (-0.105555555555556*y**2 + 3.95555555555556*y, And(y <= 14.0, y > 5.0)))\n"
     ]
    },
    {
     "data": {
      "text/latex": [
       "\\begin{equation}\\int c(y) \\, \\mathrm{d}y =\\begin{cases} - 0.2 y^{2} + 4.9 y & \\text{for}\\: y \\geq 0 \\wedge y \\leq 5.0 \\\\- 0.105555555555556 y^{2} + 3.95555555555556 y & \\text{for}\\: y \\leq 14.0 \\wedge y > 5.0 \\end{cases}\\end{equation}"
      ],
      "text/plain": [
       "<IPython.core.display.Latex object>"
      ]
     },
     "execution_count": 46,
     "metadata": {},
     "output_type": "execute_result"
    }
   ],
   "source": [
    "print('\\nIndefinite integral of c^2(y): ' + str(c_law_integral_indefinite))\n",
    "\n",
    "Latex(\n",
    "    r'\\begin{equation}'\n",
    "    r'\\int c(y) \\, \\mathrm{d}y ='\n",
    "    + latex(c_law_integral_indefinite)\n",
    "    +r'\\end{equation}'\n",
    ")"
   ]
  },
  {
   "cell_type": "code",
   "execution_count": 47,
   "metadata": {
    "collapsed": false
   },
   "outputs": [
    {
     "name": "stdout",
     "output_type": "stream",
     "text": [
      "\n",
      "Indefinite integral of c^2(y): Piecewise((0.0533333333333334*y**3 - 1.96*y**2 + 24.01*y, And(y <= 5.0, y >= 0)), (0.0148559670781893*y**3 - 0.835061728395062*y**2 + 15.6464197530864*y, And(y <= 14.0, y > 5.0)))\n"
     ]
    },
    {
     "data": {
      "text/latex": [
       "\\begin{equation}\\int c^2(y) \\, \\mathrm{d}y =\\begin{cases} 0.0533333333333334 y^{3} - 1.96 y^{2} + 24.01 y & \\text{for}\\: y \\geq 0 \\wedge y \\leq 5.0 \\\\0.0148559670781893 y^{3} - 0.835061728395062 y^{2} + 15.6464197530864 y & \\text{for}\\: y \\leq 14.0 \\wedge y > 5.0 \\end{cases}\\end{equation}"
      ],
      "text/plain": [
       "<IPython.core.display.Latex object>"
      ]
     },
     "execution_count": 47,
     "metadata": {},
     "output_type": "execute_result"
    }
   ],
   "source": [
    "print('\\nIndefinite integral of c^2(y): ' + str(c_mac_law_integral_indefinite))\n",
    "\n",
    "Latex(\n",
    "    r'\\begin{equation}'\n",
    "    r'\\int c^2(y) \\, \\mathrm{d}y ='\n",
    "    + latex(c_mac_law_integral_indefinite)\n",
    "    +r'\\end{equation}'\n",
    ")"
   ]
  },
  {
   "cell_type": "code",
   "execution_count": 49,
   "metadata": {
    "collapsed": false
   },
   "outputs": [
    {
     "name": "stdout",
     "output_type": "stream",
     "text": [
      "\n",
      "Indefinite integral of X_le(y)*c(y): Piecewise((-0.0565966421612806*y**3 + 1.03996329971353*y**2, And(y <= 5.0, y >= 0)), (-0.0298704500295648*y**3 + 0.839516858725663*y**2, And(y <= 14.0, y > 5.0)))\n"
     ]
    },
    {
     "data": {
      "text/latex": [
       "\\begin{equation}\\int X_{\\mathrm{le}}(y) \\, c(y) \\, \\mathrm{d}y =\\begin{cases} - 0.0565966421612806 y^{3} + 1.03996329971353 y^{2} & \\text{for}\\: y \\geq 0 \\wedge y \\leq 5.0 \\\\- 0.0298704500295648 y^{3} + 0.839516858725663 y^{2} & \\text{for}\\: y \\leq 14.0 \\wedge y > 5.0 \\end{cases}\\end{equation}"
      ],
      "text/plain": [
       "<IPython.core.display.Latex object>"
      ]
     },
     "execution_count": 49,
     "metadata": {},
     "output_type": "execute_result"
    }
   ],
   "source": [
    "print('\\nIndefinite integral of X_le(y)*c(y): ' + str(X_le_mac_law_integral_indefinite))\n",
    "\n",
    "Latex(\n",
    "    r'\\begin{equation}'\n",
    "    r'\\int X_{\\mathrm{le}}(y) \\, c(y) \\, \\mathrm{d}y ='\n",
    "    + latex(X_le_mac_law_integral_indefinite)\n",
    "    +r'\\end{equation}'\n",
    ")"
   ]
  },
  {
   "cell_type": "code",
   "execution_count": 50,
   "metadata": {
    "collapsed": false
   },
   "outputs": [
    {
     "name": "stdout",
     "output_type": "stream",
     "text": [
      "\n",
      "Indefinite integral of y*c(y): Piecewise((-0.133333333333333*y**3 + 2.45*y**2, And(y <= 5.0, y >= 0)), (-0.0703703703703704*y**3 + 1.97777777777778*y**2, And(y <= 14.0, y > 5.0)))\n"
     ]
    },
    {
     "data": {
      "text/latex": [
       "\\begin{equation}\\int y \\, c(y) \\, \\mathrm{d}y =\\begin{cases} - 0.133333333333333 y^{3} + 2.45 y^{2} & \\text{for}\\: y \\geq 0 \\wedge y \\leq 5.0 \\\\- 0.0703703703703704 y^{3} + 1.97777777777778 y^{2} & \\text{for}\\: y \\leq 14.0 \\wedge y > 5.0 \\end{cases}\\end{equation}"
      ],
      "text/plain": [
       "<IPython.core.display.Latex object>"
      ]
     },
     "execution_count": 50,
     "metadata": {},
     "output_type": "execute_result"
    }
   ],
   "source": [
    "print('\\nIndefinite integral of y*c(y): ' + str(Y_mac_law_integral_indefinite))\n",
    "\n",
    "Latex(latex(Y_mac_law_integral_indefinite))\n",
    "Latex(\n",
    "    r'\\begin{equation}'\n",
    "    r'\\int y \\, c(y) \\, \\mathrm{d}y ='\n",
    "    + latex(Y_mac_law_integral_indefinite)\n",
    "    +r'\\end{equation}'\n",
    ")"
   ]
  },
  {
   "cell_type": "code",
   "execution_count": 51,
   "metadata": {
    "collapsed": false
   },
   "outputs": [],
   "source": [
    "# definite integrals\n",
    "# see http://docs.scipy.org/doc/scipy/reference/generated/scipy.integrate.quad.html\n",
    "#c_mac =  (2/S_ref)*integrate( (A_c*y + B_c)*(A_c*y + B_c),(y,0,b/2) )\n",
    "#X_le_mac = (2/S_ref)*integrate( (A_xle*y)*(A_c*y + B_c),(y,0,b/2) )\n",
    "#Y_mac =  (2/S_ref)*integrate( y*(A_c*y + B_c),(y,0,b/2) )\n",
    "#print('mac = ' + '{0} m'.format(c_mac))\n",
    "#print('X_le_mac = ' + '{0} m'.format(X_le_mac))\n",
    "#print('Y_mac = ' + '{0} m'.format(Y_mac))"
   ]
  },
  {
   "cell_type": "markdown",
   "metadata": {
    "collapsed": true
   },
   "source": [
    "Wing functions."
   ]
  },
  {
   "cell_type": "code",
   "execution_count": 55,
   "metadata": {
    "collapsed": false
   },
   "outputs": [
    {
     "ename": "TypeError",
     "evalue": "an integer is required for the axis",
     "output_type": "error",
     "traceback": [
      "\u001b[1;31m---------------------------------------------------------------------------\u001b[0m",
      "\u001b[1;31mTypeError\u001b[0m                                 Traceback (most recent call last)",
      "\u001b[1;32m<ipython-input-55-1fa7f8ed5e2e>\u001b[0m in \u001b[0;36m<module>\u001b[1;34m()\u001b[0m\n\u001b[0;32m      1\u001b[0m \u001b[0mget_ipython\u001b[0m\u001b[1;33m(\u001b[0m\u001b[1;33m)\u001b[0m\u001b[1;33m.\u001b[0m\u001b[0mmagic\u001b[0m\u001b[1;33m(\u001b[0m\u001b[1;34m'run ./src/cranked_wing/init.py'\u001b[0m\u001b[1;33m)\u001b[0m\u001b[1;33m\u001b[0m\u001b[0m\n\u001b[0;32m      2\u001b[0m plot_wing_functions(c_r, c_k, c_t, b_k, b, Lambda_le_1, Lambda_le_2, \n\u001b[1;32m----> 3\u001b[1;33m                     f_chords, f_Xle)\n\u001b[0m",
      "\u001b[1;32mC:\\Users\\agodemar\\Dropbox\\Jupyter\\flight_mechanics\\src\\cranked_wing\\init.py\u001b[0m in \u001b[0;36mplot_wing_functions\u001b[1;34m(c_r, c_k, c_t, b_k, b, Lambda_le_1, Lambda_le_2, f_chords, f_Xle)\u001b[0m\n\u001b[0;32m    160\u001b[0m     \u001b[1;31m# define vectors\u001b[0m\u001b[1;33m\u001b[0m\u001b[1;33m\u001b[0m\u001b[0m\n\u001b[0;32m    161\u001b[0m     \u001b[0mvY0\u001b[0m \u001b[1;33m=\u001b[0m \u001b[0mnp\u001b[0m\u001b[1;33m.\u001b[0m\u001b[0mlinspace\u001b[0m\u001b[1;33m(\u001b[0m\u001b[1;36m0\u001b[0m\u001b[1;33m,\u001b[0m \u001b[0mb\u001b[0m\u001b[1;33m/\u001b[0m\u001b[1;36m2\u001b[0m\u001b[1;33m,\u001b[0m \u001b[1;36m10\u001b[0m\u001b[1;33m,\u001b[0m \u001b[0mendpoint\u001b[0m\u001b[1;33m=\u001b[0m\u001b[1;32mTrue\u001b[0m\u001b[1;33m)\u001b[0m\u001b[1;33m\u001b[0m\u001b[0m\n\u001b[1;32m--> 162\u001b[1;33m     \u001b[0mvY1\u001b[0m \u001b[1;33m=\u001b[0m \u001b[0mnp\u001b[0m\u001b[1;33m.\u001b[0m\u001b[0mconcatenate\u001b[0m\u001b[1;33m(\u001b[0m\u001b[0mvY0\u001b[0m\u001b[1;33m,\u001b[0m\u001b[1;33m[\u001b[0m\u001b[0mb_k\u001b[0m\u001b[1;33m/\u001b[0m\u001b[1;36m2\u001b[0m\u001b[1;33m]\u001b[0m\u001b[1;33m)\u001b[0m\u001b[1;33m\u001b[0m\u001b[0m\n\u001b[0m\u001b[0;32m    163\u001b[0m     \u001b[0mvY\u001b[0m \u001b[1;33m=\u001b[0m \u001b[0mnp\u001b[0m\u001b[1;33m.\u001b[0m\u001b[0msort\u001b[0m\u001b[1;33m(\u001b[0m\u001b[0mnp\u001b[0m\u001b[1;33m.\u001b[0m\u001b[0munique\u001b[0m\u001b[1;33m(\u001b[0m\u001b[0mvY1\u001b[0m\u001b[1;33m)\u001b[0m\u001b[1;33m)\u001b[0m\u001b[1;33m\u001b[0m\u001b[0m\n\u001b[0;32m    164\u001b[0m     \u001b[0mvChord\u001b[0m \u001b[1;33m=\u001b[0m \u001b[1;33m[\u001b[0m\u001b[1;33m]\u001b[0m\u001b[1;33m\u001b[0m\u001b[0m\n",
      "\u001b[1;31mTypeError\u001b[0m: an integer is required for the axis"
     ]
    }
   ],
   "source": [
    "%run ./src/cranked_wing/init.py\n",
    "plot_wing_functions(c_r, c_k, c_t, b_k, b, Lambda_le_1, Lambda_le_2, \n",
    "                    f_chords, f_Xle)"
   ]
  },
  {
   "cell_type": "code",
   "execution_count": null,
   "metadata": {
    "collapsed": true
   },
   "outputs": [],
   "source": []
  },
  {
   "cell_type": "code",
   "execution_count": null,
   "metadata": {
    "collapsed": true
   },
   "outputs": [],
   "source": []
  }
 ],
 "metadata": {
  "kernelspec": {
   "display_name": "Python 3",
   "language": "python",
   "name": "python3"
  },
  "language_info": {
   "codemirror_mode": {
    "name": "ipython",
    "version": 3
   },
   "file_extension": ".py",
   "mimetype": "text/x-python",
   "name": "python",
   "nbconvert_exporter": "python",
   "pygments_lexer": "ipython3",
   "version": "3.5.1"
  }
 },
 "nbformat": 4,
 "nbformat_minor": 0
}
