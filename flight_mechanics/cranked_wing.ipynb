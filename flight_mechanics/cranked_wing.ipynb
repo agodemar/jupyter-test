{
 "cells": [
  {
   "cell_type": "markdown",
   "metadata": {
    "collapsed": true
   },
   "source": [
    "# Anatomy of a cranked wing"
   ]
  },
  {
   "cell_type": "markdown",
   "metadata": {},
   "source": [
    "— Agostino De Marco, <font color='darkblue'><i>University of Naples Federico II, Dept. Industrial Engineering</i></font>"
   ]
  },
  {
   "cell_type": "markdown",
   "metadata": {},
   "source": [
    "We will use the Python language to work out our examples, so we set up some Python tools first."
   ]
  },
  {
   "cell_type": "code",
   "execution_count": 35,
   "metadata": {
    "collapsed": false
   },
   "outputs": [],
   "source": [
    "# Set up the notebook and import required Python packages\n",
    "%run ./src/cranked_wing/init.py\n",
    "%matplotlib inline"
   ]
  },
  {
   "cell_type": "markdown",
   "metadata": {},
   "source": [
    "The nomenclature."
   ]
  },
  {
   "cell_type": "code",
   "execution_count": 36,
   "metadata": {
    "collapsed": false
   },
   "outputs": [
    {
     "data": {
      "image/svg+xml": [
       "<svg height=\"533.6767797661506px\" id=\"svg2\" inkscape:version=\"0.91 r13725\" sodipodi:docname=\"cranked_wing.svg\" version=\"1.1\" viewBox=\"-1.1368683772161603e-13 0.0 1126.4849000000002 771.20923\" width=\"779.52754px\" xmlns=\"http://www.w3.org/2000/svg\" xmlns:cc=\"http://creativecommons.org/ns#\" xmlns:dc=\"http://purl.org/dc/elements/1.1/\" xmlns:inkscape=\"http://www.inkscape.org/namespaces/inkscape\" xmlns:rdf=\"http://www.w3.org/1999/02/22-rdf-syntax-ns#\" xmlns:sodipodi=\"http://sodipodi.sourceforge.net/DTD/sodipodi-0.dtd\" xmlns:svg=\"http://www.w3.org/2000/svg\">\n",
       "  <sodipodi:namedview bordercolor=\"#666666\" borderopacity=\"1.0\" fit-margin-bottom=\"2\" fit-margin-left=\"2\" fit-margin-right=\"2\" fit-margin-top=\"2\" id=\"base\" inkscape:current-layer=\"layer1\" inkscape:cx=\"389.02497\" inkscape:cy=\"600.42383\" inkscape:document-units=\"px\" inkscape:pageopacity=\"0.0\" inkscape:pageshadow=\"2\" inkscape:window-height=\"897\" inkscape:window-maximized=\"1\" inkscape:window-width=\"2293\" inkscape:window-x=\"-8\" inkscape:window-y=\"-8\" inkscape:zoom=\"0.52864766\" pagecolor=\"#ffffff\" showgrid=\"false\" units=\"mm\"/>\n",
       "  <defs id=\"defs4\"/>\n",
       "  <metadata id=\"metadata7\">\n",
       "    <rdf:RDF>\n",
       "      <cc:Work rdf:about=\"\">\n",
       "        <dc:format>image/svg+xml</dc:format>\n",
       "        <dc:type rdf:resource=\"http://purl.org/dc/dcmitype/StillImage\"/>\n",
       "        <dc:title/>\n",
       "      </cc:Work>\n",
       "    </rdf:RDF>\n",
       "  </metadata>\n",
       "  <g id=\"layer1\" inkscape:groupmode=\"layer\" inkscape:label=\"Layer 1\" transform=\"translate(-3.8436493,-335.45446)\">\n",
       "    <g id=\"g3796\" transform=\"matrix(0,-1.3606531,1.3606531,0,151.59487,645.04235)\">\n",
       "      <path d=\"m 164.44354,623.47296 c 5.77151,8.0772 7.86323,19.09823 9.94957,30.90524 2.08634,-11.80701 4.17806,-22.82804 9.94957,-30.90524 z\" id=\"path3798\" inkscape:connector-curvature=\"0\" sodipodi:nodetypes=\"cccc\" style=\"fill:#000000;fill-opacity:1;stroke:#000000;stroke-width:3;stroke-linecap:round;stroke-linejoin:round;stroke-miterlimit:4;stroke-opacity:1;stroke-dasharray:none\"/>\n",
       "      <path d=\"m 174.39311,0.98634 0,637.39186\" id=\"path3800\" inkscape:connector-curvature=\"0\" sodipodi:nodetypes=\"cc\" style=\"fill:none;stroke:#000000;stroke-width:3;stroke-linecap:butt;stroke-linejoin:miter;stroke-miterlimit:4;stroke-opacity:1;stroke-dasharray:none\"/>\n",
       "    </g>\n",
       "    <path d=\"m 953.78409,710.9582 6.7e-4,122.96316\" id=\"path2985\" inkscape:connector-curvature=\"0\" sodipodi:nodetypes=\"cc\" style=\"fill:none;stroke:#000000;stroke-width:7;stroke-linecap:round;stroke-linejoin:round;stroke-miterlimit:4;stroke-opacity:1;stroke-dasharray:none\"/>\n",
       "    <g id=\"g3770\" transform=\"matrix(1.3606531,0,0,1.3606531,-63.718664,33.077538)\">\n",
       "      <path d=\"m 164.44354,751.35273 c 5.77151,8.0772 7.86323,19.09823 9.94957,30.90524 2.08634,-11.80701 4.17806,-22.82804 9.94957,-30.90524 z\" id=\"path3760\" inkscape:connector-curvature=\"0\" sodipodi:nodetypes=\"cccc\" style=\"fill:#000000;fill-opacity:1;stroke:#000000;stroke-width:3;stroke-linecap:round;stroke-linejoin:round;stroke-miterlimit:4;stroke-opacity:1;stroke-dasharray:none\"/>\n",
       "      <path d=\"m 174.39311,227.44384 0,538.81413\" id=\"path3762\" inkscape:connector-curvature=\"0\" sodipodi:nodetypes=\"cc\" style=\"fill:none;stroke:#000000;stroke-width:3;stroke-linecap:butt;stroke-linejoin:miter;stroke-miterlimit:4;stroke-opacity:1;stroke-dasharray:none\"/>\n",
       "    </g>\n",
       "    <path d=\"m 209.2499,-84.153236 a 17.10598,16.708168 0 0 1 -17.10598,16.708168 17.10598,16.708168 0 0 1 -17.10598,-16.708168 17.10598,16.708168 0 0 1 17.10598,-16.708164 17.10598,16.708168 0 0 1 17.10598,16.708164 z\" id=\"path3774\" sodipodi:cx=\"192.14392\" sodipodi:cy=\"-84.153236\" sodipodi:rx=\"17.10598\" sodipodi:ry=\"16.708168\" sodipodi:type=\"arc\" style=\"fill:#000000;fill-opacity:1;stroke:none\" transform=\"matrix(0.4524924,0,0,0.4524924,86.6262,445.83252)\"/>\n",
       "    <path d=\"m 209.2499,-84.153236 a 17.10598,16.708168 0 0 1 -17.10598,16.708168 17.10598,16.708168 0 0 1 -17.10598,-16.708168 17.10598,16.708168 0 0 1 17.10598,-16.708164 17.10598,16.708168 0 0 1 17.10598,16.708164 z\" id=\"path3778\" sodipodi:cx=\"192.14392\" sodipodi:cy=\"-84.153236\" sodipodi:rx=\"17.10598\" sodipodi:ry=\"16.708168\" sodipodi:type=\"arc\" style=\"fill:#000000;fill-opacity:1;stroke:none\" transform=\"matrix(0.4524924,0,0,0.4524924,443.7196,638.54222)\"/>\n",
       "    <path d=\"m 209.2499,-84.153236 a 17.10598,16.708168 0 0 1 -17.10598,16.708168 17.10598,16.708168 0 0 1 -17.10598,-16.708168 17.10598,16.708168 0 0 1 17.10598,-16.708164 17.10598,16.708168 0 0 1 17.10598,16.708164 z\" id=\"path3780\" sodipodi:cx=\"192.14392\" sodipodi:cy=\"-84.153236\" sodipodi:rx=\"17.10598\" sodipodi:ry=\"16.708168\" sodipodi:type=\"arc\" style=\"fill:#000000;fill-opacity:1;stroke:none\" transform=\"matrix(0.4524924,0,0,0.4524924,866.80951,747.82624)\"/>\n",
       "    <path d=\"m 209.2499,-84.153236 a 17.10598,16.708168 0 0 1 -17.10598,16.708168 17.10598,16.708168 0 0 1 -17.10598,-16.708168 17.10598,16.708168 0 0 1 17.10598,-16.708164 17.10598,16.708168 0 0 1 17.10598,16.708164 z\" id=\"path3782\" sodipodi:cx=\"192.14392\" sodipodi:cy=\"-84.153236\" sodipodi:rx=\"17.10598\" sodipodi:ry=\"16.708168\" sodipodi:type=\"arc\" style=\"fill:#000000;fill-opacity:1;stroke:none\" transform=\"matrix(0.4524924,0,0,0.4524924,866.80951,872.67096)\"/>\n",
       "    <path d=\"m 209.2499,-84.153236 a 17.10598,16.708168 0 0 1 -17.10598,16.708168 17.10598,16.708168 0 0 1 -17.10598,-16.708168 17.10598,16.708168 0 0 1 17.10598,-16.708164 17.10598,16.708168 0 0 1 17.10598,16.708164 z\" id=\"path4201\" sodipodi:cx=\"192.14392\" sodipodi:cy=\"-84.153236\" sodipodi:rx=\"17.10598\" sodipodi:ry=\"16.708168\" sodipodi:type=\"arc\" style=\"fill:#000000;fill-opacity:1;stroke:none\" transform=\"matrix(0.4524924,0,0,0.4524924,443.71963,794.58756)\"/>\n",
       "    <g id=\"g4669\" transform=\"translate(0,144)\">\n",
       "      <path d=\"m 927.29491,872.89981 c 6.9688,-4.97949 16.4774,-6.78416 26.6641,-8.58419 -10.1867,-1.80003 -19.6953,-3.60471 -26.6641,-8.58419 z\" id=\"path4657\" inkscape:connector-curvature=\"0\" sodipodi:nodetypes=\"cccc\" style=\"fill:#0c417a;fill-opacity:1;stroke:#0c417a;stroke-width:2.58831072;stroke-linecap:round;stroke-linejoin:round;stroke-miterlimit:4;stroke-opacity:1;stroke-dasharray:none\"/>\n",
       "      <path d=\"m 177.90048,864.31562 755.26922,0\" id=\"path4659\" inkscape:connector-curvature=\"0\" sodipodi:nodetypes=\"cc\" style=\"fill:none;stroke:#0c417a;stroke-width:3;stroke-linecap:butt;stroke-linejoin:miter;stroke-miterlimit:4;stroke-opacity:1;stroke-dasharray:none\"/>\n",
       "      <path d=\"m 202.35874,872.89981 c -6.9688,-4.97949 -16.4774,-6.78416 -26.6641,-8.58419 10.1867,-1.80003 19.6953,-3.60471 26.6641,-8.58419 z\" id=\"path4665\" inkscape:connector-curvature=\"0\" sodipodi:nodetypes=\"cccc\" style=\"fill:#0c417a;fill-opacity:1;stroke:#0c417a;stroke-width:2.58831072;stroke-linecap:round;stroke-linejoin:round;stroke-miterlimit:4;stroke-opacity:1;stroke-dasharray:none\"/>\n",
       "    </g>\n",
       "    <path d=\"m 953.75317,846.08861 0,181.80759\" id=\"path4667\" inkscape:connector-curvature=\"0\" sodipodi:nodetypes=\"cc\" style=\"fill:none;stroke:#0c417a;stroke-width:3;stroke-linecap:butt;stroke-linejoin:miter;stroke-miterlimit:4;stroke-opacity:1;stroke-dasharray:none\"/>\n",
       "    <g id=\"g4805\" transform=\"translate(-1.0632324e-5,146.32862)\">\n",
       "      <rect height=\"57.165413\" id=\"rect4803\" style=\"fill:#ffffff;fill-opacity:1;stroke:none\" width=\"102.64769\" x=\"513.50299\" y=\"833.4043\"/>\n",
       "      <g id=\"g4732\" transform=\"translate(255.74506,516.68732)\">\n",
       "        <g font-size-adjust=\"none\" font-stretch=\"normal\" font-style=\"normal\" font-variant=\"normal\" font-weight=\"normal\" id=\"g4734\" letter-spacing=\"normal\" stroke-miterlimit=\"10.433\" style=\"font-style:normal;font-variant:normal;font-weight:normal;font-stretch:normal;letter-spacing:normal;word-spacing:normal;text-anchor:start;fill:none;stroke:#000000;stroke-linecap:butt;stroke-linejoin:miter;stroke-miterlimit:10.43299961;stroke-opacity:1;stroke-dasharray:none;stroke-dashoffset:0\" transform=\"matrix(0.96710449,0,0,-0.96710449,-169.24328,750.25537)\" word-spacing=\"normal\" xml:space=\"preserve\"><path d=\"m 479.04,422.5 -0.01,0.42 -0.03,0.4 -0.04,0.39 -0.06,0.38 -0.07,0.36 -0.09,0.34 -0.1,0.33 -0.11,0.32 -0.13,0.3 -0.14,0.28 -0.15,0.28 -0.17,0.25 -0.17,0.25 -0.19,0.23 -0.19,0.21 -0.21,0.21 -0.21,0.19 -0.23,0.17 -0.23,0.17 -0.24,0.15 -0.24,0.13 -0.26,0.13 -0.25,0.11 -0.27,0.1 -0.27,0.09 -0.27,0.07 -0.28,0.06 -0.28,0.05 -0.28,0.04 -0.29,0.03 -0.29,0.02 -0.29,0 c -4.12,0 -7.21,-3.82 -8.67,-5.92 l 5.19,18.88 c 0,0 -6.72,-1.19 -8.08,-1.3 v -0.89 c 1.95,0 3.25,-0.2 3.25,-1.75 0,-0.94 -0.5,-2.89 -0.86,-4.08 l -7.11,-25.4 c 0.49,-0.96 3.83,-2.89 7.02,-2.89 l 0.3,1.09 c -1.55,0 -2.94,0.55 -3.79,1.5 1.14,4.42 4.58,18.42 11.02,18.42 3.33,0 3.62,-2.78 3.62,-5.33 h 0 c 0,-8.81 -5.67,-14.59 -10.85,-14.59 l -0.3,-1.09 c 9.42,0 15.3,9.31 15.3,16.89 z\" id=\"path4736\" inkscape:connector-curvature=\"0\" style=\"fill:#000000;stroke-width:0\"/><polygon id=\"polygon4738\" points=\"484.88,395.54 487.41,395.54 504.6,441.92 502.16,441.92 \" style=\"fill:#000000;stroke-width:0\"/><path d=\"m 532.47,412.62 -0.8,0.16 c -1.5,-2.5 -2.7,-2.94 -5.14,-2.94 h -11.45 c 7.87,7.22 15.04,13.75 15.04,21.02 0,5.14 -4.39,8.78 -9.21,8.78 -4.83,0 -8.68,-2.6 -10.11,-9.43 h 1.09 c 1.39,2.79 3.33,5.68 7.17,5.68 4.33,0 6.77,-3.28 6.77,-7.07 0,-5.34 -5.77,-13.26 -15.6,-21.87 v -0.75 h 19.65 z\" id=\"path4740\" inkscape:connector-curvature=\"0\" style=\"fill:#000000;stroke-width:0\"/></g>      </g>\n",
       "    </g>\n",
       "    <path d=\"m 65.24393,407.75382 71.77661,0\" id=\"path4813\" inkscape:connector-curvature=\"0\" sodipodi:nodetypes=\"cc\" style=\"fill:none;stroke:#0c417a;stroke-width:3;stroke-linecap:butt;stroke-linejoin:miter;stroke-miterlimit:4;stroke-opacity:1;stroke-dasharray:none\"/>\n",
       "    <path d=\"m 65.24393,755.25307 71.77661,3e-5\" id=\"path4815\" inkscape:connector-curvature=\"0\" sodipodi:nodetypes=\"cc\" style=\"fill:none;stroke:#0c417a;stroke-width:3;stroke-linecap:butt;stroke-linejoin:miter;stroke-miterlimit:4;stroke-opacity:1;stroke-dasharray:none\"/>\n",
       "    <g id=\"g4828\" transform=\"translate(109.20491,0)\">\n",
       "      <path d=\"m -19.44565,435.45649 c -4.97949,-6.9688 -6.78416,-16.4774 -8.58419,-26.6641 -1.80003,10.1867 -3.60471,19.6953 -8.58419,26.6641 z\" id=\"path4819\" inkscape:connector-curvature=\"0\" sodipodi:nodetypes=\"cccc\" style=\"fill:#0c417a;fill-opacity:1;stroke:#0c417a;stroke-width:2.58831072;stroke-linecap:round;stroke-linejoin:round;stroke-miterlimit:4;stroke-opacity:1;stroke-dasharray:none\"/>\n",
       "      <path d=\"m -28.02984,734.72495 0,-326.97113\" id=\"path4821\" inkscape:connector-curvature=\"0\" sodipodi:nodetypes=\"cc\" style=\"fill:#0c417a;fill-opacity:1;stroke:#0c417a;stroke-width:3;stroke-linecap:butt;stroke-linejoin:miter;stroke-miterlimit:4;stroke-opacity:1;stroke-dasharray:none\"/>\n",
       "      <path d=\"m -19.44565,728.79484 c -4.97949,6.9688 -6.78416,16.4774 -8.58419,26.6641 -1.80003,-10.1867 -3.60471,-19.6953 -8.58419,-26.6641 z\" id=\"path4823\" inkscape:connector-curvature=\"0\" sodipodi:nodetypes=\"cccc\" style=\"fill:#0c417a;fill-opacity:1;stroke:#0c417a;stroke-width:2.58831072;stroke-linecap:round;stroke-linejoin:round;stroke-miterlimit:4;stroke-opacity:1;stroke-dasharray:none\"/>\n",
       "    </g>\n",
       "    <path d=\"m 953.78409,834.60169 -423.39715,-77.84861 -356.76428,2e-5\" id=\"path3085\" inkscape:connector-curvature=\"0\" sodipodi:nodetypes=\"ccc\" style=\"fill:none;stroke:#000000;stroke-width:7;stroke-linecap:butt;stroke-linejoin:miter;stroke-miterlimit:4;stroke-opacity:1;stroke-dasharray:none\"/>\n",
       "    <path d=\"M 172.88965,406.06169 530.38694,600.15749 953.78409,710.9582\" id=\"path3857\" inkscape:connector-curvature=\"0\" sodipodi:nodetypes=\"ccc\" style=\"fill:none;stroke:#000000;stroke-width:7;stroke-linecap:round;stroke-linejoin:round;stroke-miterlimit:4;stroke-opacity:1;stroke-dasharray:none\"/>\n",
       "    <path d=\"m 539.52632,599.54501 130.64701,0\" id=\"path4082\" inkscape:connector-curvature=\"0\" sodipodi:nodetypes=\"cc\" style=\"fill:none;stroke:#000000;stroke-width:5.44299984;stroke-linecap:round;stroke-linejoin:miter;stroke-miterlimit:4;stroke-opacity:1;stroke-dasharray:5.443, 10.886;stroke-dashoffset:0\"/>\n",
       "    <g id=\"g3307\" transform=\"translate(-92,-20)\">\n",
       "      <path d=\"m 740.83972,692.35725 c 5.19166,-25.70413 7.83423,-78.37251 6.85902,-114.97275\" id=\"path4084\" inkscape:connector-curvature=\"0\" sodipodi:nodetypes=\"cc\" style=\"fill:none;stroke:#0c417a;stroke-width:3;stroke-linecap:butt;stroke-linejoin:miter;stroke-miterlimit:4;stroke-opacity:1;stroke-dasharray:none\"/>\n",
       "      <path d=\"m 752.10784,593.76288 c -2.2517,7.33544 -3.74808,12.48999 -4.49541,24.21695 -0.71526,-11.72876 -2.19762,-16.88752 -4.42915,-24.229 z\" id=\"path4086\" inkscape:connector-curvature=\"0\" inkscape:transform-center-x=\"-0.03836\" inkscape:transform-center-y=\"-13.151823\" sodipodi:nodetypes=\"cccc\" style=\"fill:#0c417a;fill-opacity:1;stroke:#0c417a;stroke-width:2.88935113;stroke-linecap:round;stroke-linejoin:round;stroke-miterlimit:4;stroke-opacity:1;stroke-dasharray:none;display:inline\"/>\n",
       "      <path d=\"m 747.53507,678.80469 c -1.47201,-7.53076 -2.42094,-12.81356 -1.93743,-24.55435 -1.93827,11.58958 -3.95215,16.56497 -6.93943,23.63273 z\" id=\"path4088\" inkscape:connector-curvature=\"0\" inkscape:transform-center-x=\"2.60432\" inkscape:transform-center-y=\"13.309358\" sodipodi:nodetypes=\"cccc\" style=\"fill:#0c417a;fill-opacity:1;stroke:#0c417a;stroke-width:2.88935113;stroke-linecap:round;stroke-linejoin:round;stroke-miterlimit:4;stroke-opacity:1;stroke-dasharray:none;display:inline\"/>\n",
       "    </g>\n",
       "    <text id=\"text4010\" sodipodi:linespacing=\"125%\" style=\"font-size:36px;font-style:italic;font-variant:normal;font-weight:normal;font-stretch:normal;text-align:start;line-height:125%;letter-spacing:0px;word-spacing:0px;writing-mode:lr-tb;text-anchor:start;fill:#000000;fill-opacity:1;stroke:none;font-family:Times New Roman;-inkscape-font-specification:'Times New Roman, Italic'\" transform=\"matrix(0.99997716,-0.00675805,0.00675805,0.99997716,0,0)\" x=\"139.28925\" xml:space=\"preserve\" y=\"396.23163\"><tspan id=\"tspan4012\" sodipodi:role=\"line\" style=\"font-size:36px;font-style:italic;font-variant:normal;font-weight:normal;font-stretch:normal;text-align:start;line-height:125%;writing-mode:lr-tb;text-anchor:start;font-family:Times New Roman;-inkscape-font-specification:'Times New Roman, Italic'\" x=\"139.28925\" y=\"396.23163\">A</tspan></text>\n",
       "    <path d=\"m 209.2499,-84.153236 a 17.10598,16.708168 0 0 1 -17.10598,16.708168 17.10598,16.708168 0 0 1 -17.10598,-16.708168 17.10598,16.708168 0 0 1 17.10598,-16.708164 17.10598,16.708168 0 0 1 17.10598,16.708164 z\" id=\"path4111\" sodipodi:cx=\"192.14392\" sodipodi:cy=\"-84.153236\" sodipodi:rx=\"17.10598\" sodipodi:ry=\"16.708168\" sodipodi:type=\"arc\" style=\"fill:#000000;fill-opacity:1;stroke:none\" transform=\"matrix(0.4524924,0,0,0.4524924,86.626213,794.90348)\"/>\n",
       "    <text id=\"text4117\" sodipodi:linespacing=\"125%\" style=\"font-size:36px;font-style:italic;font-variant:normal;font-weight:normal;font-stretch:normal;text-align:start;line-height:125%;letter-spacing:0px;word-spacing:0px;writing-mode:lr-tb;text-anchor:start;fill:#000000;fill-opacity:1;stroke:none;font-family:Times New Roman;-inkscape-font-specification:'Times New Roman, Italic'\" transform=\"matrix(0.99997716,-0.00675805,0.00675805,0.99997716,0,0)\" x=\"956.12372\" xml:space=\"preserve\" y=\"704.29456\"><tspan id=\"tspan4119\" sodipodi:role=\"line\" style=\"font-size:36px;font-style:italic;font-variant:normal;font-weight:normal;font-stretch:normal;text-align:start;line-height:125%;writing-mode:lr-tb;text-anchor:start;font-family:Times New Roman;-inkscape-font-specification:'Times New Roman, Italic'\" x=\"956.12372\" y=\"704.29456\">C</tspan></text>\n",
       "    <g id=\"g4160\" transform=\"translate(35.027459,-46.931307)\">\n",
       "      <rect height=\"29.937159\" id=\"rect4123\" style=\"fill:#ffffff;fill-opacity:1;stroke:none\" width=\"29.832293\" x=\"498.50204\" y=\"608.31537\"/>\n",
       "      <text id=\"text4113\" sodipodi:linespacing=\"125%\" style=\"font-size:36px;font-style:italic;font-variant:normal;font-weight:normal;font-stretch:normal;text-align:start;line-height:125%;letter-spacing:0px;word-spacing:0px;writing-mode:lr-tb;text-anchor:start;fill:#000000;fill-opacity:1;stroke:none;font-family:Times New Roman;-inkscape-font-specification:'Times New Roman, Italic'\" transform=\"matrix(0.99997716,-0.00675805,0.00675805,0.99997716,0,0)\" x=\"498.98138\" xml:space=\"preserve\" y=\"638.65741\"><tspan id=\"tspan4115\" sodipodi:role=\"line\" style=\"font-size:36px;font-style:italic;font-variant:normal;font-weight:normal;font-stretch:normal;text-align:start;line-height:125%;writing-mode:lr-tb;text-anchor:start;font-family:Times New Roman;-inkscape-font-specification:'Times New Roman, Italic'\" x=\"498.98138\" y=\"638.65741\">B</tspan></text>\n",
       "    </g>\n",
       "    <text id=\"text4165\" sodipodi:linespacing=\"125%\" style=\"font-size:36px;font-style:italic;font-variant:normal;font-weight:normal;font-stretch:normal;text-align:start;line-height:125%;letter-spacing:0px;word-spacing:0px;writing-mode:lr-tb;text-anchor:start;fill:#000000;fill-opacity:1;stroke:none;font-family:Times New Roman;-inkscape-font-specification:'Times New Roman, Italic'\" transform=\"matrix(0.99997716,-0.00675805,0.00675805,0.99997716,0,0)\" x=\"124.97225\" xml:space=\"preserve\" y=\"793.93787\"><tspan id=\"tspan4169\" sodipodi:role=\"line\" x=\"124.97225\" y=\"793.93787\">A'</tspan></text>\n",
       "    <g id=\"g4171\" transform=\"translate(-13.266948,157.41078)\">\n",
       "      <rect height=\"29.937159\" id=\"rect4173\" style=\"fill:#ffffff;fill-opacity:1;stroke:none\" width=\"29.832293\" x=\"498.50204\" y=\"608.31537\"/>\n",
       "      <text id=\"text4175\" sodipodi:linespacing=\"125%\" style=\"font-size:36px;font-style:italic;font-variant:normal;font-weight:normal;font-stretch:normal;text-align:start;line-height:125%;letter-spacing:0px;word-spacing:0px;writing-mode:lr-tb;text-anchor:start;fill:#000000;fill-opacity:1;stroke:none;font-family:Times New Roman;-inkscape-font-specification:'Times New Roman, Italic'\" transform=\"matrix(0.99997716,-0.00675805,0.00675805,0.99997716,0,0)\" x=\"498.98138\" xml:space=\"preserve\" y=\"638.65741\"><tspan id=\"tspan4179\" sodipodi:role=\"line\" x=\"498.98138\" y=\"638.65741\">B'</tspan></text>\n",
       "    </g>\n",
       "    <text id=\"text4181\" sodipodi:linespacing=\"125%\" style=\"font-size:36px;font-style:italic;font-variant:normal;font-weight:normal;font-stretch:normal;text-align:start;line-height:125%;letter-spacing:0px;word-spacing:0px;writing-mode:lr-tb;text-anchor:start;fill:#000000;fill-opacity:1;stroke:none;font-family:Times New Roman;-inkscape-font-specification:'Times New Roman, Italic'\" transform=\"matrix(0.99997716,-0.00675805,0.00675805,0.99997716,0,0)\" x=\"954.95435\" xml:space=\"preserve\" y=\"877.32544\"><tspan id=\"tspan4185\" sodipodi:role=\"line\" x=\"954.95435\" y=\"877.32544\">C'</tspan></text>\n",
       "    <g id=\"g4207\" transform=\"translate(-111.84647,320.45105)\"/>\n",
       "    <path d=\"m 1022.0173,709.74754 -48.7767,0\" id=\"path4525\" inkscape:connector-curvature=\"0\" sodipodi:nodetypes=\"cc\" style=\"fill:none;stroke:#0c417a;stroke-width:3;stroke-linecap:butt;stroke-linejoin:miter;stroke-miterlimit:4;stroke-opacity:1;stroke-dasharray:none\"/>\n",
       "    <g id=\"g4845\" transform=\"translate(-58.451178,0)\">\n",
       "      <path d=\"m 1046.5939,736.2058 c 4.9794,-6.9688 6.7841,-16.4774 8.5841,-26.6641 1.8001,10.1867 3.6048,19.6953 8.5842,26.6641 z\" id=\"path4529\" inkscape:connector-curvature=\"0\" sodipodi:nodetypes=\"cccc\" style=\"fill:#0c417a;fill-opacity:1;stroke:#0c417a;stroke-width:2.58831072;stroke-linecap:round;stroke-linejoin:round;stroke-miterlimit:4;stroke-opacity:1;stroke-dasharray:none\"/>\n",
       "      <path d=\"m 1055.178,819.64029 0,-94.97113\" id=\"path4531\" inkscape:connector-curvature=\"0\" sodipodi:nodetypes=\"cc\" style=\"fill:#0c417a;fill-opacity:1;stroke:#0c417a;stroke-width:3;stroke-linecap:butt;stroke-linejoin:miter;stroke-miterlimit:4;stroke-opacity:1;stroke-dasharray:none\"/>\n",
       "      <path d=\"m 1046.5939,808.13402 c 4.9794,6.9688 6.7841,16.4774 8.5841,26.6641 1.8001,-10.1867 3.6048,-19.6953 8.5842,-26.6641 z\" id=\"path4533\" inkscape:connector-curvature=\"0\" sodipodi:nodetypes=\"cccc\" style=\"fill:#0c417a;fill-opacity:1;stroke:#0c417a;stroke-width:2.58831072;stroke-linecap:round;stroke-linejoin:round;stroke-miterlimit:4;stroke-opacity:1;stroke-dasharray:none\"/>\n",
       "    </g>\n",
       "    <path d=\"m 1022.0173,834.59225 -48.7767,3e-5\" id=\"path4551\" inkscape:connector-curvature=\"0\" sodipodi:nodetypes=\"cc\" style=\"fill:none;stroke:#0c417a;stroke-width:3;stroke-linecap:butt;stroke-linejoin:miter;stroke-miterlimit:4;stroke-opacity:1;stroke-dasharray:none\"/>\n",
       "    <g id=\"g3202\" transform=\"translate(725.92088,262.75132)\">\n",
       "      <path d=\"m -50.029534,285.24134 0.0837,-0.0186 0.0837,-0.0279 0.0837,-0.0186 0.0744,-0.0186 0.0837,-0.0279 0.0744,-0.0186 0.0651,-0.0186 0.0744,-0.0279 0.13955,-0.0372 0.13023,-0.0465 0.12094,-0.0558 0.13024,-0.0465 0.12094,-0.0558 0.12093,-0.0558 0.12094,-0.0651 0.13024,-0.0744 0.0651,-0.0279 0.0651,-0.0465 0.0744,-0.0372 0.0651,-0.0372 0.0744,-0.0465 0.0744,-0.0465 0.0744,-0.0465 0.0744,-0.0465 c 1.58147,-0.9954 2.63268,-2.45594 2.63268,-5.0235 0,-2.48385 -1.17215,-3.53506 -2.70711,-3.53506 -1.3489,0 -2.22336,0.84655 -2.22336,2.14894 0,1.22797 0.84655,2.03731 2.03731,2.03731 0.36281,0 0.71631,-0.0558 1.07912,-0.28839 0.13024,-0.0744 0.15815,-0.10233 0.21396,-0.10233 0.15815,0 0.26048,0.3349 0.26048,0.70702 0,0.3349 0,2.6885 -3.49784,4.00019 z\" id=\"path3135\" inkscape:connector-curvature=\"0\" style=\"font-style:normal;font-variant:normal;font-weight:normal;font-stretch:normal;letter-spacing:normal;word-spacing:normal;text-anchor:start;fill:#000000;stroke:#000000;stroke-width:0;stroke-linecap:butt;stroke-linejoin:miter;stroke-miterlimit:10.43299961;stroke-opacity:1;stroke-dasharray:none;stroke-dashoffset:0\"/>\n",
       "      <g id=\"g5375\" transform=\"translate(-385.68977,-84.63846)\">\n",
       "        <path d=\"m 306.12726,356.40207 -0.20309,-0.01 -0.20309,-0.0194 -0.18375,-0.029 -0.18375,-0.0387 -0.17408,-0.058 -0.16441,-0.058 -0.15474,-0.0774 -0.15473,-0.0774 -0.14507,-0.087 -0.14506,-0.10638 -0.12573,-0.10639 -0.12572,-0.11605 -0.12572,-0.11605 -0.11606,-0.1354 -0.10638,-0.13539 -0.10638,-0.14507 -0.0967,-0.15473 -0.087,-0.15474 -0.087,-0.16441 -0.087,-0.1644 -0.0774,-0.17408 -0.0677,-0.18375 -0.0677,-0.18375 -0.0677,-0.19342 -0.058,-0.19342 -0.058,-0.19343 -0.0484,-0.20309 -0.0483,-0.20309 -0.0387,-0.21276 -0.0387,-0.21277 -0.0387,-0.21276 -0.0387,-0.21276 -4.17789,-27.8913 h -1.01546 l -16.39242,26.54702 c -2.84329,4.67112 -4.87421,5.53184 -7.07921,5.67691 l -0.24177,1.01546 h 12.48532 l 0.24177,-1.01546 c -1.69243,-0.0387 -4.24559,-0.52224 -4.24559,-2.59184 0,-0.68665 0.29014,-1.49902 0.91875,-2.46612 l 12.18552,-19.5065 2.94,20.31887 c 0.0484,0.24177 0.0484,0.44487 0.0484,0.68664 0,2.10829 -1.6344,3.41388 -3.65565,3.55895 l -0.24178,1.01546 h 11.41183 z\" id=\"path5237\" inkscape:connector-curvature=\"0\" style=\"font-style:normal;font-variant:normal;font-weight:normal;font-stretch:normal;letter-spacing:normal;word-spacing:normal;text-anchor:start;fill:#000000;stroke:#000000;stroke-width:0;stroke-linecap:butt;stroke-linejoin:miter;stroke-miterlimit:10.43299961;stroke-opacity:1;stroke-dasharray:none;stroke-dashoffset:0\"/>\n",
       "        <path d=\"m 310.22778,343.62662 h 0.21277 c 0.35783,-0.0484 0.76401,-0.0774 1.0348,-0.0774 1.07348,0 1.42164,0.46421 1.42164,2.05026 v 16.08295 c 0,1.80848 -0.48355,2.25335 -2.59184,2.42743 v 0.50289 h 7.93993 v -0.50289 c -2.10829,-0.1354 -2.52414,-0.48355 -2.52414,-2.32105 v -20.13512 l -0.1354,-0.058 c -1.75046,0.58026 -3.03671,0.90907 -5.35776,1.47967 z\" id=\"path5239\" inkscape:connector-curvature=\"0\" style=\"font-style:normal;font-variant:normal;font-weight:normal;font-stretch:normal;letter-spacing:normal;word-spacing:normal;text-anchor:start;fill:#000000;stroke:#000000;stroke-width:0;stroke-linecap:butt;stroke-linejoin:miter;stroke-miterlimit:10.43299961;stroke-opacity:1;stroke-dasharray:none;stroke-dashoffset:0\"/>\n",
       "        <path d=\"m 332.74198,359.08095 -0.15474,0.2321 -0.14507,0.23211 -0.15473,0.21276 -0.14507,0.21276 -0.15473,0.20309 -0.14507,0.18375 -0.14507,0.18375 -0.15473,0.17408 -0.14507,0.16441 -0.15474,0.15474 -0.14506,0.15473 -0.15474,0.1354 -0.14506,0.13539 -0.15474,0.12573 -0.15474,0.11605 -0.15473,0.10638 -0.16441,0.10638 -0.15474,0.0967 -0.16441,0.087 -0.1644,0.0774 -0.16441,0.0677 -0.16441,0.0677 -0.17408,0.058 -0.17408,0.058 -0.17408,0.0484 -0.17407,0.0387 -0.18375,0.029 -0.18375,0.029 -0.19342,0.0194 -0.19343,0.01 -0.19342,0.01 -0.20309,0.01 c -1.91487,0 -3.36552,-0.96711 -4.33263,-2.89164 -0.61894,-1.28625 -0.85105,-2.39842 -0.92842,-4.45836 l 0.0774,-1.07348 c 0.3675,-2.63053 1.51836,-3.87809 3.56862,-3.87809 2.05026,0 2.8723,0.94776 3.30749,3.87809 h -6.87611 l -0.0774,1.07348 h 10.38671 c -0.27079,-2.18565 -0.60928,-3.15276 -1.45066,-4.24558 -1.01546,-1.20889 -2.55316,-1.91487 -4.30362,-1.91487 -1.69243,0 -3.26881,0.5996 -4.55506,1.75046 -1.58605,1.39263 -2.49513,3.78138 -2.49513,6.5473 0,4.65177 2.41776,7.53374 6.30552,7.53374 3.20112,0 5.72526,-1.97289 7.14691,-5.61888 z\" id=\"path5241\" inkscape:connector-curvature=\"0\" style=\"font-style:normal;font-variant:normal;font-weight:normal;font-stretch:normal;letter-spacing:normal;word-spacing:normal;text-anchor:start;fill:#000000;stroke:#000000;stroke-width:0;stroke-linecap:butt;stroke-linejoin:miter;stroke-miterlimit:10.43299961;stroke-opacity:1;stroke-dasharray:none;stroke-dashoffset:0\"/>\n",
       "      </g>\n",
       "      <path d=\"m -28.166912,276.41776 -0.840825,-0.13885 c -0.910251,1.34995 -1.581369,1.5968 -2.95446,1.5968 h -6.340902 c 4.566684,-3.77215 8.6551,-7.21259 8.6551,-10.9693 0,-2.82332 -2.692183,-4.81353 -5.677499,-4.81353 -2.931317,0 -5.268657,1.40394 -6.209764,5.31494 h 0.979677 c 0.856253,-1.52737 1.95164,-3.00846 4.157842,-3.00846 2.445336,0 3.841569,1.63537 3.841569,3.57929 0,2.79247 -3.409585,6.92717 -9.241364,11.47071 v 0.67883 h 11.910406 z\" id=\"path3178\" inkscape:connector-curvature=\"0\" style=\"font-style:normal;font-variant:normal;font-weight:normal;font-stretch:normal;letter-spacing:normal;word-spacing:normal;text-anchor:start;fill:#000000;stroke:#000000;stroke-width:0;stroke-linecap:butt;stroke-linejoin:miter;stroke-miterlimit:10.43299961;stroke-opacity:1;stroke-dasharray:none;stroke-dashoffset:0\"/>\n",
       "    </g>\n",
       "    <g id=\"g3194\" transform=\"translate(622.14907,149.23413)\">\n",
       "      <path d=\"m -241.35504,313.82132 0,-0.74825 c -2.05193,0 -2.66133,0.0231 -2.66133,-3.25531 0,-0.0386 0,-14.13975 0,-14.13975 l -0.67883,0 -5.20695,2.22934 0.29313,0.72512 c 1.2111,-0.45513 1.45795,-0.53998 1.82822,-0.53998 0.80997,0 0.85625,0.64798 0.85625,1.4348 l 0,10.29047 c 0,3.27845 -0.64026,3.21674 -2.65361,3.25531 l 0,0.74825 z\" id=\"path3182\" inkscape:connector-curvature=\"0\" style=\"font-style:normal;font-variant:normal;font-weight:normal;font-stretch:normal;letter-spacing:normal;word-spacing:normal;text-anchor:start;fill:#000000;stroke:#000000;stroke-width:0;stroke-linecap:butt;stroke-linejoin:miter;stroke-miterlimit:10.43299961;stroke-dasharray:none;stroke-dashoffset:0;stroke-opacity:1\"/>\n",
       "      <path d=\"m -258.13414,318.93447 0.0837,-0.0186 0.0837,-0.0279 0.0837,-0.0186 0.0744,-0.0186 0.0837,-0.0279 0.0744,-0.0186 0.0651,-0.0186 0.0744,-0.0279 0.13955,-0.0372 0.13023,-0.0465 0.12094,-0.0558 0.13024,-0.0465 0.12094,-0.0558 0.12093,-0.0558 0.12094,-0.0651 0.13024,-0.0744 0.0651,-0.0279 0.0651,-0.0465 0.0744,-0.0372 0.0651,-0.0372 0.0744,-0.0465 0.0744,-0.0465 0.0744,-0.0465 0.0744,-0.0465 c 1.58147,-0.9954 2.63268,-2.45594 2.63268,-5.0235 0,-2.48385 -1.17215,-3.53506 -2.70711,-3.53506 -1.3489,0 -2.22336,0.84655 -2.22336,2.14894 0,1.22797 0.84655,2.03731 2.03731,2.03731 0.36281,0 0.71631,-0.0558 1.07912,-0.28839 0.13024,-0.0744 0.15815,-0.10233 0.21396,-0.10233 0.15815,0 0.26048,0.3349 0.26048,0.70702 0,0.3349 0,2.6885 -3.49784,4.00019 z\" id=\"path3184\" inkscape:connector-curvature=\"0\" style=\"font-style:normal;font-variant:normal;font-weight:normal;font-stretch:normal;letter-spacing:normal;word-spacing:normal;text-anchor:start;fill:#000000;stroke:#000000;stroke-width:0;stroke-linecap:butt;stroke-linejoin:miter;stroke-miterlimit:10.43299961;stroke-dasharray:none;stroke-dashoffset:0;stroke-opacity:1\"/>\n",
       "      <g id=\"g3186\" transform=\"translate(-593.79438,-50.945333)\">\n",
       "        <path d=\"m 306.12726,356.40207 -0.20309,-0.01 -0.20309,-0.0194 -0.18375,-0.029 -0.18375,-0.0387 -0.17408,-0.058 -0.16441,-0.058 -0.15474,-0.0774 -0.15473,-0.0774 -0.14507,-0.087 -0.14506,-0.10638 -0.12573,-0.10639 -0.12572,-0.11605 -0.12572,-0.11605 -0.11606,-0.1354 -0.10638,-0.13539 -0.10638,-0.14507 -0.0967,-0.15473 -0.087,-0.15474 -0.087,-0.16441 -0.087,-0.1644 -0.0774,-0.17408 -0.0677,-0.18375 -0.0677,-0.18375 -0.0677,-0.19342 -0.058,-0.19342 -0.058,-0.19343 -0.0484,-0.20309 -0.0483,-0.20309 -0.0387,-0.21276 -0.0387,-0.21277 -0.0387,-0.21276 -0.0387,-0.21276 -4.17789,-27.8913 -1.01546,0 -16.39242,26.54702 c -2.84329,4.67112 -4.87421,5.53184 -7.07921,5.67691 l -0.24177,1.01546 12.48532,0 0.24177,-1.01546 c -1.69243,-0.0387 -4.24559,-0.52224 -4.24559,-2.59184 0,-0.68665 0.29014,-1.49902 0.91875,-2.46612 l 12.18552,-19.5065 2.94,20.31887 c 0.0484,0.24177 0.0484,0.44487 0.0484,0.68664 0,2.10829 -1.6344,3.41388 -3.65565,3.55895 l -0.24178,1.01546 11.41183,0 z\" id=\"path3188\" inkscape:connector-curvature=\"0\" style=\"font-style:normal;font-variant:normal;font-weight:normal;font-stretch:normal;letter-spacing:normal;word-spacing:normal;text-anchor:start;fill:#000000;stroke:#000000;stroke-width:0;stroke-linecap:butt;stroke-linejoin:miter;stroke-miterlimit:10.43299961;stroke-dasharray:none;stroke-dashoffset:0;stroke-opacity:1\"/>\n",
       "        <path d=\"m 310.22778,343.62662 0.21277,0 c 0.35783,-0.0484 0.76401,-0.0774 1.0348,-0.0774 1.07348,0 1.42164,0.46421 1.42164,2.05026 l 0,16.08295 c 0,1.80848 -0.48355,2.25335 -2.59184,2.42743 l 0,0.50289 7.93993,0 0,-0.50289 c -2.10829,-0.1354 -2.52414,-0.48355 -2.52414,-2.32105 l 0,-20.13512 -0.1354,-0.058 c -1.75046,0.58026 -3.03671,0.90907 -5.35776,1.47967 z\" id=\"path3190\" inkscape:connector-curvature=\"0\" style=\"font-style:normal;font-variant:normal;font-weight:normal;font-stretch:normal;letter-spacing:normal;word-spacing:normal;text-anchor:start;fill:#000000;stroke:#000000;stroke-width:0;stroke-linecap:butt;stroke-linejoin:miter;stroke-miterlimit:10.43299961;stroke-dasharray:none;stroke-dashoffset:0;stroke-opacity:1\"/>\n",
       "        <path d=\"m 332.74198,359.08095 -0.15474,0.2321 -0.14507,0.23211 -0.15473,0.21276 -0.14507,0.21276 -0.15473,0.20309 -0.14507,0.18375 -0.14507,0.18375 -0.15473,0.17408 -0.14507,0.16441 -0.15474,0.15474 -0.14506,0.15473 -0.15474,0.1354 -0.14506,0.13539 -0.15474,0.12573 -0.15474,0.11605 -0.15473,0.10638 -0.16441,0.10638 -0.15474,0.0967 -0.16441,0.087 -0.1644,0.0774 -0.16441,0.0677 -0.16441,0.0677 -0.17408,0.058 -0.17408,0.058 -0.17408,0.0484 -0.17407,0.0387 -0.18375,0.029 -0.18375,0.029 -0.19342,0.0194 -0.19343,0.01 -0.19342,0.01 -0.20309,0.01 c -1.91487,0 -3.36552,-0.96711 -4.33263,-2.89164 -0.61894,-1.28625 -0.85105,-2.39842 -0.92842,-4.45836 l 0.0774,-1.07348 c 0.3675,-2.63053 1.51836,-3.87809 3.56862,-3.87809 2.05026,0 2.8723,0.94776 3.30749,3.87809 l -6.87611,0 -0.0774,1.07348 10.38671,0 c -0.27079,-2.18565 -0.60928,-3.15276 -1.45066,-4.24558 -1.01546,-1.20889 -2.55316,-1.91487 -4.30362,-1.91487 -1.69243,0 -3.26881,0.5996 -4.55506,1.75046 -1.58605,1.39263 -2.49513,3.78138 -2.49513,6.5473 0,4.65177 2.41776,7.53374 6.30552,7.53374 3.20112,0 5.72526,-1.97289 7.14691,-5.61888 z\" id=\"path3192\" inkscape:connector-curvature=\"0\" style=\"font-style:normal;font-variant:normal;font-weight:normal;font-stretch:normal;letter-spacing:normal;word-spacing:normal;text-anchor:start;fill:#000000;stroke:#000000;stroke-width:0;stroke-linecap:butt;stroke-linejoin:miter;stroke-miterlimit:10.43299961;stroke-dasharray:none;stroke-dashoffset:0;stroke-opacity:1\"/>\n",
       "      </g>\n",
       "    </g>\n",
       "    <g id=\"g5065\">\n",
       "      <path d=\"m 254.59957,483.88358 c 14.05674,-23.21394 22.29508,-63.17316 19.2316,-108.61926\" id=\"path3314\" inkscape:connector-curvature=\"0\" sodipodi:nodetypes=\"cc\" style=\"fill:none;stroke:#0c417a;stroke-width:3;stroke-linecap:butt;stroke-linejoin:miter;stroke-miterlimit:4;stroke-dasharray:none;stroke-opacity:1\"/>\n",
       "      <path d=\"m 278.43983,389.6427 c -2.2517,7.33544 -3.74808,12.48999 -4.49541,24.21695 -0.71526,-11.72876 -2.19762,-16.88752 -4.42915,-24.229 z\" id=\"path3316\" inkscape:connector-curvature=\"0\" inkscape:transform-center-x=\"-0.03836\" inkscape:transform-center-y=\"-13.151823\" sodipodi:nodetypes=\"cccc\" style=\"display:inline;fill:#0c417a;fill-opacity:1;stroke:#0c417a;stroke-width:2.88935113;stroke-linecap:round;stroke-linejoin:round;stroke-miterlimit:4;stroke-dasharray:none;stroke-opacity:1\"/>\n",
       "      <path d=\"m 262.78499,478.32204 c 0.48187,-7.65813 0.90085,-13.0091 4.34008,-24.24527 -4.80836,10.7217 -8.01588,15.02541 -12.69468,21.10702 z\" id=\"path3318\" inkscape:connector-curvature=\"0\" inkscape:transform-center-x=\"6.70854\" inkscape:transform-center-y=\"13.095068\" sodipodi:nodetypes=\"cccc\" style=\"display:inline;fill:#0c417a;fill-opacity:1;stroke:#0c417a;stroke-width:2.88935113;stroke-linecap:round;stroke-linejoin:round;stroke-miterlimit:4;stroke-dasharray:none;stroke-opacity:1\"/>\n",
       "    </g>\n",
       "    <path d=\"m 530.76068,599.25986 0,163.32285\" id=\"path3682\" inkscape:connector-curvature=\"0\" sodipodi:nodetypes=\"cc\" style=\"fill:none;stroke:#000000;stroke-width:2;stroke-linecap:round;stroke-linejoin:miter;stroke-miterlimit:4;stroke-opacity:1;stroke-dasharray:2, 4;stroke-dashoffset:0\"/>\n",
       "    <path d=\"m 530.76068,774.08861 0,173.80759\" id=\"path3684\" inkscape:connector-curvature=\"0\" sodipodi:nodetypes=\"cc\" style=\"fill:none;stroke:#0c417a;stroke-width:3;stroke-linecap:butt;stroke-linejoin:miter;stroke-miterlimit:4;stroke-opacity:1;stroke-dasharray:none\"/>\n",
       "    <path d=\"m 177.90048,920.31562 329.26922,0\" id=\"path3690\" inkscape:connector-curvature=\"0\" sodipodi:nodetypes=\"cc\" style=\"fill:none;stroke:#0c417a;stroke-width:3;stroke-linecap:butt;stroke-linejoin:miter;stroke-miterlimit:4;stroke-dasharray:none;stroke-opacity:1\"/>\n",
       "    <path d=\"m 202.35873,928.89981 c -6.9688,-4.97949 -16.4774,-6.78416 -26.6641,-8.58419 10.1867,-1.80003 19.6953,-3.60471 26.6641,-8.58419 z\" id=\"path3692\" inkscape:connector-curvature=\"0\" sodipodi:nodetypes=\"cccc\" style=\"fill:#0c417a;fill-opacity:1;stroke:#0c417a;stroke-width:2.58831072;stroke-linecap:round;stroke-linejoin:round;stroke-miterlimit:4;stroke-dasharray:none;stroke-opacity:1\"/>\n",
       "    <path d=\"m 501.30244,928.89981 c 6.9688,-4.97949 16.4774,-6.78416 26.6641,-8.58419 -10.1867,-1.80003 -19.6953,-3.60471 -26.6641,-8.58419 z\" id=\"path3699\" inkscape:connector-curvature=\"0\" sodipodi:nodetypes=\"cccc\" style=\"fill:#0c417a;fill-opacity:1;stroke:#0c417a;stroke-width:2.58831072;stroke-linecap:round;stroke-linejoin:round;stroke-miterlimit:4;stroke-dasharray:none;stroke-opacity:1\"/>\n",
       "    <g id=\"g4605\" transform=\"translate(21.224294,6.3660085)\">\n",
       "      <circle cx=\"933.84735\" cy=\"192.96309\" id=\"path3815\" r=\"35\" style=\"fill:#0c417a;fill-opacity:1;stroke:none\" transform=\"matrix(0.58478033,0,0,0.58478033,-256.80068,482.43911)\"/>\n",
       "      <path d=\"m 295.18349,607.78013 0,-1.03103 c -2.82739,0 -3.6671,0.0318 -3.6671,-4.48555 0,-0.0532 0,-19.48342 0,-19.48342 l -0.93537,0 -7.17475,3.07185 0.40391,0.99915 c 1.6688,-0.62713 2.00894,-0.74404 2.51914,-0.74404 1.11607,0 1.17984,0.89286 1.17984,1.97703 l 0,14.17943 c 0,4.51744 -0.88223,4.43241 -3.65646,4.48555 l 0,1.03103 z\" id=\"path4587\" inkscape:connector-curvature=\"0\" style=\"font-style:normal;font-variant:normal;font-weight:normal;font-stretch:normal;letter-spacing:normal;word-spacing:normal;text-anchor:start;fill:#ffffff;fill-opacity:1;stroke:none\"/>\n",
       "    </g>\n",
       "    <g id=\"g4637\" transform=\"translate(-112.06004,-12.692269)\">\n",
       "      <circle cx=\"933.84735\" cy=\"192.96309\" id=\"path4611\" r=\"35\" style=\"fill:#0c417a;fill-opacity:1;stroke:none\" transform=\"matrix(0.58478033,0,0,0.58478033,304.84499,621.51328)\"/>\n",
       "      <path d=\"m 860.38774,741.71101 -1.16554,-0.19247 c -1.26176,1.87126 -2.19204,2.21344 -4.09538,2.21344 l -8.78956,0 c 6.33019,-5.22884 11.99743,-9.99787 11.99743,-15.20531 0,-3.9136 -3.73181,-6.67237 -7.86997,-6.67237 -4.06331,0 -7.30326,1.9461 -8.60779,7.36741 l 1.35799,0 c 1.18693,-2.1172 2.70531,-4.17024 5.76349,-4.17024 3.38964,0 5.32507,2.2669 5.32507,4.96151 0,3.87083 -4.72627,9.60223 -12.81011,15.90035 l 0,0.94097 16.50985,0 z\" id=\"path4627\" inkscape:connector-curvature=\"0\" style=\"font-style:normal;font-variant:normal;font-weight:normal;font-stretch:normal;letter-spacing:normal;word-spacing:normal;text-anchor:start;fill:#ffffff;fill-opacity:1;stroke:none\"/>\n",
       "    </g>\n",
       "    <g id=\"g4714\" transform=\"translate(-50,0)\">\n",
       "      <rect height=\"57.165413\" id=\"rect4853\" style=\"fill:#ffffff;fill-opacity:1;stroke:none\" width=\"158.14207\" x=\"60.930264\" y=\"558.65668\"/>\n",
       "      <g id=\"g5071\" transform=\"translate(-160.17755,-219.84819)\">\n",
       "        <path d=\"m 253.08782,796.33533 -0.01,-0.17407 -0.01,-0.17408 -0.0193,-0.17408 -0.029,-0.16441 -0.0387,-0.17408 -0.0483,-0.17408 -0.058,-0.17408 -0.058,-0.1644 -0.0774,-0.16441 -0.087,-0.16441 -0.087,-0.16441 -0.10638,-0.15473 -0.10639,-0.15474 -0.11605,-0.15474 -0.13539,-0.14506 -0.1354,-0.1354 -0.15473,-0.13539 -0.15474,-0.12573 -0.17408,-0.12572 -0.18375,-0.11605 -0.18375,-0.11606 -0.20309,-0.0967 -0.21276,-0.0967 -0.22244,-0.087 -0.2321,-0.0774 -0.24178,-0.0677 -0.25145,-0.058 -0.27079,-0.0484 -0.27079,-0.0387 -0.29013,-0.029 -0.2998,-0.0193 -0.30947,0 c -7.08888,0 -13.8296,8.03664 -13.8296,15.12551 0,5.10631 3.13342,7.45638 6.74072,7.45638 4.58408,0 7.57243,-3.1721 9.3519,-5.43513 l -0.72533,-0.48355 c -1.29592,1.58605 -3.69434,4.09085 -6.83742,4.09085 -2.79494,0 -4.42934,-2.26302 -4.42934,-5.91868 0,-4.58407 3.56861,-13.86828 9.72907,-13.86828 0.91875,0 1.82783,0.41586 1.82783,1.2379 0,0.83171 -1.18954,1.4023 -1.18954,2.69822 0,1.06381 0.70598,1.78914 1.77947,1.78914 1.47967,0 2.35973,-1.34427 2.35973,-2.84329 z\" id=\"path4952\" inkscape:connector-curvature=\"0\" style=\"font-style:normal;font-variant:normal;font-weight:normal;font-stretch:normal;letter-spacing:normal;word-spacing:normal;text-anchor:start;fill:#000000;stroke:#000000;stroke-width:0;stroke-linecap:butt;stroke-linejoin:miter;stroke-miterlimit:10.43299961;stroke-opacity:1;stroke-dasharray:none;stroke-dashoffset:0\"/>\n",
       "        <path d=\"m 254.77059,808.54019 0.0387,0 0.0484,-0.01 0.0387,-0.01 0.0387,-0.01 0.087,-0.01 0.0774,-0.0193 0.0677,-0.01 0.0774,-0.01 0.0677,-0.01 0.0677,-0.01 0.0677,-0.01 0.0774,-0.01 0.0677,0 0.0677,-0.01 0.0677,0 0.0774,0 0.0677,-0.01 0.0774,0 c 0.83171,0 1.13152,0.55125 1.13152,2.03092 v 8.43315 c 0,1.67309 -0.22244,1.91487 -2.38875,2.32105 v 0.50289 h 8.08499 v -0.50289 c -2.28237,-0.10638 -2.85296,-0.61895 -2.85296,-2.53381 v -7.57243 c 0,-1.09283 1.45066,-2.76592 2.35974,-2.76592 0.19342,0 0.49322,0.16441 0.87039,0.50289 0.54158,0.46421 0.90908,0.67698 1.34428,0.67698 0.82204,0 1.31526,-0.5706 1.31526,-1.52803 0,-1.1025 -0.70599,-1.77947 -1.85684,-1.77947 -1.4023,0 -2.38875,0.76401 -4.03283,3.1721 v -3.09473 l -0.16441,-0.0774 c -1.79881,0.735 -3.00769,1.17987 -4.99025,1.82783 z\" id=\"path4954\" inkscape:connector-curvature=\"0\" style=\"font-style:normal;font-variant:normal;font-weight:normal;font-stretch:normal;letter-spacing:normal;word-spacing:normal;text-anchor:start;fill:#000000;stroke:#000000;stroke-width:0;stroke-linecap:butt;stroke-linejoin:miter;stroke-miterlimit:10.43299961;stroke-opacity:1;stroke-dasharray:none;stroke-dashoffset:0\"/>\n",
       "      </g>\n",
       "      <g id=\"g4704\" transform=\"translate(562.07156,3.5856779)\">\n",
       "        <path d=\"m -385.08547,572.82972 -0.01,-0.17407 -0.01,-0.17408 -0.0193,-0.17408 -0.029,-0.16441 -0.0387,-0.17408 -0.0484,-0.17408 -0.058,-0.17408 -0.058,-0.1644 -0.0774,-0.16441 -0.087,-0.16441 -0.087,-0.16441 -0.10638,-0.15473 -0.10638,-0.15474 -0.11606,-0.15474 -0.13539,-0.14506 -0.1354,-0.1354 -0.15473,-0.13539 -0.15474,-0.12573 -0.17408,-0.12572 -0.18375,-0.11605 -0.18375,-0.11606 -0.20309,-0.0967 -0.21276,-0.0967 -0.22244,-0.087 -0.2321,-0.0774 -0.24178,-0.0677 -0.25144,-0.058 -0.27079,-0.0484 -0.27079,-0.0387 -0.29013,-0.029 -0.29981,-0.0193 -0.30947,0 c -7.08888,0 -13.82959,8.03664 -13.82959,15.12551 0,5.10631 3.13341,7.45638 6.74071,7.45638 4.58408,0 7.57243,-3.1721 9.3519,-5.43513 l -0.72532,-0.48355 c -1.29592,1.58605 -3.69434,4.09085 -6.83743,4.09085 -2.79494,0 -4.42934,-2.26302 -4.42934,-5.91868 0,-4.58407 3.56861,-13.86828 9.72907,-13.86828 0.91875,0 1.82783,0.41586 1.82783,1.2379 0,0.83171 -1.18954,1.4023 -1.18954,2.69822 0,1.06381 0.70598,1.78914 1.77947,1.78914 1.47967,0 2.35974,-1.34427 2.35974,-2.84329 z\" id=\"path4956\" inkscape:connector-curvature=\"0\" style=\"font-style:normal;font-variant:normal;font-weight:normal;font-stretch:normal;letter-spacing:normal;word-spacing:normal;text-anchor:start;fill:#000000;stroke:#000000;stroke-width:0;stroke-linecap:butt;stroke-linejoin:miter;stroke-miterlimit:10.43299961;stroke-opacity:1;stroke-dasharray:none;stroke-dashoffset:0\"/>\n",
       "        <path d=\"m -383.40271,585.03458 0.0387,0 0.0484,-0.01 0.0387,-0.01 0.0387,-0.01 0.087,-0.01 0.0774,-0.0193 0.0677,-0.01 0.0774,-0.01 0.0677,-0.01 0.0677,-0.01 0.0677,-0.01 0.0774,-0.01 0.0677,0 0.0677,-0.01 0.0677,0 0.0774,0 0.0677,-0.01 0.0774,0 c 0.83171,0 1.13152,0.55125 1.13152,2.03092 v 8.43315 c 0,1.67309 -0.22244,1.91487 -2.38875,2.32105 v 0.50289 h 8.08499 v -0.50289 c -2.28236,-0.10638 -2.85296,-0.61895 -2.85296,-2.53381 v -7.57243 c 0,-1.09283 1.45066,-2.76592 2.35974,-2.76592 0.19342,0 0.49322,0.16441 0.87039,0.50289 0.54158,0.46421 0.90908,0.67698 1.34428,0.67698 0.82204,0 1.31526,-0.5706 1.31526,-1.52803 0,-1.1025 -0.70599,-1.77947 -1.85684,-1.77947 -1.4023,0 -2.38875,0.76401 -4.03283,3.1721 v -3.09473 l -0.1644,-0.0774 c -1.79882,0.735 -3.0077,1.17987 -4.99026,1.82783 z\" id=\"path4958\" inkscape:connector-curvature=\"0\" style=\"font-style:normal;font-variant:normal;font-weight:normal;font-stretch:normal;letter-spacing:normal;word-spacing:normal;text-anchor:start;fill:#000000;stroke:#000000;stroke-width:0;stroke-linecap:butt;stroke-linejoin:miter;stroke-miterlimit:10.43299961;stroke-opacity:1;stroke-dasharray:none;stroke-dashoffset:0\"/>\n",
       "        <path d=\"m -369.312,603.71904 0.087,-0.029 0.087,-0.0193 0.087,-0.0193 0.087,-0.029 0.0774,-0.0193 0.0774,-0.0193 0.0774,-0.0193 0.0677,-0.029 0.14507,-0.0483 0.13539,-0.0484 0.13539,-0.0484 0.12573,-0.0484 0.12572,-0.058 0.12573,-0.0677 0.13539,-0.058 0.13539,-0.0774 0.0677,-0.0387 0.0677,-0.0387 0.0677,-0.0387 0.0774,-0.0387 0.0677,-0.0484 0.0774,-0.0484 0.0774,-0.0484 0.087,-0.0484 c 1.64408,-1.04447 2.72723,-2.55315 2.72723,-5.22236 0,-2.59184 -1.21855,-3.675 -2.8046,-3.675 -1.41197,0 -2.31138,0.8704 -2.31138,2.23401 0,1.26691 0.87039,2.11796 2.10829,2.11796 0.37717,0 0.74467,-0.058 1.12184,-0.2998 0.13539,-0.0774 0.16441,-0.10638 0.22243,-0.10638 0.17408,0 0.28046,0.34816 0.28046,0.735 0,0.34816 0,2.79493 -3.64598,4.15855 z\" id=\"path4960\" inkscape:connector-curvature=\"0\" style=\"font-style:normal;font-variant:normal;font-weight:normal;font-stretch:normal;letter-spacing:normal;word-spacing:normal;text-anchor:start;fill:#000000;stroke:#000000;stroke-width:0;stroke-linecap:butt;stroke-linejoin:miter;stroke-miterlimit:10.43299961;stroke-opacity:1;stroke-dasharray:none;stroke-dashoffset:0\"/>\n",
       "        <path d=\"m -349.52125,598.51693 v -0.74825 c -2.05193,0 -2.66133,0.0231 -2.66133,-3.25531 0,-0.0386 0,-14.13975 0,-14.13975 h -0.67883 l -5.20695,2.22934 0.29313,0.72512 c 1.2111,-0.45513 1.45795,-0.53998 1.82822,-0.53998 0.80997,0 0.85625,0.64798 0.85625,1.4348 v 10.29047 c 0,3.27845 -0.64026,3.21674 -2.65361,3.25531 v 0.74825 z\" id=\"path4647\" inkscape:connector-curvature=\"0\" style=\"font-style:normal;font-variant:normal;font-weight:normal;font-stretch:normal;letter-spacing:normal;word-spacing:normal;text-anchor:start;fill:#000000;stroke:#000000;stroke-width:0;stroke-linecap:butt;stroke-linejoin:miter;stroke-miterlimit:10.43299961;stroke-opacity:1;stroke-dasharray:none;stroke-dashoffset:0\"/>\n",
       "      </g>\n",
       "      <g id=\"g4683\" transform=\"translate(598.54188,4.6669932)\">\n",
       "        <polygon id=\"polygon4659\" points=\"506.91,425.18 473.63,425.18 473.63,422.39 506.91,422.39 \" style=\"font-style:normal;font-variant:normal;font-weight:normal;font-stretch:normal;letter-spacing:normal;word-spacing:normal;text-anchor:start;fill:#000000;stroke:#000000;stroke-width:0;stroke-linecap:butt;stroke-linejoin:miter;stroke-miterlimit:10.43299961;stroke-opacity:1;stroke-dasharray:none;stroke-dashoffset:0\" transform=\"matrix(0.93027806,0,0,-0.93027806,-923.45423,971.99582)\"/>\n",
       "        <polygon id=\"polygon4661\" points=\"506.91,415.12 473.63,415.12 473.63,412.32 506.91,412.32 \" style=\"font-style:normal;font-variant:normal;font-weight:normal;font-stretch:normal;letter-spacing:normal;word-spacing:normal;text-anchor:start;fill:#000000;stroke:#000000;stroke-width:0;stroke-linecap:butt;stroke-linejoin:miter;stroke-miterlimit:10.43299961;stroke-opacity:1;stroke-dasharray:none;stroke-dashoffset:0\" transform=\"matrix(0.93027806,0,0,-0.93027806,-923.45423,971.99582)\"/>\n",
       "      </g>\n",
       "    </g>\n",
       "    <g id=\"g4905\" transform=\"translate(80.431641,3.2630288)\">\n",
       "      <rect height=\"39.896584\" id=\"rect4537\" style=\"fill:#ffffff;fill-opacity:1;stroke:none\" transform=\"scale(-1,1)\" width=\"137.951\" x=\"-1042.8103\" y=\"753.87976\"/>\n",
       "      <g id=\"g4891\" transform=\"translate(-0.93466373,-1.5056525)\">\n",
       "        <g id=\"g4693\" transform=\"translate(750.10824,284.53021)\">\n",
       "          <g font-size-adjust=\"none\" font-stretch=\"normal\" font-style=\"normal\" font-variant=\"normal\" font-weight=\"normal\" id=\"content\" letter-spacing=\"normal\" stroke-miterlimit=\"10.433\" style=\"font-style:normal;font-variant:normal;font-weight:normal;font-stretch:normal;letter-spacing:normal;word-spacing:normal;text-anchor:start;fill:none;stroke:#000000;stroke-linecap:butt;stroke-linejoin:miter;stroke-miterlimit:10.43299961;stroke-opacity:1;stroke-dasharray:none;stroke-dashoffset:0\" transform=\"matrix(0.93027806,0,0,-0.93027806,-162.79866,872.4864)\" word-spacing=\"normal\" xml:space=\"preserve\"><path d=\"m 476.35,424.98 -0.01,0.18 -0.01,0.18 -0.02,0.18 -0.03,0.17 -0.04,0.18 -0.05,0.18 -0.06,0.18 -0.06,0.17 -0.08,0.17 -0.09,0.17 -0.09,0.17 -0.11,0.16 -0.11,0.16 -0.12,0.16 -0.14,0.15 -0.14,0.14 -0.16,0.14 -0.16,0.13 -0.18,0.13 -0.19,0.12 -0.19,0.12 -0.21,0.1 -0.22,0.1 -0.23,0.09 -0.24,0.08 -0.25,0.07 -0.26,0.06 -0.28,0.05 -0.28,0.04 -0.3,0.03 -0.31,0.02 -0.32,0 c -7.33,0 -14.3,-8.31 -14.3,-15.64 0,-5.28 3.24,-7.71 6.97,-7.71 4.74,0 7.83,3.28 9.67,5.62 l -0.75,0.5 c -1.34,-1.64 -3.82,-4.23 -7.07,-4.23 -2.89,0 -4.58,2.34 -4.58,6.12 0,4.74 3.69,14.34 10.06,14.34 0.95,0 1.89,-0.43 1.89,-1.28 0,-0.86 -1.23,-1.45 -1.23,-2.79 0,-1.1 0.73,-1.85 1.84,-1.85 1.53,0 2.44,1.39 2.44,2.94 z\" id=\"path4696\" inkscape:connector-curvature=\"0\" style=\"fill:#000000;stroke-width:0\"/><path d=\"m 486.73,414.45 h -3.53 v 4.03 c 0,0.36 -0.03,0.45 -0.24,0.45 -0.25,-0.31 -0.45,-0.62 -0.7,-0.97 -1.33,-1.92 -2.81,-3.59 -3.37,-3.73 -0.39,-0.23 -0.6,-0.48 -0.6,-0.66 0,-0.11 0.03,-0.17 0.14,-0.25 h 1.85 v -10.48 c 0,-2.92 1.04,-4.42 3.11,-4.42 1.7,0 3.03,0.83 4.17,2.64 l -0.45,0.39 c -0.74,-0.88 -1.33,-1.22 -2.1,-1.22 -1.28,0 -1.81,0.94 -1.81,3.13 v 9.96 h 3.53 z\" id=\"path4698\" inkscape:connector-curvature=\"0\" style=\"fill:#000000;stroke-width:0\"/></g>        </g>\n",
       "        <g id=\"g4877\" transform=\"translate(33.72668,161.92615)\">\n",
       "          <g id=\"g4850\" transform=\"translate(1422.3628,28.139005)\">\n",
       "            <polygon id=\"polygon4852\" points=\"506.91,422.39 506.91,425.18 473.63,425.18 473.63,422.39 \" style=\"font-style:normal;font-variant:normal;font-weight:normal;font-stretch:normal;letter-spacing:normal;word-spacing:normal;text-anchor:start;fill:#000000;stroke:#000000;stroke-width:0;stroke-linecap:butt;stroke-linejoin:miter;stroke-miterlimit:10.43299961;stroke-opacity:1;stroke-dasharray:none;stroke-dashoffset:0\" transform=\"matrix(0.93027806,0,0,-0.93027806,-923.45423,971.99582)\"/>\n",
       "            <polygon id=\"polygon4854\" points=\"506.91,412.32 506.91,415.12 473.63,415.12 473.63,412.32 \" style=\"font-style:normal;font-variant:normal;font-weight:normal;font-stretch:normal;letter-spacing:normal;word-spacing:normal;text-anchor:start;fill:#000000;stroke:#000000;stroke-width:0;stroke-linecap:butt;stroke-linejoin:miter;stroke-miterlimit:10.43299961;stroke-opacity:1;stroke-dasharray:none;stroke-dashoffset:0\" transform=\"matrix(0.93027806,0,0,-0.93027806,-923.45423,971.99582)\"/>\n",
       "          </g>\n",
       "          <path d=\"m 892.80704,599.88741 -0.01,-0.17407 -0.01,-0.17408 -0.0193,-0.17408 -0.029,-0.16441 -0.0387,-0.17408 -0.0484,-0.17408 -0.058,-0.17408 -0.058,-0.1644 -0.0774,-0.16441 -0.087,-0.16441 -0.087,-0.16441 -0.10638,-0.15473 -0.10638,-0.15474 -0.11606,-0.15474 -0.13539,-0.14506 -0.1354,-0.1354 -0.15473,-0.13539 -0.15474,-0.12573 -0.17408,-0.12572 -0.18375,-0.11605 -0.18375,-0.11606 -0.20309,-0.0967 -0.21276,-0.0967 -0.22244,-0.087 -0.2321,-0.0774 -0.24178,-0.0677 -0.25144,-0.058 -0.27079,-0.0484 -0.27079,-0.0387 -0.29013,-0.029 -0.29981,-0.0193 -0.30947,0 c -7.08888,0 -13.82959,8.03664 -13.82959,15.12551 0,5.10631 3.13341,7.45638 6.74071,7.45638 4.58408,0 7.57243,-3.1721 9.3519,-5.43513 l -0.72532,-0.48355 c -1.29592,1.58605 -3.69434,4.09085 -6.83743,4.09085 -2.79494,0 -4.42934,-2.26302 -4.42934,-5.91868 0,-4.58407 3.56861,-13.86828 9.72907,-13.86828 0.91875,0 1.82783,0.41586 1.82783,1.2379 0,0.83171 -1.18954,1.4023 -1.18954,2.69822 0,1.06381 0.70598,1.78914 1.77947,1.78914 1.47967,0 2.35974,-1.34427 2.35974,-2.84329 z\" id=\"path4856\" inkscape:connector-curvature=\"0\" style=\"font-style:normal;font-variant:normal;font-weight:normal;font-stretch:normal;letter-spacing:normal;word-spacing:normal;text-anchor:start;fill:#000000;stroke:#000000;stroke-width:0;stroke-linecap:butt;stroke-linejoin:miter;stroke-miterlimit:10.43299961;stroke-opacity:1;stroke-dasharray:none;stroke-dashoffset:0\"/>\n",
       "          <path d=\"m 908.58051,630.77673 0.087,-0.029 0.087,-0.0193 0.087,-0.0193 0.087,-0.029 0.0774,-0.0193 0.0774,-0.0193 0.0774,-0.0193 0.0677,-0.029 0.14507,-0.0483 0.13539,-0.0484 0.13539,-0.0484 0.12573,-0.0484 0.12572,-0.058 0.12573,-0.0677 0.13539,-0.058 0.13539,-0.0774 0.0677,-0.0387 0.0677,-0.0387 0.0677,-0.0387 0.0774,-0.0387 0.0677,-0.0484 0.0774,-0.0484 0.0774,-0.0484 0.087,-0.0484 c 1.64408,-1.04447 2.72723,-2.55315 2.72723,-5.22236 0,-2.59184 -1.21855,-3.675 -2.8046,-3.675 -1.41197,0 -2.31138,0.8704 -2.31138,2.23401 0,1.26691 0.87039,2.11796 2.10829,2.11796 0.37717,0 0.74467,-0.058 1.12184,-0.2998 0.13539,-0.0774 0.16441,-0.10638 0.22243,-0.10638 0.17408,0 0.28046,0.34816 0.28046,0.735 0,0.34816 0,2.79493 -3.64598,4.15855 z\" id=\"path4858\" inkscape:connector-curvature=\"0\" style=\"font-style:normal;font-variant:normal;font-weight:normal;font-stretch:normal;letter-spacing:normal;word-spacing:normal;text-anchor:start;fill:#000000;stroke:#000000;stroke-width:0;stroke-linecap:butt;stroke-linejoin:miter;stroke-miterlimit:10.43299961;stroke-opacity:1;stroke-dasharray:none;stroke-dashoffset:0\"/>\n",
       "          <path d=\"m 903.51324,610.32862 h -3.28388 v -3.74902 c 0,-0.3349 -0.0279,-0.41863 -0.22327,-0.41863 -0.23257,0.28839 -0.41862,0.57677 -0.65119,0.90237 -1.23727,1.78614 -2.61408,3.3397 -3.13504,3.46994 -0.36281,0.21396 -0.55817,0.44653 -0.55817,0.61398 0,0.10233 0.0279,0.15815 0.13024,0.23257 h 1.72101 v 9.74932 c 0,2.71641 0.96749,4.11183 2.89316,4.11183 1.58147,0 2.81874,-0.77214 3.87926,-2.45594 l -0.41862,-0.36281 c -0.68841,0.81865 -1.23727,1.13494 -1.95359,1.13494 -1.19075,0 -1.6838,-0.87446 -1.6838,-2.91177 v -9.26557 h 3.28388 z\" id=\"path4862\" inkscape:connector-curvature=\"0\" style=\"font-style:normal;font-variant:normal;font-weight:normal;font-stretch:normal;letter-spacing:normal;word-spacing:normal;text-anchor:start;fill:#000000;stroke:#000000;stroke-width:0;stroke-linecap:butt;stroke-linejoin:miter;stroke-miterlimit:10.43299961;stroke-opacity:1;stroke-dasharray:none;stroke-dashoffset:0\"/>\n",
       "          <path d=\"m 929.81291,621.86419 -0.84079,-0.13885 c -0.9103,1.34995 -1.58141,1.5968 -2.95451,1.5968 h -6.34089 c 4.5667,-3.77215 8.65509,-7.21259 8.65509,-10.9693 0,-2.82332 -2.69219,-4.81353 -5.6775,-4.81353 -2.93129,0 -5.2686,1.40394 -6.2098,5.31494 h 0.9797 c 0.8563,-1.52737 1.95171,-3.00846 4.1579,-3.00846 2.44531,0 3.8415,1.63537 3.8415,3.57929 0,2.79247 -3.4096,6.92717 -9.24129,11.47071 v 0.67883 h 11.91039 z\" id=\"path4864\" inkscape:connector-curvature=\"0\" style=\"font-style:normal;font-variant:normal;font-weight:normal;font-stretch:normal;letter-spacing:normal;word-spacing:normal;text-anchor:start;fill:#000000;stroke:#000000;stroke-width:0;stroke-linecap:butt;stroke-linejoin:miter;stroke-miterlimit:10.43299961;stroke-opacity:1;stroke-dasharray:none;stroke-dashoffset:0\"/>\n",
       "        </g>\n",
       "      </g>\n",
       "    </g>\n",
       "    <path d=\"m 149.74741,1068.2232 h -8.7539 l -0.1396,0.7815 c 1.8606,0 2.456,0.8837 2.456,1.5721 0,0.7349 -0.6605,1.7582 -1.442,2.5955 l -7.2654,7.926 -2.0932,-6.5306 c -0.279,-0.8837 -0.8279,-2.2327 -0.8279,-3.4885 0,-1.7955 1.9443,-2.0745 3.2374,-2.0745 l 0.1302,-0.7815 h -12.4564 l -0.1396,0.7815 c 3.1072,0 3.9351,1.3954 4.8189,4.0281 l 3.9444,11.8703 c -3.6653,4.3072 -9.5075,10.5121 -9.5075,10.5121 -1.6187,1.8141 -3.6188,3.3025 -5.2747,3.3025 l -0.1488,0.7815 h 10.0563 l 0.1489,-0.7815 c -1.1629,0 -3.0235,-0.046 -3.0235,-1.5256 0,-0.7442 0.7815,-1.8606 1.349,-2.456 l 7.0329,-7.8794 2.4187,7.2655 c 0.2325,0.6139 0.4651,1.6745 0.4651,2.4559 0,1.9908 -1.6187,2.1396 -3.4792,2.1396 l -0.1396,0.7815 h 12.382 l 0.1303,-0.7815 c -2.2699,0 -3.563,-0.9768 -4.4933,-3.8141 l -3.8885,-11.8611 7.9166,-8.8469 c 1.442,-1.5722 4.6421,-5.1909 6.4562,-5.1909 z\" id=\"path6885\" inkscape:connector-curvature=\"0\" style=\"font-style:normal;font-variant:normal;font-weight:normal;font-stretch:normal;letter-spacing:normal;word-spacing:normal;text-anchor:start;fill:#000000;stroke:#000000;stroke-width:0;stroke-linecap:butt;stroke-linejoin:miter;stroke-miterlimit:10.43299961;stroke-opacity:1;stroke-dasharray:none;stroke-dashoffset:0\"/>\n",
       "    <path d=\"m 1044.7097,353.80328 h -9.6935 l -0.1303,0.7814 c 1.842,0 3.2839,0.1861 3.2839,1.628 0,0.5117 -0.5488,1.6559 -1.2466,2.5397 -0.046,0.1302 -6.8654,8.7725 -7.6096,9.7307 -0.4652,-1.6559 -2.9583,-9.8703 -2.9583,-9.8703 -0.1954,-0.5581 -0.3628,-1.4884 -0.3628,-1.9908 0,-1.907 1.8884,-2.0373 3.4699,-2.0373 l 0.1303,-0.7814 h -12.2239 l -0.1488,0.7814 c 2.5489,0 3.6187,0.828 4.5955,3.9816 l 3.4793,11.7308 -2.4188,8.6237 c -1.2465,4.4002 -2.4094,5.2747 -5.7956,5.377 l -0.1302,0.7815 h 13.8518 l 0.1396,-0.7815 c -2.456,0 -4.1212,-0.1488 -4.1212,-2.2233 0,-0.8931 0.5024,-2.5583 1.2466,-5.1073 l 1.8141,-6.484 8.3911,-10.8005 c 1.6559,-2.1769 3.4327,-5.0142 6.2886,-5.0142 z\" id=\"path8534\" inkscape:connector-curvature=\"0\" style=\"font-style:normal;font-variant:normal;font-weight:normal;font-stretch:normal;letter-spacing:normal;word-spacing:normal;text-anchor:start;fill:#000000;stroke:#000000;stroke-width:0;stroke-linecap:butt;stroke-linejoin:miter;stroke-miterlimit:10.43299961;stroke-opacity:1;stroke-dasharray:none;stroke-dashoffset:0\"/>\n",
       "    <g id=\"g4992\">\n",
       "      <g id=\"g4829\" transform=\"translate(32,0)\">\n",
       "        <path d=\"m 522.64363,668.81715 -0.01,-0.17407 -0.01,-0.17408 -0.0193,-0.17408 -0.029,-0.16441 -0.0387,-0.17408 -0.0484,-0.17408 -0.058,-0.17408 -0.058,-0.1644 -0.0774,-0.16441 -0.087,-0.16441 -0.087,-0.16441 -0.10638,-0.15473 -0.10638,-0.15474 -0.11606,-0.15474 -0.13539,-0.14506 -0.1354,-0.1354 -0.15473,-0.13539 -0.15474,-0.12573 -0.17408,-0.12572 -0.18375,-0.11605 -0.18375,-0.11606 -0.20309,-0.0967 -0.21276,-0.0967 -0.22244,-0.087 -0.2321,-0.0774 -0.24178,-0.0677 -0.25144,-0.058 -0.27079,-0.0484 -0.27079,-0.0387 -0.29013,-0.029 -0.29981,-0.0193 -0.30947,0 c -7.08888,0 -13.82959,8.03664 -13.82959,15.12551 0,5.10631 3.13341,7.45638 6.74071,7.45638 4.58408,0 7.57243,-3.1721 9.3519,-5.43513 l -0.72532,-0.48355 c -1.29592,1.58605 -3.69434,4.09085 -6.83743,4.09085 -2.79494,0 -4.42934,-2.26302 -4.42934,-5.91868 0,-4.58407 3.56861,-13.86828 9.72907,-13.86828 0.91875,0 1.82783,0.41586 1.82783,1.2379 0,0.83171 -1.18954,1.4023 -1.18954,2.69822 0,1.06381 0.70598,1.78914 1.77947,1.78914 1.47967,0 2.35974,-1.34427 2.35974,-2.84329 z\" id=\"path4741\" inkscape:connector-curvature=\"0\" style=\"font-style:normal;font-variant:normal;font-weight:normal;font-stretch:normal;letter-spacing:normal;word-spacing:normal;text-anchor:start;fill:#000000;stroke:#000000;stroke-width:0;stroke-linecap:butt;stroke-linejoin:miter;stroke-miterlimit:10.43299961;stroke-opacity:1;stroke-dasharray:none;stroke-dashoffset:0\"/>\n",
       "        <path d=\"m 524.32639,681.02201 0.0387,0 0.0484,-0.01 0.0387,-0.01 0.0387,-0.01 0.087,-0.01 0.0774,-0.0193 0.0677,-0.01 0.0774,-0.01 0.0677,-0.01 0.0677,-0.01 0.0677,-0.01 0.0774,-0.01 0.0677,0 0.0677,-0.01 0.0677,0 0.0774,0 0.0677,-0.01 0.0774,0 c 0.83171,0 1.13152,0.55125 1.13152,2.03092 v 8.43315 c 0,1.67309 -0.22244,1.91487 -2.38875,2.32105 v 0.50289 h 8.08499 v -0.50289 c -2.28236,-0.10638 -2.85296,-0.61895 -2.85296,-2.53381 v -7.57243 c 0,-1.09283 1.45066,-2.76592 2.35974,-2.76592 0.19342,0 0.49322,0.16441 0.87039,0.50289 0.54158,0.46421 0.90908,0.67698 1.34428,0.67698 0.82204,0 1.31526,-0.5706 1.31526,-1.52803 0,-1.1025 -0.70599,-1.77947 -1.85684,-1.77947 -1.4023,0 -2.38875,0.76401 -4.03283,3.1721 v -3.09473 l -0.1644,-0.0774 c -1.79882,0.735 -3.0077,1.17987 -4.99026,1.82783 z\" id=\"path4743\" inkscape:connector-curvature=\"0\" style=\"font-style:normal;font-variant:normal;font-weight:normal;font-stretch:normal;letter-spacing:normal;word-spacing:normal;text-anchor:start;fill:#000000;stroke:#000000;stroke-width:0;stroke-linecap:butt;stroke-linejoin:miter;stroke-miterlimit:10.43299961;stroke-opacity:1;stroke-dasharray:none;stroke-dashoffset:0\"/>\n",
       "        <path d=\"m 538.4171,699.70647 0.087,-0.029 0.087,-0.0193 0.087,-0.0193 0.087,-0.029 0.0774,-0.0193 0.0774,-0.0193 0.0774,-0.0193 0.0677,-0.029 0.14507,-0.0483 0.13539,-0.0484 0.13539,-0.0484 0.12573,-0.0484 0.12572,-0.058 0.12573,-0.0677 0.13539,-0.058 0.13539,-0.0774 0.0677,-0.0387 0.0677,-0.0387 0.0677,-0.0387 0.0774,-0.0387 0.0677,-0.0484 0.0774,-0.0484 0.0774,-0.0484 0.087,-0.0484 c 1.64408,-1.04447 2.72723,-2.55315 2.72723,-5.22236 0,-2.59184 -1.21855,-3.675 -2.8046,-3.675 -1.41197,0 -2.31138,0.8704 -2.31138,2.23401 0,1.26691 0.87039,2.11796 2.10829,2.11796 0.37717,0 0.74467,-0.058 1.12184,-0.2998 0.13539,-0.0774 0.16441,-0.10638 0.22243,-0.10638 0.17408,0 0.28046,0.34816 0.28046,0.735 0,0.34816 0,2.79493 -3.64598,4.15855 z\" id=\"path4745\" inkscape:connector-curvature=\"0\" style=\"font-style:normal;font-variant:normal;font-weight:normal;font-stretch:normal;letter-spacing:normal;word-spacing:normal;text-anchor:start;fill:#000000;stroke:#000000;stroke-width:0;stroke-linecap:butt;stroke-linejoin:miter;stroke-miterlimit:10.43299961;stroke-opacity:1;stroke-dasharray:none;stroke-dashoffset:0\"/>\n",
       "        <g id=\"g4749\" transform=\"translate(944.19942,97.068745)\">\n",
       "          <polygon id=\"polygon4751\" points=\"506.91,425.18 473.63,425.18 473.63,422.39 506.91,422.39 \" style=\"font-style:normal;font-variant:normal;font-weight:normal;font-stretch:normal;letter-spacing:normal;word-spacing:normal;text-anchor:start;fill:#000000;stroke:#000000;stroke-width:0;stroke-linecap:butt;stroke-linejoin:miter;stroke-miterlimit:10.43299961;stroke-opacity:1;stroke-dasharray:none;stroke-dashoffset:0\" transform=\"matrix(0.93027806,0,0,-0.93027806,-923.45423,971.99582)\"/>\n",
       "          <polygon id=\"polygon4753\" points=\"506.91,415.12 473.63,415.12 473.63,412.32 506.91,412.32 \" style=\"font-style:normal;font-variant:normal;font-weight:normal;font-stretch:normal;letter-spacing:normal;word-spacing:normal;text-anchor:start;fill:#000000;stroke:#000000;stroke-width:0;stroke-linecap:butt;stroke-linejoin:miter;stroke-miterlimit:10.43299961;stroke-opacity:1;stroke-dasharray:none;stroke-dashoffset:0\" transform=\"matrix(0.93027806,0,0,-0.93027806,-923.45423,971.99582)\"/>\n",
       "        </g>\n",
       "        <path d=\"m 414.64363,668.81715 -0.01,-0.17407 -0.01,-0.17408 -0.0193,-0.17408 -0.029,-0.16441 -0.0387,-0.17408 -0.0484,-0.17408 -0.058,-0.17408 -0.058,-0.1644 -0.0774,-0.16441 -0.087,-0.16441 -0.087,-0.16441 -0.10638,-0.15473 -0.10638,-0.15474 -0.11606,-0.15474 -0.13539,-0.14506 -0.1354,-0.1354 -0.15473,-0.13539 -0.15474,-0.12573 -0.17408,-0.12572 -0.18375,-0.11605 -0.18375,-0.11606 -0.20309,-0.0967 -0.21276,-0.0967 -0.22244,-0.087 -0.2321,-0.0774 -0.24178,-0.0677 -0.25144,-0.058 -0.27079,-0.0484 -0.27079,-0.0387 -0.29013,-0.029 -0.29981,-0.0193 -0.30947,0 c -7.08888,0 -13.82959,8.03664 -13.82959,15.12551 0,5.10631 3.13341,7.45638 6.74071,7.45638 4.58408,0 7.57243,-3.1721 9.3519,-5.43513 l -0.72532,-0.48355 c -1.29592,1.58605 -3.69434,4.09085 -6.83743,4.09085 -2.79494,0 -4.42934,-2.26302 -4.42934,-5.91868 0,-4.58407 3.56861,-13.86828 9.72907,-13.86828 0.91875,0 1.82783,0.41586 1.82783,1.2379 0,0.83171 -1.18954,1.4023 -1.18954,2.69822 0,1.06381 0.70598,1.78914 1.77947,1.78914 1.47967,0 2.35974,-1.34427 2.35974,-2.84329 z\" id=\"path4769\" inkscape:connector-curvature=\"0\" style=\"font-style:normal;font-variant:normal;font-weight:normal;font-stretch:normal;letter-spacing:normal;word-spacing:normal;text-anchor:start;fill:#000000;stroke:#000000;stroke-width:0;stroke-linecap:butt;stroke-linejoin:miter;stroke-miterlimit:10.43299961;stroke-opacity:1;stroke-dasharray:none;stroke-dashoffset:0\"/>\n",
       "        <path d=\"m 430.4171,699.70647 0.087,-0.029 0.087,-0.0193 0.087,-0.0193 0.087,-0.029 0.0774,-0.0193 0.0774,-0.0193 0.0774,-0.0193 0.0677,-0.029 0.14507,-0.0483 0.13539,-0.0484 0.13539,-0.0484 0.12573,-0.0484 0.12572,-0.058 0.12573,-0.0677 0.13539,-0.058 0.13539,-0.0774 0.0677,-0.0387 0.0677,-0.0387 0.0677,-0.0387 0.0774,-0.0387 0.0677,-0.0484 0.0774,-0.0484 0.0774,-0.0484 0.087,-0.0484 c 1.64408,-1.04447 2.72723,-2.55315 2.72723,-5.22236 0,-2.59184 -1.21855,-3.675 -2.8046,-3.675 -1.41197,0 -2.31138,0.8704 -2.31138,2.23401 0,1.26691 0.87039,2.11796 2.10829,2.11796 0.37717,0 0.74467,-0.058 1.12184,-0.2998 0.13539,-0.0774 0.16441,-0.10638 0.22243,-0.10638 0.17408,0 0.28046,0.34816 0.28046,0.735 0,0.34816 0,2.79493 -3.64598,4.15855 z\" id=\"path4773\" inkscape:connector-curvature=\"0\" style=\"font-style:normal;font-variant:normal;font-weight:normal;font-stretch:normal;letter-spacing:normal;word-spacing:normal;text-anchor:start;fill:#000000;stroke:#000000;stroke-width:0;stroke-linecap:butt;stroke-linejoin:miter;stroke-miterlimit:10.43299961;stroke-opacity:1;stroke-dasharray:none;stroke-dashoffset:0\"/>\n",
       "        <path d=\"m 449.10776,694.50436 v -0.74825 c -2.05193,0 -2.66133,0.0231 -2.66133,-3.25531 0,-0.0386 0,-14.13975 0,-14.13975 h -0.67883 l -5.20695,2.22934 0.29313,0.72512 c 1.2111,-0.45513 1.45795,-0.53998 1.82822,-0.53998 0.80997,0 0.85625,0.64798 0.85625,1.4348 v 10.29047 c 0,3.27845 -0.64026,3.21674 -2.65361,3.25531 v 0.74825 z\" id=\"path4775\" inkscape:connector-curvature=\"0\" style=\"font-style:normal;font-variant:normal;font-weight:normal;font-stretch:normal;letter-spacing:normal;word-spacing:normal;text-anchor:start;fill:#000000;stroke:#000000;stroke-width:0;stroke-linecap:butt;stroke-linejoin:miter;stroke-miterlimit:10.43299961;stroke-opacity:1;stroke-dasharray:none;stroke-dashoffset:0\"/>\n",
       "        <path d=\"m 425.34983,679.25836 h -3.28388 v -3.74902 c 0,-0.3349 -0.0279,-0.41863 -0.22327,-0.41863 -0.23257,0.28839 -0.41862,0.57677 -0.65119,0.90237 -1.23727,1.78614 -2.61408,3.3397 -3.13504,3.46994 -0.36281,0.21396 -0.55817,0.44653 -0.55817,0.61398 0,0.10233 0.0279,0.15815 0.13024,0.23257 h 1.72101 v 9.74932 c 0,2.71641 0.96749,4.11183 2.89316,4.11183 1.58147,0 2.81874,-0.77214 3.87926,-2.45594 l -0.41862,-0.36281 c -0.68841,0.81865 -1.23727,1.13494 -1.95359,1.13494 -1.19075,0 -1.6838,-0.87446 -1.6838,-2.91177 v -9.26557 h 3.28388 z\" id=\"path4787\" inkscape:connector-curvature=\"0\" style=\"font-style:normal;font-variant:normal;font-weight:normal;font-stretch:normal;letter-spacing:normal;word-spacing:normal;text-anchor:start;fill:#000000;stroke:#000000;stroke-width:0;stroke-linecap:butt;stroke-linejoin:miter;stroke-miterlimit:10.43299961;stroke-opacity:1;stroke-dasharray:none;stroke-dashoffset:0\"/>\n",
       "        <path d=\"m 560.86838,690.79393 -0.84083,-0.13885 c -0.91025,1.34995 -1.58137,1.5968 -2.95446,1.5968 h -6.3409 c 4.56669,-3.77215 8.6551,-7.21259 8.6551,-10.9693 0,-2.82332 -2.69218,-4.81353 -5.6775,-4.81353 -2.93131,0 -5.26865,1.40394 -6.20976,5.31494 h 0.97968 c 0.85625,-1.52737 1.95164,-3.00846 4.15784,-3.00846 2.44533,0 3.84157,1.63537 3.84157,3.57929 0,2.79247 -3.40959,6.92717 -9.24137,11.47071 v 0.67883 h 11.91041 z\" id=\"path4820\" inkscape:connector-curvature=\"0\" style=\"font-style:normal;font-variant:normal;font-weight:normal;font-stretch:normal;letter-spacing:normal;word-spacing:normal;text-anchor:start;fill:#000000;stroke:#000000;stroke-width:0;stroke-linecap:butt;stroke-linejoin:miter;stroke-miterlimit:10.43299961;stroke-opacity:1;stroke-dasharray:none;stroke-dashoffset:0\"/>\n",
       "      </g>\n",
       "      <g id=\"g4984\">\n",
       "        <g id=\"g4980\" transform=\"translate(10,0)\">\n",
       "          <path d=\"m 346.97507,668.77296 -0.01,-0.17208 -0.01,-0.17208 -0.019,-0.17208 -0.029,-0.16252 -0.038,-0.17208 -0.048,-0.17208 -0.057,-0.17208 -0.057,-0.16252 -0.076,-0.16252 -0.086,-0.16252 -0.086,-0.16252 -0.1052,-0.15296 -0.1051,-0.15296 -0.1148,-0.15296 -0.1338,-0.1434 -0.1338,-0.13384 -0.153,-0.13384 -0.153,-0.12428 -0.172,-0.12428 -0.1817,-0.11472 -0.1816,-0.11472 -0.2008,-0.0956 -0.2103,-0.0956 -0.2199,-0.086 -0.2294,-0.0765 -0.239,-0.0669 -0.2486,-0.0574 -0.2677,-0.0478 -0.2676,-0.0382 -0.2868,-0.0287 -0.2964,-0.0191 -0.3059,0 c -7.0075,0 -13.6708,7.94436 -13.6708,14.95185 0,5.04768 3.0974,7.37076 6.6633,7.37076 4.5314,0 7.4855,-3.13568 9.2445,-5.37272 l -0.717,-0.478 c -1.281,1.56784 -3.6519,4.04388 -6.7589,4.04388 -2.7629,0 -4.3785,-2.23704 -4.3785,-5.85072 0,-4.53144 3.5276,-13.70905 9.6174,-13.70905 0.9082,0 1.8068,0.41108 1.8068,1.22368 0,0.82216 -1.1759,1.3862 -1.1759,2.66724 0,1.0516 0.6979,1.7686 1.7591,1.7686 1.4627,0 2.3326,-1.32884 2.3326,-2.81064 z\" id=\"path4674\" inkscape:connector-curvature=\"0\" style=\"font-style:normal;font-variant:normal;font-weight:normal;font-stretch:normal;letter-spacing:normal;word-spacing:normal;text-anchor:start;fill:#000000;fill-opacity:1;fill-rule:evenodd;stroke:#000000;stroke-width:0;stroke-linecap:butt;stroke-linejoin:miter;stroke-miterlimit:10.43299961;stroke-dasharray:none;stroke-dashoffset:0;stroke-opacity:1\"/>\n",
       "          <path d=\"m 365.21557,697.84541 0,-0.49712 c -1.4627,-0.10516 -2.4952,-0.74568 -3.8909,-2.42824 l -5.0955,-6.47213 0.9656,-0.89864 c 2.3613,-2.18924 4.4262,-3.7284 5.3918,-3.99608 0.4971,-0.1434 0.9751,-0.20076 1.5392,-0.20076 l 0.2581,0 0,-0.50668 -6.7972,0 0,0.478 c 1.3002,0.0287 1.673,0.16252 1.673,0.63096 0,0.26768 -0.2963,0.72656 -0.7648,1.12808 l -4.5697,4.063 0,-13.99585 -0.1338,-0.0574 -4.149,1.195 -1.0038,0.26768 0,0.54492 c 0.4302,-0.0478 0.7361,-0.0765 1.0611,-0.0765 1.109,0 1.434,0.4302 1.434,2.02673 l 0,16.06081 c 0,1.73036 -0.1051,1.83552 -2.4951,2.23704 l 0,0.49712 7.7818,0 0,-0.49712 -0.6596,-0.0382 c -1.3289,-0.0669 -1.8356,-0.5258 -1.8356,-1.69212 l 0,-6.13753 4.6653,6.22357 0.1052,0.13384 c 0.067,0.10516 0.1338,0.21032 0.239,0.30592 0.2677,0.34416 0.3537,0.53536 0.3537,0.69788 0,0.29636 -0.2964,0.50668 -0.6979,0.50668 l -0.6309,0 0,0.49712 z\" id=\"path4676\" inkscape:connector-curvature=\"0\" style=\"font-style:normal;font-variant:normal;font-weight:normal;font-stretch:normal;letter-spacing:normal;word-spacing:normal;text-anchor:start;fill:#000000;fill-opacity:1;fill-rule:evenodd;stroke:#000000;stroke-width:0;stroke-linecap:butt;stroke-linejoin:miter;stroke-miterlimit:10.43299961;stroke-dasharray:none;stroke-dashoffset:0;stroke-opacity:1\"/>\n",
       "        </g>\n",
       "        <g id=\"g4976\" transform=\"translate(0.330327,0.92668411)\">\n",
       "          <polygon id=\"polygon4678\" points=\"549.15,425.18 515.87,425.18 515.87,422.39 549.15,422.39 \" style=\"font-style:normal;font-variant:normal;font-weight:normal;font-stretch:normal;letter-spacing:normal;word-spacing:normal;text-anchor:start;fill:#000000;fill-opacity:1;fill-rule:evenodd;stroke:#000000;stroke-width:0;stroke-linecap:butt;stroke-linejoin:miter;stroke-miterlimit:10.43299961;stroke-dasharray:none;stroke-dashoffset:0;stroke-opacity:1\" transform=\"matrix(0.95600068,0,0,-0.95600068,-108.41584,1079.0602)\"/>\n",
       "          <polygon id=\"polygon4680\" points=\"549.15,415.12 515.87,415.12 515.87,412.32 549.15,412.32 \" style=\"font-style:normal;font-variant:normal;font-weight:normal;font-stretch:normal;letter-spacing:normal;word-spacing:normal;text-anchor:start;fill:#000000;fill-opacity:1;fill-rule:evenodd;stroke:#000000;stroke-width:0;stroke-linecap:butt;stroke-linejoin:miter;stroke-miterlimit:10.43299961;stroke-dasharray:none;stroke-dashoffset:0;stroke-opacity:1\" transform=\"matrix(0.95600068,0,0,-0.95600068,-108.41584,1079.0602)\"/>\n",
       "        </g>\n",
       "      </g>\n",
       "    </g>\n",
       "    <g id=\"g5053\">\n",
       "      <rect height=\"57.165413\" id=\"rect3710\" style=\"fill:#ffffff;fill-opacity:1;stroke:none\" width=\"110.00436\" x=\"293.15005\" y=\"891.73291\"/>\n",
       "      <g id=\"g5046\" transform=\"translate(-0.1836893,0)\">\n",
       "        <polygon id=\"polygon3718\" points=\"487.41,395.54 504.6,441.92 502.16,441.92 484.88,395.54 \" style=\"font-style:normal;font-variant:normal;font-weight:normal;font-stretch:normal;letter-spacing:normal;word-spacing:normal;text-anchor:start;fill:#000000;stroke:#000000;stroke-width:0;stroke-linecap:butt;stroke-linejoin:miter;stroke-miterlimit:10.43299961;stroke-dasharray:none;stroke-dashoffset:0;stroke-opacity:1\" transform=\"matrix(0.96710449,0,0,-0.96710449,-120.39437,1325.2713)\"/>\n",
       "        <path d=\"m 393.45979,926.22463 -0.77369,-0.15474 c -1.45065,2.41776 -2.61118,2.84329 -4.97091,2.84329 l -11.07335,0 c 7.61111,-6.9825 14.54525,-13.29769 14.54525,-20.32854 0,-4.97092 -4.24559,-8.49118 -8.90703,-8.49118 -4.67111,0 -8.39447,2.51447 -9.77743,9.1198 l 1.05415,0 c 1.34427,-2.69822 3.22046,-5.49316 6.93414,-5.49316 4.18756,0 6.54729,3.17211 6.54729,6.83743 0,5.16434 -5.58019,12.82381 -15.08683,21.15058 l 0,0.72533 19.00361,0 z\" id=\"path3720\" inkscape:connector-curvature=\"0\" style=\"font-style:normal;font-variant:normal;font-weight:normal;font-stretch:normal;letter-spacing:normal;word-spacing:normal;text-anchor:start;fill:#000000;stroke:#000000;stroke-width:0;stroke-linecap:butt;stroke-linejoin:miter;stroke-miterlimit:10.43299961;stroke-dasharray:none;stroke-dashoffset:0;stroke-opacity:1\"/>\n",
       "        <g id=\"g5018\" transform=\"matrix(1.034384,0,0,1.034384,-1071.2291,308.82654)\">\n",
       "          <path d=\"m 1350.0819,588.04643 -0.01,-0.40152 -0.019,-0.3824 -0.038,-0.37284 -0.057,-0.36328 -0.067,-0.34416 -0.086,-0.32504 -0.096,-0.31548 -0.1147,-0.30592 -0.1148,-0.2868 -0.1338,-0.26768 -0.153,-0.26768 -0.1529,-0.239 -0.1721,-0.239 -0.1721,-0.21988 -0.1912,-0.20076 -0.1912,-0.20076 -0.2103,-0.18164 -0.2103,-0.16252 -0.2199,-0.16252 -0.2295,-0.1434 -0.239,-0.12428 -0.239,-0.12428 -0.2485,-0.10516 -0.2486,-0.0956 -0.2581,-0.086 -0.2581,-0.0669 -0.2677,-0.0574 -0.2677,-0.0478 -0.2772,-0.0382 -0.2677,-0.0287 -0.2772,-0.0191 -0.2773,0 c -3.9387,0 -6.9023,3.65192 -8.2885,5.65952 l 4.9616,-18.04929 c 0,0 -6.4243,1.13764 -7.7244,1.2428 l 0,0.85084 c 1.8642,0 3.107,0.1912 3.107,1.673 0,0.89864 -0.478,2.76284 -0.8222,3.90048 l -6.7972,24.28242 c 0.4589,0.91776 3.6615,2.76284 6.7016,2.76284 l 0.2868,-1.04204 c -1.4818,0 -2.8106,-0.5258 -3.6137,-1.434 1.0899,-4.22552 4.3785,-17.60953 10.5351,-17.60953 3.174,0 3.4608,2.65768 3.4608,5.09548 l 0,0 c 0,8.42237 -5.4206,13.94805 -10.3822,13.94805 l -0.2868,1.04204 c 9.0151,0 14.6268,-8.90036 14.6268,-16.14685 z\" id=\"path4682\" inkscape:connector-curvature=\"0\" style=\"font-style:normal;font-variant:normal;font-weight:normal;font-stretch:normal;letter-spacing:normal;word-spacing:normal;text-anchor:start;fill:#000000;fill-opacity:1;fill-rule:evenodd;stroke:#000000;stroke-width:0;stroke-linecap:butt;stroke-linejoin:miter;stroke-miterlimit:10.43299961;stroke-dasharray:none;stroke-dashoffset:0;stroke-opacity:1\"/>\n",
       "          <path d=\"m 1368.4084,610.74189 0,-0.49712 c -1.4722,-0.10516 -2.4951,-0.74568 -3.9004,-2.42824 l -5.0955,-6.47213 0.9751,-0.89864 c 2.3518,-2.18924 4.4167,-3.7284 5.3918,-3.99608 0.4876,-0.1434 0.9656,-0.20076 1.5392,-0.20076 l 0.2486,0 0,-0.50668 -6.7972,0 0,0.478 c 1.3002,0.0287 1.673,0.16252 1.673,0.63096 0,0.26768 -0.2964,0.72656 -0.7648,1.12808 l -4.5697,4.063 0,-13.99585 -0.1338,-0.0574 -4.1491,1.195 -1.0038,0.26768 0,0.54492 c 0.4398,-0.0478 0.7362,-0.0765 1.0612,-0.0765 1.109,0 1.434,0.4302 1.434,2.02673 l 0,16.06081 c 0,1.73036 -0.1052,1.83552 -2.4952,2.23704 l 0,0.49712 7.7819,0 0,-0.49712 -0.6501,-0.0382 c -1.3384,-0.0669 -1.8451,-0.5258 -1.8451,-1.69212 l 0,-6.13753 4.6653,6.22357 0.1052,0.13384 c 0.076,0.10516 0.1338,0.21032 0.239,0.30592 0.2676,0.34416 0.3537,0.53536 0.3537,0.69788 0,0.29636 -0.2964,0.50668 -0.6979,0.50668 l -0.631,0 0,0.49712 z\" id=\"path4684\" inkscape:connector-curvature=\"0\" style=\"font-style:normal;font-variant:normal;font-weight:normal;font-stretch:normal;letter-spacing:normal;word-spacing:normal;text-anchor:start;fill:#000000;fill-opacity:1;fill-rule:evenodd;stroke:#000000;stroke-width:0;stroke-linecap:butt;stroke-linejoin:miter;stroke-miterlimit:10.43299961;stroke-dasharray:none;stroke-dashoffset:0;stroke-opacity:1\"/>\n",
       "        </g>\n",
       "      </g>\n",
       "    </g>\n",
       "  </g>\n",
       "<g inkscape:groupmode=\"layer\" inkscape:label=\"Frame\" sodipodi:insensitive=\"true\"><path d=\"M -7.712092300000114 -7.7120923 v 786.6334146 h 1141.9090846000001 v -786.6334146 z M 0 0 h 1126.4849 v 771.20923 h -1126.4849 z\" style=\"fill:#ffffff;stroke:none\"/></g></svg>"
      ],
      "text/plain": [
       "<IPython.core.display.SVG object>"
      ]
     },
     "execution_count": 36,
     "metadata": {},
     "output_type": "execute_result"
    }
   ],
   "source": [
    "SVG(filename='./resources/cranked_wing_WEB.svg')"
   ]
  },
  {
   "cell_type": "markdown",
   "metadata": {},
   "source": [
    "Examples of use of such a wing concept in actual wing configurations."
   ]
  },
  {
   "cell_type": "code",
   "execution_count": 37,
   "metadata": {
    "collapsed": false
   },
   "outputs": [
    {
     "data": {
      "image/svg+xml": [
       "<svg height=\"230.29446\" id=\"svg2\" inkscape:output_extension=\"org.inkscape.output.svg.inkscape\" inkscape:version=\"0.91 r13725\" sodipodi:docname=\"Cranked_Wing_Examples.svg\" sodipodi:version=\"0.32\" style=\"fill-rule:evenodd\" version=\"1.0\" viewBox=\"0 0 1811.9695 628.07581\" width=\"785.18677\" xml:space=\"preserve\" xmlns=\"http://www.w3.org/2000/svg\" xmlns:cc=\"http://creativecommons.org/ns#\" xmlns:dc=\"http://purl.org/dc/elements/1.1/\" xmlns:inkscape=\"http://www.inkscape.org/namespaces/inkscape\" xmlns:rdf=\"http://www.w3.org/1999/02/22-rdf-syntax-ns#\" xmlns:sodipodi=\"http://sodipodi.sourceforge.net/DTD/sodipodi-0.dtd\" xmlns:svg=\"http://www.w3.org/2000/svg\"><metadata id=\"metadata17\"><rdf:RDF><cc:Work rdf:about=\"\"><dc:format>image/svg+xml</dc:format><dc:type rdf:resource=\"http://purl.org/dc/dcmitype/StillImage\"/><dc:title/></cc:Work></rdf:RDF></metadata><sodipodi:namedview bordercolor=\"#666666\" borderopacity=\"1.0\" fit-margin-bottom=\"10\" fit-margin-left=\"10\" fit-margin-right=\"10\" fit-margin-top=\"10\" gridtolerance=\"10.0\" guidetolerance=\"10.0\" id=\"base\" inkscape:current-layer=\"svg2\" inkscape:cx=\"593.71393\" inkscape:cy=\"101.85527\" inkscape:document-units=\"pt\" inkscape:guide-bbox=\"true\" inkscape:pageopacity=\"0.0\" inkscape:pageshadow=\"2\" inkscape:window-height=\"897\" inkscape:window-maximized=\"1\" inkscape:window-width=\"2293\" inkscape:window-x=\"-8\" inkscape:window-y=\"-8\" inkscape:zoom=\"2.3841578\" objecttolerance=\"10.0\" pagecolor=\"#ffffff\" showgrid=\"false\" showguides=\"true\"><sodipodi:guide id=\"guide2482\" orientation=\"1,0\" position=\"-278.56723,194.46544\"/><sodipodi:guide id=\"guide2490\" orientation=\"-0.34202014,0.93969262\" position=\"-125.63465,633.72863\"/></sodipodi:namedview><defs id=\"defs4\"><inkscape:perspective id=\"perspective19\" inkscape:persp3d-origin=\"300.00001 : 200 : 1\" inkscape:vp_x=\"0 : 300 : 1\" inkscape:vp_y=\"0 : 1000 : 0\" inkscape:vp_z=\"600.00001 : 300 : 1\" sodipodi:type=\"inkscape:persp3d\"/><style id=\"style6\" type=\"text/css\">\n",
       "   \n",
       "    .str0 {stroke:#1F1A17;stroke-width:0.9}\n",
       "    .fil0 {fill:#0093DD}\n",
       "    .fil1 {fill:white}\n",
       "   \n",
       "  </style><metadata id=\"CorelCorpID_0Corel-Layer\"/><inkscape:perspective id=\"perspective19-5\" inkscape:persp3d-origin=\"300.00001 : 200 : 1\" inkscape:vp_x=\"0 : 300 : 1\" inkscape:vp_y=\"0 : 1000 : 0\" inkscape:vp_z=\"600.00001 : 300 : 1\" sodipodi:type=\"inkscape:persp3d\"/><style id=\"style6-8\" type=\"text/css\">\n",
       "   \n",
       "    .str0 {stroke:#1F1A17;stroke-width:0.9}\n",
       "    .fil0 {fill:#0093DD}\n",
       "    .fil1 {fill:white}\n",
       "   \n",
       "  </style><metadata id=\"CorelCorpID_0Corel-Layer-0\"/></defs><g id=\"g4171\" transform=\"translate(-104.16907,12.106942)\"><g id=\"g3312\"><path d=\"M -27.507402,406.50554 132.49086,381.16563 302.01008,281.1116 l 0,-153.7616 -169.51922,147.56797 -159.998262,67.20476 0,64.38281 z\" id=\"polygon12\" inkscape:connector-curvature=\"0\" sodipodi:nodetypes=\"ccccccc\" style=\"fill:#ffffff;stroke:#1f1a17;stroke-width:6.81818199;stroke-miterlimit:4;stroke-dasharray:none\"/><path d=\"M 629.51748,406.50554 469.51921,381.16563 300,281.1116 300,127.35 l 169.51921,147.56797 159.99827,67.20476 0,64.38281 z\" id=\"path3310\" inkscape:connector-curvature=\"0\" sodipodi:nodetypes=\"ccccccc\" style=\"fill:#ffffff;fill-rule:evenodd;stroke:#1f1a17;stroke-width:6.81818199;stroke-miterlimit:4;stroke-dasharray:none\"/></g><path d=\"m 301.73995,433.3125 -146.17044,105.75 0,44.90625 146.17044,-48.53125 145.82956,48.53125 0,-44.90625 -145.82956,-105.75 z\" id=\"polygon10\" inkscape:connector-curvature=\"0\" sodipodi:nodetypes=\"ccccccc\" style=\"fill:#ffffff;fill-opacity:1;stroke:#000000;stroke-width:6.81818199;stroke-miterlimit:4;stroke-dasharray:none;stroke-opacity:1\"/><path class=\"fil1 str0\" d=\"M 269.06142,171.65241 C 268.3521,63.29577 291.66779,17.155197 301.58096,17.211301 c 10.23562,0.05295 33.39499,47.030022 32.87187,158.072509 l 0.55909,210.06896 c 0.16547,62.18145 -11.10881,160.56476 -16.01548,193.17681 l -35.40938,0 C 278.41814,545.11689 267.85289,447.41081 268.13068,385.90475 l 0.93074,-214.25234 z\" id=\"path14\" inkscape:connector-curvature=\"0\" sodipodi:nodetypes=\"cscscccc\" style=\"fill:#ffffff;stroke:#1f1a17;stroke-width:4.090909;stroke-miterlimit:4;stroke-dasharray:none\"/><path class=\"fil1 str0\" d=\"m 293.69751,471.59526 c -0.17176,-28.28734 5.47425,-40.33268 7.87478,-40.31803 2.4786,0.0138 8.08676,12.27754 7.96008,41.26603 l 0.13539,54.84011 c 0.0401,16.23293 -2.69005,41.91665 -3.87822,50.43027 l -8.57457,0 c -1.25168,-8.72264 -3.81011,-34.22955 -3.74284,-50.28618 l 0.22538,-55.9322 z\" id=\"path2387\" inkscape:connector-curvature=\"0\" sodipodi:nodetypes=\"cscscccc\" style=\"fill:#ffffff;fill-rule:evenodd;stroke:#1f1a17;stroke-width:4.090909;stroke-miterlimit:4;stroke-dasharray:none\"/></g><g id=\"g4166\" style=\"fill-rule:evenodd\" transform=\"translate(606.40968,6.6978493)\"><path d=\"m 301.80631,93.381619 94.37381,252.072881 111.1691,109.59837 -0.47429,44.40145 -110.97361,-28.12863 -94.39745,28.12863 -95.72,-28.12863 L 97.393495,499.45432 96.545261,456.19744 205.50649,345.4545 301.80631,93.381619 Z\" id=\"polygon12-3\" inkscape:connector-curvature=\"0\" sodipodi:nodetypes=\"ccccccccccc\" style=\"fill:#ffffff;stroke:#1f1a17;stroke-width:6.81818199;stroke-miterlimit:4;stroke-dasharray:none\"/><path class=\"fil1 str0\" d=\"M 269.62625,176.65241 C 268.91693,68.29577 292.23262,22.155197 302.14579,22.211301 c 10.23562,0.05295 33.39499,47.030022 32.87187,158.072509 l 0.55909,210.06896 c 0.16547,62.18145 -11.10881,160.56476 -16.01548,193.17681 l -35.40938,0 C 278.98297,550.11689 268.41772,452.41081 268.69551,390.90475 l 0.93074,-214.25234 z\" id=\"path14-9\" inkscape:connector-curvature=\"0\" sodipodi:nodetypes=\"cscscccc\" style=\"fill:#ffffff;stroke:#1f1a17;stroke-width:3.27272725;stroke-miterlimit:4;stroke-dasharray:none\"/><path class=\"fil1 str0\" d=\"m 294.88698,477.623 c -0.15813,-28.00893 5.03987,-39.93573 7.24991,-39.92124 2.28194,0.0137 7.44509,12.15673 7.32846,40.85991 l 0.12465,54.30039 c 0.0369,16.07317 -2.4766,41.50411 -3.57049,49.93395 l -7.89418,0 c -1.15236,-8.63679 -3.50777,-33.89267 -3.44584,-49.79128 l 0.20749,-55.38173 z\" id=\"path2404\" inkscape:connector-curvature=\"0\" sodipodi:nodetypes=\"cscscccc\" style=\"fill:#ffffff;fill-rule:evenodd;stroke:#1f1a17;stroke-width:3.27272725;stroke-miterlimit:4;stroke-dasharray:none\"/></g><g id=\"g4151\" transform=\"translate(1318.8613,12.106942)\"><g id=\"g4153\"><path d=\"m -27.507402,455.59645 159.998262,-96.249 169.51922,-23.6904 0,-191.94342 -169.51922,142.11343 -159.998262,121.75021 z\" id=\"path4155\" inkscape:connector-curvature=\"0\" sodipodi:nodetypes=\"ccccccc\" style=\"fill:#ffffff;stroke:#1f1a17;stroke-width:6.81818199;stroke-miterlimit:4;stroke-dasharray:none\"/><path d=\"M 629.51748,455.59645 469.51921,359.34745 300,335.65705 300,143.71363 469.51921,285.82706 629.51748,407.57727 Z\" id=\"path4157\" inkscape:connector-curvature=\"0\" sodipodi:nodetypes=\"ccccccc\" style=\"fill:#ffffff;fill-rule:evenodd;stroke:#1f1a17;stroke-width:6.81818199;stroke-miterlimit:4;stroke-dasharray:none\"/></g><path d=\"m 301.73995,449.67614 -146.17044,105.75 0,28.54261 146.17044,-48.53125 145.82956,48.53125 0,-28.54261 z\" id=\"path4159\" inkscape:connector-curvature=\"0\" sodipodi:nodetypes=\"ccccccc\" style=\"fill:#ffffff;fill-opacity:1;stroke:#000000;stroke-width:6.81818199;stroke-miterlimit:4;stroke-dasharray:none;stroke-opacity:1\"/><path class=\"fil1 str0\" d=\"M 269.06142,171.65241 C 268.3521,63.29577 291.66779,17.155197 301.58096,17.211301 c 10.23562,0.05295 33.39499,47.030022 32.87187,158.072509 l 0.55909,210.06896 c 0.16547,62.18145 -11.10881,160.56476 -16.01548,193.17681 l -35.40938,0 C 278.41814,545.11689 267.85289,447.41081 268.13068,385.90475 l 0.93074,-214.25234 z\" id=\"path4161\" inkscape:connector-curvature=\"0\" sodipodi:nodetypes=\"cscscccc\" style=\"fill:#ffffff;stroke:#1f1a17;stroke-width:4.090909;stroke-miterlimit:4;stroke-dasharray:none\"/><path class=\"fil1 str0\" d=\"m 293.69751,471.59526 c -0.17176,-28.28734 5.47425,-40.33268 7.87478,-40.31803 2.4786,0.0138 8.08676,12.27754 7.96008,41.26603 l 0.13539,54.84011 c 0.0401,16.23293 -2.69005,41.91665 -3.87822,50.43027 l -8.57457,0 c -1.25168,-8.72264 -3.81011,-34.22955 -3.74284,-50.28618 l 0.22538,-55.9322 z\" id=\"path4163\" inkscape:connector-curvature=\"0\" sodipodi:nodetypes=\"cscscccc\" style=\"fill:#ffffff;fill-rule:evenodd;stroke:#1f1a17;stroke-width:4.090909;stroke-miterlimit:4;stroke-dasharray:none\"/></g></svg>"
      ],
      "text/plain": [
       "<IPython.core.display.SVG object>"
      ]
     },
     "execution_count": 37,
     "metadata": {},
     "output_type": "execute_result"
    }
   ],
   "source": [
    "SVG(filename='./resources/Cranked_Wing_Examples.svg')"
   ]
  },
  {
   "cell_type": "code",
   "execution_count": 38,
   "metadata": {
    "collapsed": false
   },
   "outputs": [
    {
     "ename": "SyntaxError",
     "evalue": "invalid syntax (<ipython-input-38-f2b241dfb2d9>, line 1)",
     "output_type": "error",
     "traceback": [
      "\u001b[1;36m  File \u001b[1;32m\"<ipython-input-38-f2b241dfb2d9>\"\u001b[1;36m, line \u001b[1;32m1\u001b[0m\n\u001b[1;33m    Wing data.\u001b[0m\n\u001b[1;37m            ^\u001b[0m\n\u001b[1;31mSyntaxError\u001b[0m\u001b[1;31m:\u001b[0m invalid syntax\n"
     ]
    }
   ],
   "source": [
    "Wing data."
   ]
  },
  {
   "cell_type": "code",
   "execution_count": null,
   "metadata": {
    "collapsed": true
   },
   "outputs": [],
   "source": [
    "c_r = 5.5; c_k = 2.4; c_t = 1.5; \n",
    "b_k = 14.0; b = 28\n",
    "Lambda_le_1 = 24*math.pi/180; Lambda_le_2 = 24*math.pi/180"
   ]
  },
  {
   "cell_type": "code",
   "execution_count": null,
   "metadata": {
    "collapsed": false
   },
   "outputs": [],
   "source": [
    "Latex(\n",
    "    r'\\begin{array}{rl}'\n",
    "    +  r'\\text{root chord,}\\, c_{\\mathrm{r}}: & ' + r'{0}'.format(c_r) + r'\\,\\text{m}'\n",
    "    +  r'\\\\'\n",
    "    +  r'\\text{kink chord,}\\, c_{\\mathrm{k}}: & ' + r'{0}'.format(c_k) + r'\\,\\text{m}'\n",
    "    +  r'\\\\'\n",
    "    +  r'\\text{tip chord,}\\, c_{\\mathrm{t}}: & ' + r'{0}'.format(c_t) + r'\\,\\text{m}'\n",
    "    +  r'\\\\'\n",
    "    +  r'\\text{semispan, inner panel}\\, \\frac{1}{2}b_{\\mathrm{k}}: & ' + r'{0}'.format(b_k/2) + r'\\,\\text{m}'\n",
    "    +  r'\\\\'\n",
    "    +  r'\\text{semispan,}\\, \\frac{1}{2}b: & ' + r'{0}'.format(b/2) + r'\\,\\text{m}'\n",
    "    +  r'\\\\'\n",
    "    +  r'\\text{leading edge sweep, inner panel,}\\, \\Lambda_{\\mathrm{le},1}: &' \n",
    "    +    r'{0}'.format(Lambda_le_1*180/math.pi) + r'\\,\\text{deg}'\n",
    "    +  r'\\\\'\n",
    "    +  r'\\text{leading edge sweep, outer panel,}\\, \\Lambda_{\\mathrm{le},2}: &' \n",
    "    +    r'{0}'.format(Lambda_le_2*180/math.pi) + r'\\,\\text{deg}'\n",
    "    +r'\\end{array}'\n",
    ")"
   ]
  },
  {
   "cell_type": "markdown",
   "metadata": {},
   "source": [
    "Wing platform."
   ]
  },
  {
   "cell_type": "code",
   "execution_count": null,
   "metadata": {
    "collapsed": false
   },
   "outputs": [],
   "source": [
    "plot_planform(c_r, c_k, c_t, b_k, b, Lambda_le_1, Lambda_le_2)"
   ]
  },
  {
   "cell_type": "markdown",
   "metadata": {},
   "source": [
    "### The law of the chords, $c(y)$"
   ]
  },
  {
   "cell_type": "markdown",
   "metadata": {},
   "source": [
    "The function $c(y)$ is the piecewise linear law that gives the chord at the generic spanwise station $y\\in \\big[0,\\frac{1}{2}b\\big]$. This has the form\n",
    "\n",
    "\\begin{equation}\n",
    "c(y) = \n",
    "\\begin{cases}\n",
    "A_{c,1} y + B_{c,1}  & \\text{if $\\;0\\le y \\le \\frac{1}{2}b_{\\mathrm{k}}$} \\\\[0.5em]\n",
    "A_{c,2} \\big( y - \\frac{1}{2}b_{\\mathrm{k}} \\big) + B_{c,2} & \\text{if $\\;\\frac{1}{2}b_{\\mathrm{k}} < y \\le \\frac{1}{2}b$}\n",
    "\\end{cases}\n",
    "\\end{equation}\n",
    "\n",
    "with \n",
    "\n",
    "\\begin{equation}\n",
    "A_{c} = \n",
    "\\begin{cases}\n",
    "A_{c,1} = \\dfrac{2}{b_{\\mathrm{k}}} \\left( c_{\\mathrm{k}} - c_{\\mathrm{r}} \\right)  \n",
    "  & \\text{if $\\;0\\le y \\le \\frac{1}{2}b_{\\mathrm{k}}$} \\\\[0.5em]\n",
    "A_{c,2} = \\dfrac{2}{b - b_{\\mathrm{k}}} \\left( c_{\\mathrm{t}} - c_{\\mathrm{k}} \\right)  \n",
    "  & \\text{if $\\;\\frac{1}{2}b_{\\mathrm{k}} < y \\le \\frac{1}{2}b$}\n",
    "\\end{cases}\n",
    "\\end{equation}\n",
    "\n",
    "and\n",
    "\n",
    "\\begin{equation}\n",
    "B_{c} = \n",
    "\\begin{cases}\n",
    "B_{c,1} = c_{\\mathrm{r}}\n",
    "  & \\text{if $\\;0\\le y \\le \\frac{1}{2}b_{\\mathrm{k}}$} \\\\[0.5em]\n",
    "B_{c,2} = c_{\\mathrm{k}}\n",
    "  & \\text{if $\\;\\frac{1}{2}b_{\\mathrm{k}} < y \\le \\frac{1}{2}b$}\n",
    "\\end{cases}\n",
    "\\end{equation}"
   ]
  },
  {
   "cell_type": "markdown",
   "metadata": {},
   "source": [
    "The following code defines function $c(y)$ calculating the above two coefficients:"
   ]
  },
  {
   "cell_type": "code",
   "execution_count": null,
   "metadata": {
    "collapsed": false
   },
   "outputs": [],
   "source": [
    "# c(y)\n",
    "def f_chord(y, c_r, c_k, c_t, b_k, b, Lambda_le_1, Lambda_le_2):\n",
    "    if y >= 0 and y <= b_k/2:\n",
    "        A_ = 2*(c_k - c_r)/b_k; B_ = c_r;\n",
    "        return A_*y + B_\n",
    "    elif y > b_k/2 and y <= b/2:\n",
    "        A_ = (c_t - c_k)/(b/2 - b_k/2); B_ = c_k;\n",
    "        return A_*(y - b_k/2) + B_\n",
    "    \n",
    "def f_chord_1(y, c_r, c_k, c_t, b_k, b, Lambda_le_1, Lambda_le_2):\n",
    "    A_ = 2*(c_k - c_r)/b_k; B_ = c_r;\n",
    "    return A_*y + B_\n",
    "\n",
    "def f_chord_2(y, c_r, c_k, c_t, b_k, b, Lambda_le_1, Lambda_le_2):\n",
    "    A_ = (c_t - c_k)/(b/2 - b_k/2); B_ = c_k;\n",
    "    return A_*(y - b_k/2) + B_"
   ]
  },
  {
   "cell_type": "code",
   "execution_count": null,
   "metadata": {
    "collapsed": false
   },
   "outputs": [],
   "source": [
    "%run ./src/cranked_wing/init.py\n",
    "plot_wing_functions(c_r, c_k, c_t, \n",
    "                    [], [], [], [], [], # eps_k, eps_t, alpha0l_r, alpha0l_k, alpha0l_t,\n",
    "                    b_k, b, Lambda_le_1, Lambda_le_2, \n",
    "                    ymax = 7, ymin = -4.5,\n",
    "                    figsize = (11,5), vshift_xaxis=20,\n",
    "                    f_chord = f_chord)"
   ]
  },
  {
   "cell_type": "markdown",
   "metadata": {},
   "source": [
    "### The law of the leading edge positions, $X_{\\mathrm{le}}(y)$"
   ]
  },
  {
   "cell_type": "markdown",
   "metadata": {},
   "source": [
    "The function $X_{\\mathrm{le}}(y)$ is the piecewise law that gives the local leading edge longitudinal coordinate at the generic spanwise station $y\\in \\big[0,\\frac{1}{2}b\\big]$. This has the form\n",
    "\n",
    "\\begin{equation}\n",
    "X_{\\mathrm{le}}(y) = \n",
    "\\begin{cases}\n",
    "A_{X_{\\mathrm{le}},1} \\, y + B_{X_{\\mathrm{le}},1}  & \\text{if $\\;0\\le y \\le \\frac{1}{2}b_{\\mathrm{k}}$} \\\\[0.5em]\n",
    "A_{X_{\\mathrm{le}},2} \\, \\big( y - \\frac{1}{2}b_{\\mathrm{k}} \\big) + B_{X_{\\mathrm{le}},2} & \\text{if $\\;\\frac{1}{2}b_{\\mathrm{k}} < y \\le \\frac{1}{2}b$}\n",
    "\\end{cases}\n",
    "\\end{equation}\n",
    "\n",
    "with \n",
    "\n",
    "\\begin{equation}\n",
    "A_{X_{\\mathrm{le}}} = \n",
    "\\begin{cases}\n",
    "A_{X_{\\mathrm{le}},1} = \\tan \\Lambda_{\\mathrm{le},1}\n",
    "  & \\text{if $\\;0\\le y \\le \\frac{1}{2}b_{\\mathrm{k}}$} \\\\[0.5em]\n",
    "A_{X_{\\mathrm{le}},2} = \\tan \\Lambda_{\\mathrm{le},2}\n",
    "  & \\text{if $\\;\\frac{1}{2}b_{\\mathrm{k}} < y \\le \\frac{1}{2}b$}\n",
    "\\end{cases}\n",
    "\\end{equation}\n",
    "\n",
    "and\n",
    "\n",
    "\\begin{equation}\n",
    "B_{X_{\\mathrm{le}}} = \n",
    "\\begin{cases}\n",
    "B_{X_{\\mathrm{le}},1} = 0 \\, \\mathrm{m}\n",
    "  & \\text{if $\\;0\\le y \\le \\frac{1}{2}b_{\\mathrm{k}}$} \\\\[0.5em]\n",
    "B_{X_{\\mathrm{le}},2} = \\frac{1}{2} b_{\\mathrm{k}} \\, \\tan \\Lambda_{\\mathrm{le},1}\n",
    "  & \\text{if $\\;\\frac{1}{2}b_{\\mathrm{k}} < y \\le \\frac{1}{2}b$}\n",
    "\\end{cases}\n",
    "\\end{equation}"
   ]
  },
  {
   "cell_type": "code",
   "execution_count": null,
   "metadata": {
    "collapsed": true
   },
   "outputs": [],
   "source": [
    "# X_le(y)\n",
    "def f_Xle(y, b_k, b, Lambda_le_1, Lambda_le_2):\n",
    "    if y >= 0 and y <= b_k/2:\n",
    "        A_ = math.tan(Lambda_le_1);\n",
    "        return A_*y\n",
    "    elif y > b_k/2 and y <= b/2:\n",
    "        A_ = math.tan(Lambda_le_2);\n",
    "        return (b_k/2)*math.tan(Lambda_le_1) + A_*(y - b_k/2)\n",
    "    \n",
    "def f_Xle_1(y, b_k, b, Lambda_le_1, Lambda_le_2):\n",
    "    A_ = math.tan(Lambda_le_1);\n",
    "    return A_*y\n",
    "    \n",
    "def f_Xle_2(y, b_k, b, Lambda_le_1, Lambda_le_2):\n",
    "    A_ = math.tan(Lambda_le_2);\n",
    "    return (b_k/2)*math.tan(Lambda_le_1) + A_*(y - b_k/2)"
   ]
  },
  {
   "cell_type": "code",
   "execution_count": null,
   "metadata": {
    "collapsed": false
   },
   "outputs": [],
   "source": [
    "%run ./src/cranked_wing/init.py\n",
    "plot_wing_functions(c_r, c_k, c_t, \n",
    "                    [], [], [], [], [], # eps_k, eps_t, alpha0l_r, alpha0l_k, alpha0l_t,\n",
    "                    b_k, b, Lambda_le_1, Lambda_le_2, \n",
    "                    ymax = 10, ymin = -4.5,\n",
    "                    figsize = (11,5), vshift_xaxis=20,\n",
    "                    f_chord = f_chord,\n",
    "                    f_Xle = f_Xle)"
   ]
  },
  {
   "cell_type": "markdown",
   "metadata": {},
   "source": [
    "### Calculate $S$, $\\bar{c}$, $X_{\\mathrm{le},\\bar{c}}$, and $Y_{\\bar{c}}$"
   ]
  },
  {
   "cell_type": "markdown",
   "metadata": {},
   "source": [
    "The reference surface:"
   ]
  },
  {
   "cell_type": "markdown",
   "metadata": {},
   "source": [
    "\\begin{equation}\n",
    "S = 2 \\int_{0}^{b/2} c(y) \\, \\mathrm{d}y\n",
    "\\end{equation}"
   ]
  },
  {
   "cell_type": "code",
   "execution_count": null,
   "metadata": {
    "collapsed": false
   },
   "outputs": [],
   "source": [
    "%run ./src/cranked_wing/init.py\n",
    "plot_wing_functions(c_r, c_k, c_t, \n",
    "                    [], [], [], [], [], # eps_k, eps_t, alpha0l_r, alpha0l_k, alpha0l_t,\n",
    "                    b_k, b, Lambda_le_1, Lambda_le_2,\n",
    "                    ymax = 7, ymin = -1.5,\n",
    "                    figsize = (11,5), vshift_xaxis=40,\n",
    "                    f_S_integral = f_chord)"
   ]
  },
  {
   "cell_type": "markdown",
   "metadata": {},
   "source": [
    "The planform area is calculated by quadrature of the function $c(y)$. In Python this is done via the package SciPy."
   ]
  },
  {
   "cell_type": "code",
   "execution_count": null,
   "metadata": {
    "collapsed": false
   },
   "outputs": [],
   "source": [
    "%run ./src/cranked_wing/init.py\n",
    "# Definite integral via scipy\n",
    "S_ref_ = scipy.integrate.quad(\n",
    "    f_chord, 0, b/2, args=(c_r, c_k, c_t, b_k, b, Lambda_le_1, Lambda_le_2))\n",
    "# print(S_ref_)\n",
    "S_ref = 2*S_ref_[0]\n",
    "print('S = {0} m^2'.format(S_ref))"
   ]
  },
  {
   "cell_type": "markdown",
   "metadata": {},
   "source": [
    "The mean aerodynamic chord:"
   ]
  },
  {
   "cell_type": "markdown",
   "metadata": {},
   "source": [
    "\\begin{equation}\n",
    "\\bar{c} = \\frac{2}{S} \\int_{0}^{b/2} c^2(y) \\, \\mathrm{d}y\n",
    "\\end{equation}"
   ]
  },
  {
   "cell_type": "code",
   "execution_count": null,
   "metadata": {
    "collapsed": true
   },
   "outputs": [],
   "source": [
    "# c^2(y)\n",
    "def f_chord_squared(y, c_r, c_k, c_t, b_k, b, Lambda_le_1, Lambda_le_2):\n",
    "    return f_chord(y, c_r, c_k, c_t, b_k, b, Lambda_le_1, Lambda_le_2)**2"
   ]
  },
  {
   "cell_type": "code",
   "execution_count": null,
   "metadata": {
    "collapsed": false
   },
   "outputs": [],
   "source": [
    "%run ./src/cranked_wing/init.py\n",
    "plot_wing_functions(c_r, c_k, c_t, \n",
    "                    [], [], [], [], [], # eps_k, eps_t, alpha0l_r, alpha0l_k, alpha0l_t,\n",
    "                    b_k, b, Lambda_le_1, Lambda_le_2,\n",
    "                    n_points = 20, \n",
    "                    ymax = 1.1*c_r**2, ymin = -5,\n",
    "                    figsize = (11,5), vshift_xaxis=40,\n",
    "                    f_S_integral = f_chord,\n",
    "                    f_mac_integral = f_chord_squared)"
   ]
  },
  {
   "cell_type": "markdown",
   "metadata": {},
   "source": [
    "The mean aerodynamic chord is calculated by quadrature of the function $c^2(y)$."
   ]
  },
  {
   "cell_type": "code",
   "execution_count": null,
   "metadata": {
    "collapsed": false
   },
   "outputs": [],
   "source": [
    "%run ./src/cranked_wing/init.py\n",
    "# Definite integral via scipy\n",
    "c_mac_ = scipy.integrate.quad(\n",
    "    f_chord_squared, 0, b/2, args=(c_r, c_k, c_t, b_k, b, Lambda_le_1, Lambda_le_2))\n",
    "print(c_mac_)\n",
    "c_mac = (2/S_ref)*c_mac_[0]\n",
    "print('mac = {0} m'.format(c_mac))"
   ]
  },
  {
   "cell_type": "markdown",
   "metadata": {},
   "source": [
    "The mean aerodynamic chord leading edge:"
   ]
  },
  {
   "cell_type": "markdown",
   "metadata": {},
   "source": [
    "\\begin{equation}\n",
    "X_{\\mathrm{le},\\bar{c}} = \\frac{2}{S} \\int_{0}^{b/2} X_{\\mathrm{le}}(y) \\, c(y) \\, \\mathrm{d}y\n",
    "\\end{equation}"
   ]
  },
  {
   "cell_type": "code",
   "execution_count": null,
   "metadata": {
    "collapsed": false
   },
   "outputs": [],
   "source": [
    "# X_le(y) * c(y)\n",
    "def f_Xle_c(y, c_r, c_k, c_t, b_k, b, Lambda_le_1, Lambda_le_2):\n",
    "    return f_Xle(y, b_k, b, Lambda_le_1, Lambda_le_2)*f_chord(y, c_r, c_k, c_t, b_k, b, Lambda_le_1, Lambda_le_2)"
   ]
  },
  {
   "cell_type": "code",
   "execution_count": null,
   "metadata": {
    "collapsed": false
   },
   "outputs": [],
   "source": [
    "%run ./src/cranked_wing/init.py\n",
    "plot_wing_functions(c_r, c_k, c_t, \n",
    "                    [], [], [], [], [], # eps_k, eps_t, alpha0l_r, alpha0l_k, alpha0l_t,\n",
    "                    b_k, b, Lambda_le_1, Lambda_le_2,\n",
    "                    n_points = 30, \n",
    "                    ymax = 13, ymin = -2,\n",
    "                    figsize = (11,5), vshift_xaxis=40,                    \n",
    "                    f_Xle_mac_integral = f_Xle_c)"
   ]
  },
  {
   "cell_type": "markdown",
   "metadata": {},
   "source": [
    "The coordinate $X_{\\mathrm{le},\\bar{c}}$ of the function $X_{\\mathrm{le}}(y)\\,c(y)$."
   ]
  },
  {
   "cell_type": "code",
   "execution_count": null,
   "metadata": {
    "collapsed": false
   },
   "outputs": [],
   "source": [
    "%run ./src/cranked_wing/init.py\n",
    "# Definite integral via scipy\n",
    "X_le_mac_ = scipy.integrate.quad(\n",
    "    f_Xle_c, 0, b/2, args=(c_r, c_k, c_t, b_k, b, Lambda_le_1, Lambda_le_2))\n",
    "print(X_le_mac_)\n",
    "X_le_mac = (2/S_ref)*X_le_mac_[0]\n",
    "print('X_le_mac = {0} m'.format(X_le_mac))"
   ]
  },
  {
   "cell_type": "markdown",
   "metadata": {},
   "source": [
    "The mean aerodynamic chord spanwise location:"
   ]
  },
  {
   "cell_type": "markdown",
   "metadata": {},
   "source": [
    "\\begin{equation}\n",
    "Y_{\\bar{c}} = \\frac{2}{S} \\int_{0}^{b/2} y \\, c(y) \\, \\mathrm{d}y\n",
    "\\end{equation}"
   ]
  },
  {
   "cell_type": "code",
   "execution_count": null,
   "metadata": {
    "collapsed": true
   },
   "outputs": [],
   "source": [
    "# y * c(y)\n",
    "def f_y_c(y, c_r, c_k, c_t, b_k, b, Lambda_le_1, Lambda_le_2):\n",
    "    return y*f_chord(y, c_r, c_k, c_t, b_k, b, Lambda_le_1, Lambda_le_2)"
   ]
  },
  {
   "cell_type": "code",
   "execution_count": null,
   "metadata": {
    "collapsed": false
   },
   "outputs": [],
   "source": [
    "%run ./src/cranked_wing/init.py\n",
    "plot_wing_functions(c_r, c_k, c_t, \n",
    "                    [], [], [], [], [], # eps_k, eps_t, alpha0l_r, alpha0l_k, alpha0l_t,\n",
    "                    b_k, b, Lambda_le_1, Lambda_le_2,\n",
    "                    n_points = 20, \n",
    "                    ymax = 33, ymin = -7,\n",
    "                    figsize = (11,5), vshift_xaxis=40,                    \n",
    "                    f_Xle_mac_integral = f_Xle_c,\n",
    "                    f_Y_mac_integral = f_y_c)"
   ]
  },
  {
   "cell_type": "code",
   "execution_count": null,
   "metadata": {
    "collapsed": false
   },
   "outputs": [],
   "source": [
    "%run ./src/cranked_wing/init.py\n",
    "# Definite integral via scipy\n",
    "Y_mac_ = scipy.integrate.quad(\n",
    "    f_y_c, 0, b/2, args=(c_r, c_k, c_t, b_k, b, Lambda_le_1, Lambda_le_2))\n",
    "print(Y_mac_)\n",
    "Y_mac = (2/S_ref)*Y_mac_[0]\n",
    "print('Y_mac = {0} m'.format(Y_mac))"
   ]
  },
  {
   "cell_type": "code",
   "execution_count": null,
   "metadata": {
    "collapsed": false
   },
   "outputs": [],
   "source": [
    "# %run ./src/aerodynamic_center_wing/init.py\n",
    "plot_planform(c_r, c_k, c_t, b_k, b, Lambda_le_1, Lambda_le_2, \n",
    "              mac=c_mac, X_le_mac=X_le_mac, Y_mac=Y_mac)"
   ]
  },
  {
   "cell_type": "markdown",
   "metadata": {},
   "source": [
    "## TODO: fix the part below"
   ]
  },
  {
   "cell_type": "markdown",
   "metadata": {},
   "source": [
    "### The laws of geometric twist $\\epsilon_{\\mathrm{g}}(y)$ and of profile zero-lift angle of attack $\\alpha_{0\\ell}(y)$"
   ]
  },
  {
   "cell_type": "markdown",
   "metadata": {},
   "source": [
    "The function $\\epsilon_{\\mathrm{g}}(y)$ is the piecewise law that gives the geometric twist of the wing sectiont at the generic spanwise station $y\\in \\big[0,\\frac{1}{2}b\\big]$. This has the form\n",
    "\n",
    "\\begin{equation}\n",
    "\\epsilon_{\\mathrm{g}}(y) = \n",
    "\\begin{cases}\n",
    "A_{\\epsilon,1} \\, y + B_{\\epsilon,1}  & \\text{if $\\;0\\le y \\le \\frac{1}{2}b_{\\mathrm{k}}$} \\\\[0.5em]\n",
    "A_{\\epsilon,2} \\, \\big( y - \\frac{1}{2}b_{\\mathrm{k}} \\big) + B_{\\epsilon,2} & \\text{if $\\;\\frac{1}{2}b_{\\mathrm{k}} < y \\le \\frac{1}{2}b$}\n",
    "\\end{cases}\n",
    "\\end{equation}\n",
    "\n",
    "with \n",
    "\n",
    "\\begin{equation}\n",
    "A_{\\epsilon} = \n",
    "\\begin{cases}\n",
    "A_{\\epsilon,1} = \\dfrac{2}{b_{\\mathrm{k}}}\\, \\epsilon_{\\mathrm{g,k}}\n",
    "  & \\text{if $\\;0\\le y \\le \\frac{1}{2}b_{\\mathrm{k}}$} \\\\[0.5em]\n",
    "A_{\\epsilon,2} = \\dfrac{2}{b - b_{\\mathrm{k}}}\\, \\big( \\epsilon_{\\mathrm{g,t}} - \\epsilon_{\\mathrm{g,k}} \\big)\n",
    "  & \\text{if $\\;\\frac{1}{2}b_{\\mathrm{k}} < y \\le \\frac{1}{2}b$}\n",
    "\\end{cases}\n",
    "\\end{equation}\n",
    "\n",
    "and\n",
    "\n",
    "\\begin{equation}\n",
    "B_{\\epsilon} = \n",
    "\\begin{cases}\n",
    "B_{\\epsilon,1} = 0 \\, \\mathrm{rad}\n",
    "  & \\text{if $\\;0\\le y \\le \\frac{1}{2}b_{\\mathrm{k}}$} \\\\[0.5em]\n",
    "B_{\\epsilon,2} = \\epsilon_{\\mathrm{g,k}}\n",
    "  & \\text{if $\\;\\frac{1}{2}b_{\\mathrm{k}} < y \\le \\frac{1}{2}b$}\n",
    "\\end{cases}\n",
    "\\end{equation}"
   ]
  },
  {
   "cell_type": "markdown",
   "metadata": {},
   "source": [
    "Let us assign the geometric twist at kink and tip sections:"
   ]
  },
  {
   "cell_type": "code",
   "execution_count": null,
   "metadata": {
    "collapsed": true
   },
   "outputs": [],
   "source": [
    "eps_k = 0*math.pi/180\n",
    "eps_t = -2.0*math.pi/180"
   ]
  },
  {
   "cell_type": "markdown",
   "metadata": {},
   "source": [
    "The following code defines function $\\epsilon_{\\mathrm{g}}(y)$ calculating the above two coefficients:"
   ]
  },
  {
   "cell_type": "code",
   "execution_count": null,
   "metadata": {
    "collapsed": false
   },
   "outputs": [],
   "source": [
    "# eps_g(y)\n",
    "def f_twist(eps_k, eps_t, b_k, b, y):\n",
    "    if y >= 0 and y <= b_k/2:\n",
    "        A_ = 2*eps_k/b_k; B_ = 0;\n",
    "        return A_*y + B_\n",
    "    elif y > b_k/2 and y <= b/2:\n",
    "        A_ = (eps_t - eps_k)/(b/2 - b_k/2); B_ = eps_k;\n",
    "        return A_*(y - b_k/2) + B_\n",
    "    \n",
    "def f_twist_1(eps_k, eps_t, b_k, b, y):\n",
    "    A_ = 2*eps_k/b_k; B_ = 0;\n",
    "    return A_*y + B_\n",
    "\n",
    "def f_twist_2(eps_k, eps_t, b_k, b, y):\n",
    "    A_ = (eps_t - eps_k)/(b/2 - b_k/2); B_ = eps_k;\n",
    "    return A_*(y - b_k/2) + B_"
   ]
  },
  {
   "cell_type": "markdown",
   "metadata": {},
   "source": [
    "The function $\\alpha_{0\\ell}(y)$ is the piecewise law that gives the zero-lift angle of attack of the wing sectiont at the generic spanwise station $y\\in \\big[0,\\frac{1}{2}b\\big]$. This has the form\n",
    "\n",
    "\\begin{equation}\n",
    "\\alpha_{0\\ell}(y) = \n",
    "\\begin{cases}\n",
    "A_{\\alpha,1} \\, y + B_{\\alpha,1}  & \\text{if $\\;0\\le y \\le \\frac{1}{2}b_{\\mathrm{k}}$} \\\\[0.5em]\n",
    "A_{\\alpha,2} \\, \\big( y - \\frac{1}{2}b_{\\mathrm{k}} \\big) + B_{\\alpha,2} & \\text{if $\\;\\frac{1}{2}b_{\\mathrm{k}} < y \\le \\frac{1}{2}b$}\n",
    "\\end{cases}\n",
    "\\end{equation}\n",
    "\n",
    "with \n",
    "\n",
    "\\begin{equation}\n",
    "A_{\\alpha} = \n",
    "\\begin{cases}\n",
    "A_{\\alpha,1} = \\dfrac{2}{b_{\\mathrm{k}}}\\, \\alpha_{0\\ell,\\mathrm{k}}\n",
    "  & \\text{if $\\;0\\le y \\le \\frac{1}{2}b_{\\mathrm{k}}$} \\\\[0.5em]\n",
    "A_{\\alpha,2} = \\dfrac{2}{b - b_{\\mathrm{k}}}\\, \\big( \\alpha_{0\\ell,\\mathrm{t}} - \\alpha_{0\\ell,\\mathrm{k}} \\big)\n",
    "  & \\text{if $\\;\\frac{1}{2}b_{\\mathrm{k}} < y \\le \\frac{1}{2}b$}\n",
    "\\end{cases}\n",
    "\\end{equation}\n",
    "\n",
    "and\n",
    "\n",
    "\\begin{equation}\n",
    "B_{\\alpha} = \n",
    "\\begin{cases}\n",
    "B_{\\alpha,1} = \\alpha_{0\\ell,\\mathrm{r}}\n",
    "  & \\text{if $\\;0\\le y \\le \\frac{1}{2}b_{\\mathrm{k}}$} \\\\[0.5em]\n",
    "B_{\\alpha,2} = \\alpha_{0\\ell,\\mathrm{k}}\n",
    "  & \\text{if $\\;\\frac{1}{2}b_{\\mathrm{k}} < y \\le \\frac{1}{2}b$}\n",
    "\\end{cases}\n",
    "\\end{equation}"
   ]
  },
  {
   "cell_type": "markdown",
   "metadata": {},
   "source": [
    "Let us assign the profile zero-lift alpha at root, kink and tip sections:"
   ]
  },
  {
   "cell_type": "code",
   "execution_count": null,
   "metadata": {
    "collapsed": true
   },
   "outputs": [],
   "source": [
    "alpha0l_r = -3.0*math.pi/180\n",
    "alpha0l_k = -3.0*math.pi/180\n",
    "alpha0l_t = -2.0*math.pi/180"
   ]
  },
  {
   "cell_type": "markdown",
   "metadata": {},
   "source": [
    "The following code defines function $\\alpha_{0\\ell}(y)$ calculating the above two coefficients:"
   ]
  },
  {
   "cell_type": "code",
   "execution_count": null,
   "metadata": {
    "collapsed": false
   },
   "outputs": [],
   "source": [
    "# alpha0l(y)\n",
    "def f_alpha0l(alpha0l_r, alpha0l_k, alpha0l_t, b_k, b, y):\n",
    "    if y >= 0 and y <= b_k/2:\n",
    "        A_ = 2*(alpha0l_k - alpha0l_r)/b_k; B_ = alpha0l_r;\n",
    "        return A_*y + B_\n",
    "    elif y > b_k/2 and y <= b/2:\n",
    "        A_ = (alpha0l_t - alpha0l_k)/(b/2 - b_k/2); B_ = alpha0l_k;\n",
    "        return A_*(y - b_k/2) + B_\n",
    "    \n",
    "def f_alpha0l_1(alpha0l_r, alpha0l_k, alpha0l_t, b_k, b, y):\n",
    "    A_ = 2*(alpha0l_k - alpha0l_r)/b_k; B_ = alpha0l_r;\n",
    "    return A_*y + B_\n",
    "\n",
    "def f_alpha0l_2(alpha0l_r, alpha0l_k, alpha0l_t, b_k, b, y):\n",
    "    A_ = (alpha0l_t - alpha0l_k)/(b/2 - b_k/2); B_ = alpha0l_k;\n",
    "    return A_*(y - b_k/2) + B_"
   ]
  },
  {
   "cell_type": "markdown",
   "metadata": {
    "collapsed": true
   },
   "source": [
    "## Wing functions"
   ]
  },
  {
   "cell_type": "markdown",
   "metadata": {},
   "source": [
    "The following code defines function $\\epsilon_{\\mathrm{g}}(y)$ calculating the above two coefficients:"
   ]
  },
  {
   "cell_type": "markdown",
   "metadata": {
    "collapsed": true
   },
   "source": [
    "## Wing functions"
   ]
  },
  {
   "cell_type": "code",
   "execution_count": null,
   "metadata": {
    "collapsed": true
   },
   "outputs": [],
   "source": []
  },
  {
   "cell_type": "markdown",
   "metadata": {},
   "source": [
    "## The wing zero-lift angle of attack $\\alpha_{0L,\\mathrm{W}}$"
   ]
  },
  {
   "cell_type": "markdown",
   "metadata": {},
   "source": [
    "The zero-lift angle of attack is given by the following formula:"
   ]
  },
  {
   "cell_type": "markdown",
   "metadata": {
    "collapsed": true
   },
   "source": [
    "\\begin{equation}\n",
    "\\alpha_{0L,\\mathrm{W}} \n",
    "  = \\frac{2}{S} \\int_0^{b/2} \n",
    "    \\big[\\alpha_{0\\ell}(y) - \\epsilon_{\\mathrm{g}}(y)\\big]\n",
    "    c(y) \\, \\mathrm{d}y\n",
    "\\end{equation}"
   ]
  },
  {
   "cell_type": "markdown",
   "metadata": {},
   "source": [
    "where the functions $c(y)$, $\\alpha_{0\\ell}(y)$, and $\\epsilon_{\\mathrm{g}}(y)$ are the piecewise linear functions defined above."
   ]
  },
  {
   "cell_type": "markdown",
   "metadata": {},
   "source": [
    "Let us resolve the above integral with the aid of Python and the package SymPy."
   ]
  },
  {
   "cell_type": "code",
   "execution_count": null,
   "metadata": {
    "collapsed": false
   },
   "outputs": [],
   "source": [
    "# %run ./src/cranked_wing/init.py\n",
    "#plot_wing_functions(c_r, c_k, c_t, \n",
    "#                    eps_k, eps_t, alpha0l_r, alpha0l_k, alpha0l_t,\n",
    "#                    b_k, b, Lambda_le_1, Lambda_le_2, \n",
    "#                    f_chords, f_Xle, f_twist, f_alpha0l,\n",
    "#                    f_alpha0L_integral_indefinite = alpha0L_law_integral_indefinite)"
   ]
  },
  {
   "cell_type": "markdown",
   "metadata": {},
   "source": [
    "The definite integral is:"
   ]
  },
  {
   "cell_type": "code",
   "execution_count": null,
   "metadata": {
    "collapsed": false
   },
   "outputs": [],
   "source": [
    "# definite integral\n",
    "# alpha0L = (2/S_ref)*(alpha0L_law_integral_indefinite.subs(y,b/2) - alpha0L_law_integral_indefinite.subs(y,0))\n",
    "\n",
    "#print('alpha_0L = {0} rad'.format(alpha0L))\n",
    "#print('alpha_0L = {0} deg'.format(alpha0L*180/math.pi))"
   ]
  },
  {
   "cell_type": "markdown",
   "metadata": {},
   "source": [
    "## TODO: check the above result"
   ]
  },
  {
   "cell_type": "code",
   "execution_count": null,
   "metadata": {
    "collapsed": false
   },
   "outputs": [],
   "source": [
    "%run ./src/cranked_wing/init.py\n",
    "\n",
    "# http://stackoverflow.com/questions/26106833/save-workspace-in-ipython\n",
    "# %run ./src/save_user_variables.py\n",
    "\n",
    "print(f_chord(3, c_r, c_k, c_t, b_k, b, Lambda_le_1, Lambda_le_2))\n",
    "    \n",
    "# https://docs.python.org/3.5/library/shelve.html\n",
    "import shelve\n",
    "store = shelve.open('cranked_wing_store', flag='n')\n",
    "store['c_r'] = c_r\n",
    "store['c_k'] = c_k\n",
    "store['c_t'] = c_t\n",
    "store['b_k'] = b_k\n",
    "store['b'] = b\n",
    "store['Lambda_le_1'] = Lambda_le_1\n",
    "store['Lambda_le_2'] = Lambda_le_2\n",
    "store['S_ref'] = S_ref\n",
    "store['c_mac'] = c_mac\n",
    "store.close()\n",
    "\n",
    "# https://www.quora.com/Can-lambda-functions-and-other-Python-code-be-pickled\n",
    "# import cloudpickle\n",
    "# blob = cloudpickle.dumps(f_chord)"
   ]
  },
  {
   "cell_type": "code",
   "execution_count": null,
   "metadata": {
    "collapsed": true
   },
   "outputs": [],
   "source": []
  }
 ],
 "metadata": {
  "kernelspec": {
   "display_name": "Python 3",
   "language": "python",
   "name": "python3"
  },
  "language_info": {
   "codemirror_mode": {
    "name": "ipython",
    "version": 3
   },
   "file_extension": ".py",
   "mimetype": "text/x-python",
   "name": "python",
   "nbconvert_exporter": "python",
   "pygments_lexer": "ipython3",
   "version": "3.5.1"
  }
 },
 "nbformat": 4,
 "nbformat_minor": 0
}
