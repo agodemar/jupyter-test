{
 "cells": [
  {
   "cell_type": "markdown",
   "metadata": {
    "collapsed": true
   },
   "source": [
    "# This is a test of JSBSim"
   ]
  },
  {
   "cell_type": "markdown",
   "metadata": {},
   "source": [
    "We are going to experiment with the execution of the flight simulation code *JSBSim*.\n",
    "\n",
    "This is the famous formula: $E = m c^2$"
   ]
  },
  {
   "cell_type": "markdown",
   "metadata": {},
   "source": [
    "## First test: a first run"
   ]
  },
  {
   "cell_type": "markdown",
   "metadata": {},
   "source": [
    "Let us now execute an external code, i.e. `JSBSim.exe`. Before doing that, let us check the prompt and the current folder contents."
   ]
  },
  {
   "cell_type": "code",
   "execution_count": 4,
   "metadata": {
    "collapsed": false
   },
   "outputs": [
    {
     "name": "stdout",
     "output_type": "stream",
     "text": [
      " Il volume nell'unit… C non ha etichetta.\n",
      " Numero di serie del volume: 7A0B-F5A2\n",
      "\n",
      " Directory di C:\\Users\\agodemar\\Dropbox\\Jupyter\\JSBSim\n",
      "\n",
      "02/05/2016  12:45    <DIR>          .\n",
      "02/05/2016  12:45    <DIR>          ..\n",
      "02/05/2016  12:41    <DIR>          .ipynb_checkpoints\n",
      "02/05/2016  12:35    <DIR>          aircraft\n",
      "02/05/2016  12:35    <DIR>          check_cases\n",
      "02/05/2016  12:35    <DIR>          engine\n",
      "02/05/2016  12:37           817.849 JSBout172B.csv\n",
      "06/04/2016  11:28         1.367.552 JSBSim.exe\n",
      "02/05/2016  12:35    <DIR>          scripts\n",
      "02/05/2016  12:35    <DIR>          systems\n",
      "02/05/2016  12:45             3.737 test_1.ipynb\n",
      "               3 File      2.189.138 byte\n",
      "               8 Directory  266.243.014.656 byte disponibili\n"
     ]
    }
   ],
   "source": [
    "!dir"
   ]
  },
  {
   "cell_type": "markdown",
   "metadata": {},
   "source": [
    "The exclamation mark `!` means that we can *escape* the notebook and execute a system command (in our case a command prompt)."
   ]
  },
  {
   "cell_type": "markdown",
   "metadata": {},
   "source": [
    "Now we execute simply the `JSBSim.exe` with no options and see what happens."
   ]
  },
  {
   "cell_type": "code",
   "execution_count": 3,
   "metadata": {
    "collapsed": false
   },
   "outputs": [
    {
     "name": "stdout",
     "output_type": "stream",
     "text": [
      "\n",
      "  JSBSim version 1.0 Apr  6 2016 11:27:59\n",
      "\n",
      "  Usage: jsbsim [script file name] [output file names] <options>\n",
      "\n",
      "  options:\n",
      "    --help  returns this message\n",
      "    --version  returns the version number\n",
      "    --outputlogfile=<filename>  sets (overrides) the name of a data output file\n",
      "    --logdirectivefile=<filename>  specifies the name of a data logging directives file\n",
      "                                   (can appear multiple times)\n",
      "    --root=<path>  specifies the JSBSim root directory (where aircraft/, engine/, etc. reside)\n",
      "    --aircraft=<filename>  specifies the name of the aircraft to be modeled\n",
      "    --script=<filename>  specifies a script to run\n",
      "    --realtime  specifies to run in actual real world time\n",
      "    --nice  specifies to run at lower CPU usage\n",
      "    --nohighlight  specifies that console output should be pure text only (no color)\n",
      "    --suspend  specifies to suspend the simulation after initialization\n",
      "    --initfile=<filename>  specifies an initilization file\n",
      "    --catalog specifies that all properties for this aircraft model should be printed\n",
      "              (catalog=aircraftname is an optional format)\n",
      "    --property=<name=value> e.g. --property=simulation/integrator/rate/rotational=1\n",
      "    --simulation-rate=<rate (double)> specifies the sim dT time or frequency\n",
      "                      If rate specified is less than 1, it is interpreted as\n",
      "                      a time step size, otherwise it is assumed to be a rate in Hertz.\n",
      "    --end=<time (double)> specifies the sim end time\n",
      "\n",
      "  NOTE: There can be no spaces around the = sign when\n",
      "        an option is followed by a filename\n",
      "\n"
     ]
    }
   ],
   "source": [
    "!JSBSim.exe"
   ]
  },
  {
   "cell_type": "markdown",
   "metadata": {},
   "source": [
    "Very good! We have JSBSim up and working in the current directory.\n",
    "\n",
    "Now let us see the catalog of the `c172x` aircraft."
   ]
  },
  {
   "cell_type": "code",
   "execution_count": 6,
   "metadata": {
    "collapsed": false
   },
   "outputs": [
    {
     "name": "stderr",
     "output_type": "stream",
     "text": [
      "\n",
      "In file systems/GNCUtilities.xml: line 68\n",
      "      Property navigation/actual-heading-rad is already defined.\n"
     ]
    }
   ],
   "source": [
    "!JSBSim.exe --aircraft=c172x --catalog > catalog_c172x.txt"
   ]
  },
  {
   "cell_type": "markdown",
   "metadata": {},
   "source": [
    "## Second test: a script"
   ]
  },
  {
   "cell_type": "code",
   "execution_count": 9,
   "metadata": {
    "collapsed": false
   },
   "outputs": [
    {
     "name": "stderr",
     "output_type": "stream",
     "text": [
      "\n",
      "In file systems/GNCUtilities.xml: line 68\n",
      "      Property navigation/actual-heading-rad is already defined.\n"
     ]
    }
   ],
   "source": [
    "!JSBSim.exe --script=scripts/c172_elevator_doublet.xml > c172_elevator_doublet.log"
   ]
  },
  {
   "cell_type": "markdown",
   "metadata": {},
   "source": [
    "Let us plot something"
   ]
  },
  {
   "cell_type": "code",
   "execution_count": 14,
   "metadata": {
    "collapsed": true
   },
   "outputs": [],
   "source": [
    "# load libraries and set plot parameters\n",
    "import math\n",
    "import numpy as np\n",
    "\n",
    "import scipy\n",
    "\n",
    "import matplotlib.pyplot as plt\n",
    "from matplotlib.patches import Polygon\n",
    "from matplotlib.ticker import MultipleLocator, FormatStrFormatter\n",
    "%matplotlib inline"
   ]
  },
  {
   "cell_type": "code",
   "execution_count": 12,
   "metadata": {
    "collapsed": false
   },
   "outputs": [],
   "source": [
    "data = np.genfromtxt('JSBout172B.csv', delimiter=',', skip_header=1)"
   ]
  },
  {
   "cell_type": "code",
   "execution_count": 13,
   "metadata": {
    "collapsed": false
   },
   "outputs": [
    {
     "name": "stdout",
     "output_type": "stream",
     "text": [
      "[[  0.00000000e+00   0.00000000e+00  -4.43605614e-04 ...,   4.69999991e+01\n",
      "    1.22000001e+02   2.09276466e+07]\n",
      " [  9.99996000e-02   2.10166602e+00   9.50972244e+00 ...,   4.69999573e+01\n",
      "    1.21999979e+02   2.09276465e+07]\n",
      " [  1.99999200e-01   4.23242416e+00   1.39494364e+01 ...,   4.69999155e+01\n",
      "    1.21999956e+02   2.09276464e+07]\n",
      " ..., \n",
      " [  3.97998408e+01   4.11871222e+00   6.63585422e+00 ...,   4.69947113e+01\n",
      "    1.21990502e+02   2.09271873e+07]\n",
      " [  3.98998404e+01   4.13776984e+00   6.68235999e+00 ...,   4.69947337e+01\n",
      "    1.21990426e+02   2.09271808e+07]\n",
      " [  3.99998400e+01   4.16745989e+00   6.72843727e+00 ...,   4.69947571e+01\n",
      "    1.21990351e+02   2.09271743e+07]]\n"
     ]
    }
   ],
   "source": [
    "print(data)"
   ]
  },
  {
   "cell_type": "code",
   "execution_count": 19,
   "metadata": {
    "collapsed": false
   },
   "outputs": [
    {
     "data": {
      "text/plain": [
       "[<matplotlib.lines.Line2D at 0x2067d4cbe10>]"
      ]
     },
     "execution_count": 19,
     "metadata": {},
     "output_type": "execute_result"
    },
    {
     "data": {
      "image/png": "[encoded data removed]",
      "text/plain": [
       "<matplotlib.figure.Figure at 0x2067cc0c400>"
      ]
     },
     "metadata": {},
     "output_type": "display_data"
    }
   ],
   "source": [
    "fig = plt.figure()\n",
    "\n",
    "ax1 = fig.add_subplot(111)\n",
    "\n",
    "ax1.set_title(\"JSBSim manoeuver\")    \n",
    "ax1.set_xlabel('$t$ (s)')\n",
    "ax1.set_ylabel('$q$ (deg/s)')\n",
    "\n",
    "ax1.plot(data[:,0], data[:,2], color='r', label='the data')"
   ]
  },
  {
   "cell_type": "code",
   "execution_count": null,
   "metadata": {
    "collapsed": true
   },
   "outputs": [],
   "source": []
  }
 ],
 "metadata": {
  "kernelspec": {
   "display_name": "Python 3",
   "language": "python",
   "name": "python3"
  },
  "language_info": {
   "codemirror_mode": {
    "name": "ipython",
    "version": 3
   },
   "file_extension": ".py",
   "mimetype": "text/x-python",
   "name": "python",
   "nbconvert_exporter": "python",
   "pygments_lexer": "ipython3",
   "version": "3.5.1"
  }
 },
 "nbformat": 4,
 "nbformat_minor": 0
}
